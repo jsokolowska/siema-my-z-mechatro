{
  "nbformat": 4,
  "nbformat_minor": 0,
  "metadata": {
    "colab": {
      "name": "wersja ładna",
      "provenance": [],
      "collapsed_sections": [],
      "toc_visible": true,
      "include_colab_link": true
    },
    "kernelspec": {
      "name": "python3",
      "display_name": "Python 3"
    },
    "language_info": {
      "name": "python"
    }
  },
  "cells": [
    {
      "cell_type": "markdown",
      "metadata": {
        "id": "view-in-github",
        "colab_type": "text"
      },
      "source": [
        "<a href=\"https://colab.research.google.com/github/jsokolowska/siema-my-z-mechatro/blob/main/SiemaMyZMechatro.ipynb\" target=\"_parent\"><img src=\"https://colab.research.google.com/assets/colab-badge.svg\" alt=\"Open In Colab\"/></a>"
      ]
    },
    {
      "cell_type": "markdown",
      "metadata": {
        "id": "gT9RLkk28aZm"
      },
      "source": [
        "Setup\n",
        "=====\n"
      ]
    },
    {
      "cell_type": "code",
      "metadata": {
        "id": "_bx_Im-7pPeB",
        "colab": {
          "base_uri": "https://localhost:8080/"
        },
        "outputId": "f8c23a7c-b190-46eb-ab00-281e805efaa5"
      },
      "source": [
        "from google.colab import drive\n",
        "drive.mount('/content/drive')"
      ],
      "execution_count": null,
      "outputs": [
        {
          "output_type": "stream",
          "text": [
            "Drive already mounted at /content/drive; to attempt to forcibly remount, call drive.mount(\"/content/drive\", force_remount=True).\n"
          ],
          "name": "stdout"
        }
      ]
    },
    {
      "cell_type": "code",
      "metadata": {
        "id": "j4IeP11WmiUG"
      },
      "source": [
        "import pandas as pd\n",
        "import numpy as np\n",
        "import seaborn as sns\n",
        "import matplotlib.pyplot as plt\n",
        "from sklearn.linear_model import LogisticRegression, LogisticRegressionCV\n",
        "from sklearn.model_selection import train_test_split\n",
        "from sklearn.metrics import mutual_info_score\n",
        "from sklearn.preprocessing import LabelEncoder\n",
        "from scipy.stats import spearmanr\n",
        "from plotly.offline import download_plotlyjs, init_notebook_mode, plot, iplot\n",
        "import plotly.express as px\n",
        "\n",
        "import warnings\n",
        "warnings.filterwarnings('ignore')"
      ],
      "execution_count": null,
      "outputs": []
    },
    {
      "cell_type": "code",
      "metadata": {
        "colab": {
          "base_uri": "https://localhost:8080/",
          "height": 286
        },
        "id": "BHOGhrVh8Wf1",
        "outputId": "a0cf86f4-5d05-46ec-d552-61d468b58fe3"
      },
      "source": [
        "data_path = \"/content/drive/MyDrive/Data/hackathon/final_train.csv\"\n",
        "\n",
        "df = pd.read_csv(data_path, index_col=0)\n",
        "df.head()"
      ],
      "execution_count": null,
      "outputs": [
        {
          "output_type": "execute_result",
          "data": {
            "text/html": [
              "<div>\n",
              "<style scoped>\n",
              "    .dataframe tbody tr th:only-of-type {\n",
              "        vertical-align: middle;\n",
              "    }\n",
              "\n",
              "    .dataframe tbody tr th {\n",
              "        vertical-align: top;\n",
              "    }\n",
              "\n",
              "    .dataframe thead th {\n",
              "        text-align: right;\n",
              "    }\n",
              "</style>\n",
              "<table border=\"1\" class=\"dataframe\">\n",
              "  <thead>\n",
              "    <tr style=\"text-align: right;\">\n",
              "      <th></th>\n",
              "      <th>Activity</th>\n",
              "      <th>angle(X,gravityMean)</th>\n",
              "      <th>angle(Y,gravityMean)</th>\n",
              "      <th>angle(Z,gravityMean)</th>\n",
              "      <th>angle(tBodyAccJerkMean),gravityMean)</th>\n",
              "      <th>angle(tBodyAccMean,gravity)</th>\n",
              "      <th>angle(tBodyGyroJerkMean,gravityMean)</th>\n",
              "      <th>angle(tBodyGyroMean,gravityMean)</th>\n",
              "      <th>energy-mean()</th>\n",
              "      <th>fBodyAcc-bandsEnergy()-1,16</th>\n",
              "      <th>fBodyAcc-bandsEnergy()-1,16.1</th>\n",
              "      <th>fBodyAcc-bandsEnergy()-1,16.2</th>\n",
              "      <th>fBodyAcc-bandsEnergy()-1,24</th>\n",
              "      <th>fBodyAcc-bandsEnergy()-1,24.1</th>\n",
              "      <th>fBodyAcc-bandsEnergy()-1,24.2</th>\n",
              "      <th>fBodyAcc-bandsEnergy()-1,8</th>\n",
              "      <th>fBodyAcc-bandsEnergy()-1,8.1</th>\n",
              "      <th>fBodyAcc-bandsEnergy()-1,8.2</th>\n",
              "      <th>fBodyAcc-bandsEnergy()-17,24</th>\n",
              "      <th>fBodyAcc-bandsEnergy()-17,24.1</th>\n",
              "      <th>fBodyAcc-bandsEnergy()-17,24.2</th>\n",
              "      <th>fBodyAcc-bandsEnergy()-17,32</th>\n",
              "      <th>fBodyAcc-bandsEnergy()-17,32.1</th>\n",
              "      <th>fBodyAcc-bandsEnergy()-17,32.2</th>\n",
              "      <th>fBodyAcc-bandsEnergy()-25,32</th>\n",
              "      <th>fBodyAcc-bandsEnergy()-25,32.1</th>\n",
              "      <th>fBodyAcc-bandsEnergy()-25,32.2</th>\n",
              "      <th>fBodyAcc-bandsEnergy()-25,48</th>\n",
              "      <th>fBodyAcc-bandsEnergy()-25,48.1</th>\n",
              "      <th>fBodyAcc-bandsEnergy()-25,48.2</th>\n",
              "      <th>fBodyAcc-bandsEnergy()-33,40</th>\n",
              "      <th>fBodyAcc-bandsEnergy()-33,40.1</th>\n",
              "      <th>fBodyAcc-bandsEnergy()-33,40.2</th>\n",
              "      <th>fBodyAcc-bandsEnergy()-33,48</th>\n",
              "      <th>fBodyAcc-bandsEnergy()-33,48.1</th>\n",
              "      <th>fBodyAcc-bandsEnergy()-33,48.2</th>\n",
              "      <th>fBodyAcc-bandsEnergy()-41,48</th>\n",
              "      <th>fBodyAcc-bandsEnergy()-41,48.1</th>\n",
              "      <th>fBodyAcc-bandsEnergy()-41,48.2</th>\n",
              "      <th>fBodyAcc-bandsEnergy()-49,56</th>\n",
              "      <th>...</th>\n",
              "      <th>tGravityAcc-correlation()-Y,Z</th>\n",
              "      <th>tGravityAcc-energy()-X</th>\n",
              "      <th>tGravityAcc-energy()-Y</th>\n",
              "      <th>tGravityAcc-energy()-Z</th>\n",
              "      <th>tGravityAcc-entropy()-X</th>\n",
              "      <th>tGravityAcc-entropy()-Y</th>\n",
              "      <th>tGravityAcc-entropy()-Z</th>\n",
              "      <th>tGravityAcc-iqr()-X</th>\n",
              "      <th>tGravityAcc-iqr()-Y</th>\n",
              "      <th>tGravityAcc-iqr()-Z</th>\n",
              "      <th>tGravityAcc-mad()-X</th>\n",
              "      <th>tGravityAcc-mad()-Y</th>\n",
              "      <th>tGravityAcc-mad()-Z</th>\n",
              "      <th>tGravityAcc-max()-X</th>\n",
              "      <th>tGravityAcc-max()-Y</th>\n",
              "      <th>tGravityAcc-max()-Z</th>\n",
              "      <th>tGravityAcc-mean()-X</th>\n",
              "      <th>tGravityAcc-mean()-Y</th>\n",
              "      <th>tGravityAcc-mean()-Z</th>\n",
              "      <th>tGravityAcc-min()-X</th>\n",
              "      <th>tGravityAcc-min()-Y</th>\n",
              "      <th>tGravityAcc-min()-Z</th>\n",
              "      <th>tGravityAcc-sma()</th>\n",
              "      <th>tGravityAcc-std()-X</th>\n",
              "      <th>tGravityAcc-std()-Y</th>\n",
              "      <th>tGravityAcc-std()-Z</th>\n",
              "      <th>tGravityAccMag-arCoeff()1</th>\n",
              "      <th>tGravityAccMag-arCoeff()2</th>\n",
              "      <th>tGravityAccMag-arCoeff()3</th>\n",
              "      <th>tGravityAccMag-arCoeff()4</th>\n",
              "      <th>tGravityAccMag-energy()</th>\n",
              "      <th>tGravityAccMag-entropy()</th>\n",
              "      <th>tGravityAccMag-iqr()</th>\n",
              "      <th>tGravityAccMag-mad()</th>\n",
              "      <th>tGravityAccMag-max()</th>\n",
              "      <th>tGravityAccMag-mean()</th>\n",
              "      <th>tGravityAccMag-min()</th>\n",
              "      <th>tGravityAccMag-sma()</th>\n",
              "      <th>tGravityAccMag-std()</th>\n",
              "      <th>void()</th>\n",
              "    </tr>\n",
              "  </thead>\n",
              "  <tbody>\n",
              "    <tr>\n",
              "      <th>0</th>\n",
              "      <td>STANDING</td>\n",
              "      <td>-1.574191</td>\n",
              "      <td>-0.805700</td>\n",
              "      <td>-2.453831</td>\n",
              "      <td>-1.861714</td>\n",
              "      <td>0.115517</td>\n",
              "      <td>-2.023369</td>\n",
              "      <td>3.125860</td>\n",
              "      <td>-9.474436</td>\n",
              "      <td>3.622600</td>\n",
              "      <td>6.137246</td>\n",
              "      <td>2.503062</td>\n",
              "      <td>5.776680</td>\n",
              "      <td>3.242765</td>\n",
              "      <td>-1.352936</td>\n",
              "      <td>-1.537732</td>\n",
              "      <td>2.828395</td>\n",
              "      <td>8.603183</td>\n",
              "      <td>-2.228620</td>\n",
              "      <td>5.355308</td>\n",
              "      <td>3.987723</td>\n",
              "      <td>1.880228</td>\n",
              "      <td>1.384042</td>\n",
              "      <td>-2.163548</td>\n",
              "      <td>0.483175</td>\n",
              "      <td>2.942713</td>\n",
              "      <td>5.837147</td>\n",
              "      <td>2.957527</td>\n",
              "      <td>-1.770934</td>\n",
              "      <td>-5.580564</td>\n",
              "      <td>13.725027</td>\n",
              "      <td>1.724643</td>\n",
              "      <td>-0.519345</td>\n",
              "      <td>4.233416</td>\n",
              "      <td>0.953127</td>\n",
              "      <td>0.807692</td>\n",
              "      <td>2.624547</td>\n",
              "      <td>-3.005993</td>\n",
              "      <td>3.329588</td>\n",
              "      <td>2.866778</td>\n",
              "      <td>...</td>\n",
              "      <td>2.988204</td>\n",
              "      <td>1.531084</td>\n",
              "      <td>-3.422785</td>\n",
              "      <td>1.852121</td>\n",
              "      <td>8.394366</td>\n",
              "      <td>3.246233</td>\n",
              "      <td>0.937300</td>\n",
              "      <td>4.725389</td>\n",
              "      <td>-1.578871</td>\n",
              "      <td>-0.442374</td>\n",
              "      <td>4.068593</td>\n",
              "      <td>4.705346</td>\n",
              "      <td>7.195449</td>\n",
              "      <td>-6.003664</td>\n",
              "      <td>0.607255</td>\n",
              "      <td>-1.499318</td>\n",
              "      <td>2.246320</td>\n",
              "      <td>2.861260</td>\n",
              "      <td>3.815614</td>\n",
              "      <td>-2.151051</td>\n",
              "      <td>-3.122438</td>\n",
              "      <td>-0.336110</td>\n",
              "      <td>6.357369</td>\n",
              "      <td>3.741996</td>\n",
              "      <td>1.394575</td>\n",
              "      <td>4.017211</td>\n",
              "      <td>2.481302</td>\n",
              "      <td>5.774536</td>\n",
              "      <td>1.754626</td>\n",
              "      <td>1.180533</td>\n",
              "      <td>5.049130</td>\n",
              "      <td>3.272281</td>\n",
              "      <td>5.103018</td>\n",
              "      <td>-0.823302</td>\n",
              "      <td>3.063681</td>\n",
              "      <td>-0.928676</td>\n",
              "      <td>-1.007695</td>\n",
              "      <td>3.094236</td>\n",
              "      <td>1.669987</td>\n",
              "      <td>1.0</td>\n",
              "    </tr>\n",
              "    <tr>\n",
              "      <th>1</th>\n",
              "      <td>WALKING_UPSTAIRS</td>\n",
              "      <td>-1.568669</td>\n",
              "      <td>-0.612620</td>\n",
              "      <td>-2.488338</td>\n",
              "      <td>-1.751117</td>\n",
              "      <td>0.218134</td>\n",
              "      <td>0.280294</td>\n",
              "      <td>7.953403</td>\n",
              "      <td>-0.679894</td>\n",
              "      <td>2.512880</td>\n",
              "      <td>5.740178</td>\n",
              "      <td>2.803435</td>\n",
              "      <td>5.484726</td>\n",
              "      <td>2.102368</td>\n",
              "      <td>-1.355854</td>\n",
              "      <td>-1.416568</td>\n",
              "      <td>2.527046</td>\n",
              "      <td>8.046001</td>\n",
              "      <td>-1.986672</td>\n",
              "      <td>5.284168</td>\n",
              "      <td>3.598328</td>\n",
              "      <td>1.892567</td>\n",
              "      <td>1.417711</td>\n",
              "      <td>-2.027475</td>\n",
              "      <td>0.436458</td>\n",
              "      <td>2.908602</td>\n",
              "      <td>5.819734</td>\n",
              "      <td>2.551773</td>\n",
              "      <td>-1.756530</td>\n",
              "      <td>-5.503246</td>\n",
              "      <td>13.251491</td>\n",
              "      <td>1.714753</td>\n",
              "      <td>-0.552312</td>\n",
              "      <td>3.566532</td>\n",
              "      <td>0.922455</td>\n",
              "      <td>0.726768</td>\n",
              "      <td>2.081277</td>\n",
              "      <td>-3.081267</td>\n",
              "      <td>3.140684</td>\n",
              "      <td>2.684137</td>\n",
              "      <td>...</td>\n",
              "      <td>2.859864</td>\n",
              "      <td>1.585023</td>\n",
              "      <td>-3.387872</td>\n",
              "      <td>1.698743</td>\n",
              "      <td>8.112279</td>\n",
              "      <td>1.926083</td>\n",
              "      <td>2.348895</td>\n",
              "      <td>4.719540</td>\n",
              "      <td>-1.521161</td>\n",
              "      <td>-0.463599</td>\n",
              "      <td>4.063648</td>\n",
              "      <td>4.730261</td>\n",
              "      <td>7.221653</td>\n",
              "      <td>-5.789276</td>\n",
              "      <td>0.417687</td>\n",
              "      <td>-0.703212</td>\n",
              "      <td>2.488702</td>\n",
              "      <td>2.391994</td>\n",
              "      <td>5.884982</td>\n",
              "      <td>-2.187197</td>\n",
              "      <td>-3.306482</td>\n",
              "      <td>-0.814718</td>\n",
              "      <td>6.077734</td>\n",
              "      <td>3.720622</td>\n",
              "      <td>1.202847</td>\n",
              "      <td>4.050714</td>\n",
              "      <td>4.539801</td>\n",
              "      <td>4.618405</td>\n",
              "      <td>1.727481</td>\n",
              "      <td>0.220730</td>\n",
              "      <td>4.565443</td>\n",
              "      <td>4.440779</td>\n",
              "      <td>3.288399</td>\n",
              "      <td>-2.689605</td>\n",
              "      <td>1.705341</td>\n",
              "      <td>-0.822617</td>\n",
              "      <td>-0.572410</td>\n",
              "      <td>-2.187890</td>\n",
              "      <td>-0.544652</td>\n",
              "      <td>2.0</td>\n",
              "    </tr>\n",
              "    <tr>\n",
              "      <th>2</th>\n",
              "      <td>LAYING</td>\n",
              "      <td>-1.548333</td>\n",
              "      <td>-0.139628</td>\n",
              "      <td>-2.380889</td>\n",
              "      <td>-1.915239</td>\n",
              "      <td>0.067613</td>\n",
              "      <td>-0.887342</td>\n",
              "      <td>6.007361</td>\n",
              "      <td>-11.906904</td>\n",
              "      <td>3.621984</td>\n",
              "      <td>6.158630</td>\n",
              "      <td>2.495276</td>\n",
              "      <td>5.776843</td>\n",
              "      <td>3.314383</td>\n",
              "      <td>-1.352860</td>\n",
              "      <td>-1.537483</td>\n",
              "      <td>2.845718</td>\n",
              "      <td>8.618923</td>\n",
              "      <td>-2.232214</td>\n",
              "      <td>5.378175</td>\n",
              "      <td>3.998898</td>\n",
              "      <td>1.879989</td>\n",
              "      <td>1.372814</td>\n",
              "      <td>-2.169002</td>\n",
              "      <td>0.485317</td>\n",
              "      <td>2.957325</td>\n",
              "      <td>5.841023</td>\n",
              "      <td>2.974139</td>\n",
              "      <td>-1.775050</td>\n",
              "      <td>-5.600164</td>\n",
              "      <td>13.743085</td>\n",
              "      <td>1.726239</td>\n",
              "      <td>-0.505341</td>\n",
              "      <td>4.256780</td>\n",
              "      <td>0.957134</td>\n",
              "      <td>0.831419</td>\n",
              "      <td>2.640759</td>\n",
              "      <td>-2.999393</td>\n",
              "      <td>3.359696</td>\n",
              "      <td>2.868557</td>\n",
              "      <td>...</td>\n",
              "      <td>3.717038</td>\n",
              "      <td>1.851578</td>\n",
              "      <td>-4.070744</td>\n",
              "      <td>1.220517</td>\n",
              "      <td>7.690866</td>\n",
              "      <td>3.055395</td>\n",
              "      <td>1.937417</td>\n",
              "      <td>4.684114</td>\n",
              "      <td>-1.580576</td>\n",
              "      <td>-0.359234</td>\n",
              "      <td>4.037395</td>\n",
              "      <td>4.702534</td>\n",
              "      <td>7.377977</td>\n",
              "      <td>-3.868737</td>\n",
              "      <td>0.037068</td>\n",
              "      <td>-2.863580</td>\n",
              "      <td>4.616200</td>\n",
              "      <td>1.336379</td>\n",
              "      <td>0.032001</td>\n",
              "      <td>-2.500477</td>\n",
              "      <td>-3.788376</td>\n",
              "      <td>0.559196</td>\n",
              "      <td>5.893237</td>\n",
              "      <td>3.621391</td>\n",
              "      <td>1.430272</td>\n",
              "      <td>4.146776</td>\n",
              "      <td>3.005560</td>\n",
              "      <td>5.407139</td>\n",
              "      <td>1.731942</td>\n",
              "      <td>0.066625</td>\n",
              "      <td>5.059609</td>\n",
              "      <td>2.296603</td>\n",
              "      <td>5.344174</td>\n",
              "      <td>-0.549843</td>\n",
              "      <td>3.272225</td>\n",
              "      <td>-0.940610</td>\n",
              "      <td>-1.031522</td>\n",
              "      <td>-2.071755</td>\n",
              "      <td>2.024442</td>\n",
              "      <td>3.0</td>\n",
              "    </tr>\n",
              "    <tr>\n",
              "      <th>3</th>\n",
              "      <td>WALKING</td>\n",
              "      <td>-1.574094</td>\n",
              "      <td>-0.793443</td>\n",
              "      <td>-2.449959</td>\n",
              "      <td>-1.842741</td>\n",
              "      <td>-0.195625</td>\n",
              "      <td>-0.950671</td>\n",
              "      <td>2.104353</td>\n",
              "      <td>-11.906121</td>\n",
              "      <td>3.355701</td>\n",
              "      <td>5.695567</td>\n",
              "      <td>2.592818</td>\n",
              "      <td>5.705653</td>\n",
              "      <td>1.968913</td>\n",
              "      <td>-1.353831</td>\n",
              "      <td>-1.490043</td>\n",
              "      <td>2.591209</td>\n",
              "      <td>8.453702</td>\n",
              "      <td>-2.161158</td>\n",
              "      <td>5.266233</td>\n",
              "      <td>3.829890</td>\n",
              "      <td>1.883672</td>\n",
              "      <td>1.424886</td>\n",
              "      <td>-2.101272</td>\n",
              "      <td>0.470061</td>\n",
              "      <td>2.911815</td>\n",
              "      <td>5.814566</td>\n",
              "      <td>2.874860</td>\n",
              "      <td>-1.751153</td>\n",
              "      <td>-5.505907</td>\n",
              "      <td>13.659326</td>\n",
              "      <td>1.708279</td>\n",
              "      <td>-0.517098</td>\n",
              "      <td>4.159184</td>\n",
              "      <td>0.895400</td>\n",
              "      <td>0.763995</td>\n",
              "      <td>2.589019</td>\n",
              "      <td>-3.171689</td>\n",
              "      <td>3.110759</td>\n",
              "      <td>2.847134</td>\n",
              "      <td>...</td>\n",
              "      <td>5.583209</td>\n",
              "      <td>1.532973</td>\n",
              "      <td>-3.414331</td>\n",
              "      <td>1.847189</td>\n",
              "      <td>8.394366</td>\n",
              "      <td>3.246233</td>\n",
              "      <td>1.256970</td>\n",
              "      <td>4.708756</td>\n",
              "      <td>-1.557720</td>\n",
              "      <td>-0.407105</td>\n",
              "      <td>4.057461</td>\n",
              "      <td>4.715538</td>\n",
              "      <td>7.303903</td>\n",
              "      <td>-6.003662</td>\n",
              "      <td>0.592027</td>\n",
              "      <td>-1.554225</td>\n",
              "      <td>2.254465</td>\n",
              "      <td>2.830937</td>\n",
              "      <td>3.575867</td>\n",
              "      <td>-2.153766</td>\n",
              "      <td>-3.131598</td>\n",
              "      <td>-0.272234</td>\n",
              "      <td>6.314269</td>\n",
              "      <td>3.698913</td>\n",
              "      <td>1.319806</td>\n",
              "      <td>4.098944</td>\n",
              "      <td>3.957257</td>\n",
              "      <td>5.202196</td>\n",
              "      <td>1.735761</td>\n",
              "      <td>-0.454503</td>\n",
              "      <td>4.860758</td>\n",
              "      <td>4.177535</td>\n",
              "      <td>3.950012</td>\n",
              "      <td>-0.322642</td>\n",
              "      <td>2.366287</td>\n",
              "      <td>-0.866937</td>\n",
              "      <td>-0.696431</td>\n",
              "      <td>1.863375</td>\n",
              "      <td>0.550414</td>\n",
              "      <td>2.0</td>\n",
              "    </tr>\n",
              "    <tr>\n",
              "      <th>4</th>\n",
              "      <td>LAYING</td>\n",
              "      <td>-1.548333</td>\n",
              "      <td>-0.139628</td>\n",
              "      <td>-2.380889</td>\n",
              "      <td>NaN</td>\n",
              "      <td>0.067613</td>\n",
              "      <td>-0.887342</td>\n",
              "      <td>6.007361</td>\n",
              "      <td>-11.970485</td>\n",
              "      <td>3.621984</td>\n",
              "      <td>6.158630</td>\n",
              "      <td>2.495276</td>\n",
              "      <td>5.776843</td>\n",
              "      <td>3.314383</td>\n",
              "      <td>-1.352860</td>\n",
              "      <td>-1.537483</td>\n",
              "      <td>2.845718</td>\n",
              "      <td>8.618923</td>\n",
              "      <td>-2.232214</td>\n",
              "      <td>5.378175</td>\n",
              "      <td>3.998898</td>\n",
              "      <td>1.879989</td>\n",
              "      <td>1.372814</td>\n",
              "      <td>-2.169002</td>\n",
              "      <td>0.485317</td>\n",
              "      <td>2.957325</td>\n",
              "      <td>5.841023</td>\n",
              "      <td>2.974139</td>\n",
              "      <td>-1.775050</td>\n",
              "      <td>-5.600164</td>\n",
              "      <td>13.743085</td>\n",
              "      <td>1.726239</td>\n",
              "      <td>-0.505341</td>\n",
              "      <td>4.256780</td>\n",
              "      <td>0.957134</td>\n",
              "      <td>0.831419</td>\n",
              "      <td>2.640759</td>\n",
              "      <td>NaN</td>\n",
              "      <td>3.359696</td>\n",
              "      <td>2.868557</td>\n",
              "      <td>...</td>\n",
              "      <td>3.717038</td>\n",
              "      <td>1.851578</td>\n",
              "      <td>-4.070744</td>\n",
              "      <td>1.220517</td>\n",
              "      <td>7.690866</td>\n",
              "      <td>3.055395</td>\n",
              "      <td>1.937417</td>\n",
              "      <td>4.684114</td>\n",
              "      <td>-1.580576</td>\n",
              "      <td>-0.359234</td>\n",
              "      <td>4.037395</td>\n",
              "      <td>4.702534</td>\n",
              "      <td>7.377977</td>\n",
              "      <td>-3.868737</td>\n",
              "      <td>0.037068</td>\n",
              "      <td>-2.863580</td>\n",
              "      <td>4.616200</td>\n",
              "      <td>1.336379</td>\n",
              "      <td>0.032001</td>\n",
              "      <td>-2.500477</td>\n",
              "      <td>NaN</td>\n",
              "      <td>0.559196</td>\n",
              "      <td>5.893237</td>\n",
              "      <td>3.621391</td>\n",
              "      <td>1.430272</td>\n",
              "      <td>4.146776</td>\n",
              "      <td>3.005560</td>\n",
              "      <td>5.407139</td>\n",
              "      <td>1.731942</td>\n",
              "      <td>0.066625</td>\n",
              "      <td>5.059609</td>\n",
              "      <td>2.296603</td>\n",
              "      <td>5.344174</td>\n",
              "      <td>-0.549843</td>\n",
              "      <td>3.272225</td>\n",
              "      <td>-0.940610</td>\n",
              "      <td>-1.031522</td>\n",
              "      <td>-2.102513</td>\n",
              "      <td>2.024442</td>\n",
              "      <td>3.0</td>\n",
              "    </tr>\n",
              "  </tbody>\n",
              "</table>\n",
              "<p>5 rows × 572 columns</p>\n",
              "</div>"
            ],
            "text/plain": [
              "           Activity  angle(X,gravityMean)  ...  tGravityAccMag-std()  void()\n",
              "0          STANDING             -1.574191  ...              1.669987     1.0\n",
              "1  WALKING_UPSTAIRS             -1.568669  ...             -0.544652     2.0\n",
              "2            LAYING             -1.548333  ...              2.024442     3.0\n",
              "3           WALKING             -1.574094  ...              0.550414     2.0\n",
              "4            LAYING             -1.548333  ...              2.024442     3.0\n",
              "\n",
              "[5 rows x 572 columns]"
            ]
          },
          "metadata": {
            "tags": []
          },
          "execution_count": 3
        }
      ]
    },
    {
      "cell_type": "code",
      "metadata": {
        "id": "1XVoccPFvZWZ"
      },
      "source": [
        "X = df.drop(\"Activity\", axis=1)\n",
        "y = df[\"Activity\"]"
      ],
      "execution_count": null,
      "outputs": []
    },
    {
      "cell_type": "markdown",
      "metadata": {
        "id": "yZca6aqHzIaZ"
      },
      "source": [
        "Analiza danych \n",
        "===\n"
      ]
    },
    {
      "cell_type": "markdown",
      "metadata": {
        "id": "fD2GS2uZzlRU"
      },
      "source": [
        "Znaczenie kolumn na pierwszy rzut oka nie jest jasne, jednak chwila przeszukiwania internetu i można znaleźć dobre wyjaśnienie tych danych np. https://github.com/KarthikMurugadoss1804/Human-Activity-Recognition.\n",
        "\n",
        "Jednak pewne atrybuty od początku wzbudzają wątpliwości, np. atrybut void() wydaje się być zupełnie przypadkowo dodany. Pozostałe atrybuty wydają sie sensownie dobrane. \n",
        "\n",
        "Można też zauważyć pewną powtarzalność - są \"sparowane\" atrybuty zaczynające się od t lub od f, które zgodnie z podlinkowanych artykułek powstały po zastosowaniu transformaty fouriera dla atrybutów zaczynających się od \"t\". To potencjalna redundacja, którą prawdopodobnie można bezstratnie usunąć. "
      ]
    },
    {
      "cell_type": "code",
      "metadata": {
        "colab": {
          "base_uri": "https://localhost:8080/"
        },
        "id": "8ENidhUe-Gg6",
        "outputId": "2f512565-6053-4afb-806a-4b9f432974aa"
      },
      "source": [
        "df[\"Activity\"].unique()"
      ],
      "execution_count": null,
      "outputs": [
        {
          "output_type": "execute_result",
          "data": {
            "text/plain": [
              "array(['STANDING', 'WALKING_UPSTAIRS', 'LAYING', 'WALKING', 'SITTING',\n",
              "       'WALKING_DOWNSTAIRS'], dtype=object)"
            ]
          },
          "metadata": {
            "tags": []
          },
          "execution_count": 5
        }
      ]
    },
    {
      "cell_type": "code",
      "metadata": {
        "colab": {
          "base_uri": "https://localhost:8080/",
          "height": 623
        },
        "id": "Ukh6PjS5CTjS",
        "outputId": "e3359c31-1a0b-4e00-ccb2-dad14cfbab22"
      },
      "source": [
        "import seaborn as sns\n",
        "import matplotlib.pyplot as plt\n",
        "plt.figure(figsize=(12,10))\n",
        "sns.set_style(\"dark\")\n",
        "sns.histplot(df[\"Activity\"], edgecolor='white')"
      ],
      "execution_count": null,
      "outputs": [
        {
          "output_type": "execute_result",
          "data": {
            "text/plain": [
              "<matplotlib.axes._subplots.AxesSubplot at 0x7fb2edf26810>"
            ]
          },
          "metadata": {
            "tags": []
          },
          "execution_count": 6
        },
        {
          "output_type": "display_data",
          "data": {
            "image/png": "[encoded data removed]",
            "text/plain": [
              "<Figure size 864x720 with 1 Axes>"
            ]
          },
          "metadata": {
            "tags": [],
            "needs_background": "light"
          }
        }
      ]
    },
    {
      "cell_type": "markdown",
      "metadata": {
        "id": "xXqnqelGqdIE"
      },
      "source": [
        "Klasy są w miare równomniernie rozłożone, więc nie powinny powodować problemów podczas klasyfikacji. \n",
        "\n",
        "Z wykresu wynika, że liczebności klas w naszym zbiorze testowym mają te same rzędy wielkości i ich rozkład jest w miarę równoważny. W związku z tym do oceny jakości modelu użyjemy prostej metryki - dokładności (ang. accuracy), obliczanej przez użycie metody score() na modelu z sklearn."
      ]
    },
    {
      "cell_type": "code",
      "metadata": {
        "colab": {
          "base_uri": "https://localhost:8080/"
        },
        "id": "zecsF_rG36u3",
        "outputId": "fc713101-5f7a-4f7c-c6e1-33426ecbac42"
      },
      "source": [
        "# sprawdzenie jak wiele wartości jest pustych\n",
        "df.isnull().sum()"
      ],
      "execution_count": null,
      "outputs": [
        {
          "output_type": "execute_result",
          "data": {
            "text/plain": [
              "Activity                                 0\n",
              "angle(X,gravityMean)                    57\n",
              "angle(Y,gravityMean)                    68\n",
              "angle(Z,gravityMean)                    60\n",
              "angle(tBodyAccJerkMean),gravityMean)    52\n",
              "                                        ..\n",
              "tGravityAccMag-mean()                   65\n",
              "tGravityAccMag-min()                    66\n",
              "tGravityAccMag-sma()                    57\n",
              "tGravityAccMag-std()                    46\n",
              "void()                                  65\n",
              "Length: 572, dtype: int64"
            ]
          },
          "metadata": {
            "tags": []
          },
          "execution_count": 7
        }
      ]
    },
    {
      "cell_type": "code",
      "metadata": {
        "colab": {
          "base_uri": "https://localhost:8080/"
        },
        "id": "ae2dDhYNq3Bs",
        "outputId": "f587b1f8-c12b-4f4b-a8c8-dc12975e5d7b"
      },
      "source": [
        "df.isnull().sum(axis=1).describe()"
      ],
      "execution_count": null,
      "outputs": [
        {
          "output_type": "execute_result",
          "data": {
            "text/plain": [
              "count    11086.000000\n",
              "mean         2.943893\n",
              "std          8.422681\n",
              "min          0.000000\n",
              "25%          0.000000\n",
              "50%          0.000000\n",
              "75%          0.000000\n",
              "max         40.000000\n",
              "dtype: float64"
            ]
          },
          "metadata": {
            "tags": []
          },
          "execution_count": 8
        }
      ]
    },
    {
      "cell_type": "markdown",
      "metadata": {
        "id": "T4Bo3pVEqqpo"
      },
      "source": [
        "Największa ilość brakujących danych w wierszu wynosi 40. Dyspoując ponad 500 atrybutami zdecydowaliśmy się na wypełnienie brakujących wartości średnią z wartości kolumny danego atrybutu. Dzięki temu nie tracimy danych treningowych, które są bardzo istotne, ponieważ przy 500 atrybutach potrzeba duzej ilości danych aby zbadać wszystkie kombinacje wartości."
      ]
    },
    {
      "cell_type": "code",
      "metadata": {
        "id": "G8JrH4uu4IlG"
      },
      "source": [
        "# filling empty spaces with mean\n",
        "df = df.fillna(df.mean())"
      ],
      "execution_count": null,
      "outputs": []
    },
    {
      "cell_type": "markdown",
      "metadata": {
        "id": "ODLoYKHos0PJ"
      },
      "source": [
        "Dane zostały zebrane z 30 osób, na których dokonywane były różne pomiary w trakcie wykonywania różnych czynności. Dane o tym, od której osoby otrzymany jest dany pomiar są zapisane w kolumnie “subject”. Jeśli chcielibyśmy zastosować model do predykcji na podstawie pomiarów otrzymanych od osoby, która nie była w grupie testowej to informacje nauczone na podstawie kolumny “subject”  są w najlepszym przypadku bezużyteczne, a w najgorszym powodują przeuczenie do danych testowych. W związku z tym na samym początku ta kolumna zostanie usunięta. Może to spowodować pogorszenie wyników na zbiorze testowym, bo on również zawiera dane od osób z grupy testowej, ale takie podejście zdecydowanie poprawia możliwości generalizacji modelu."
      ]
    },
    {
      "cell_type": "code",
      "metadata": {
        "id": "9DcSs0hGs3ra"
      },
      "source": [
        "df = df.drop(columns='subject')"
      ],
      "execution_count": null,
      "outputs": []
    },
    {
      "cell_type": "markdown",
      "metadata": {
        "id": "eKI4V1Q9TUu4"
      },
      "source": [
        "Redukcja wymiarowości \n",
        "=====\n",
        "Redukcja wymiarowości poprzez selekcję atrybutów\n",
        "\n",
        "Z testów wstępnych wynika, że bardzo dobre wyniki otrzymuje prosty liniowy model regresji logistycznej (Podejrzewamy, że wynika to z tego, że w danych testowych występuje wiele “sztucznych” wysokopoziomowych atrybutów, które zawierają informacje o niektórych nieliniowych związkach z podstawowymi atrybutami pomiarów). W związku z tym do wyboru mało informatywnych atrybutów użyjemy korelacji spearmana (ponieważ klasy mają wartości kategoryczne, dla których kodowanie liczbowe nie miałoby sensu), która wykrywa tylko liniowe związki - co w przypadku naszego modelu w zupełności wystarczy."
      ]
    },
    {
      "cell_type": "code",
      "metadata": {
        "id": "KPuyat5-CTTU"
      },
      "source": [
        "# sprawdzenie korelacji atrybutów z atrybutem klasyfikacji\n",
        "res = []\n",
        "df_no_a = df.drop(\"Activity\", axis=1)\n",
        "labels = df[\"Activity\"]\n",
        "\n",
        "for f in df_no_a.columns:\n",
        "  res.append(df[f].corr(labels, method='spearman'))"
      ],
      "execution_count": null,
      "outputs": []
    },
    {
      "cell_type": "code",
      "metadata": {
        "colab": {
          "base_uri": "https://localhost:8080/"
        },
        "id": "d-bDW1PYJVdh",
        "outputId": "8e4c24d2-79da-4479-849f-85dd4f53f8eb"
      },
      "source": [
        "col = df_no_a .columns.to_list()\n",
        "\n",
        "correl = pd.DataFrame(res, index = col)\n",
        "weak_f = correl[abs(correl[0]) < 0.3]\n",
        "\n",
        "len(weak_f)"
      ],
      "execution_count": null,
      "outputs": [
        {
          "output_type": "execute_result",
          "data": {
            "text/plain": [
              "106"
            ]
          },
          "metadata": {
            "tags": []
          },
          "execution_count": 12
        }
      ]
    },
    {
      "cell_type": "code",
      "metadata": {
        "colab": {
          "base_uri": "https://localhost:8080/",
          "height": 542
        },
        "id": "JD41wuVtvEYM",
        "outputId": "1acb87cb-a1ba-4ed3-e1c6-09ff97dd520a"
      },
      "source": [
        "sort = correl.sort_values(by=0)\n",
        "px.line(sort, y=sort[0], x=sort.index, title='Korelacja spearmana atrybutów z klasa wynikową')"
      ],
      "execution_count": null,
      "outputs": [
        {
          "output_type": "display_data",
          "data": {
            "text/html": [
              "<html>\n",
              "<head><meta charset=\"utf-8\" /></head>\n",
              "<body>\n",
              "    <div>\n",
              "            <script src=\"https://cdnjs.cloudflare.com/ajax/libs/mathjax/2.7.5/MathJax.js?config=TeX-AMS-MML_SVG\"></script><script type=\"text/javascript\">if (window.MathJax) {MathJax.Hub.Config({SVG: {font: \"STIX-Web\"}});}</script>\n",
              "                <script type=\"text/javascript\">window.PlotlyConfig = {MathJaxConfig: 'local'};</script>\n",
              "        <script src=\"https://cdn.plot.ly/plotly-latest.min.js\"></script>    \n",
              "            <div id=\"b48e7add-2704-49a3-a293-cc2210016d5e\" class=\"plotly-graph-div\" style=\"height:525px; width:100%;\"></div>\n",
              "            <script type=\"text/javascript\">\n",
              "                \n",
              "                    window.PLOTLYENV=window.PLOTLYENV || {};\n",
              "                    \n",
              "                if (document.getElementById(\"b48e7add-2704-49a3-a293-cc2210016d5e\")) {\n",
              "                    Plotly.newPlot(\n",
              "                        'b48e7add-2704-49a3-a293-cc2210016d5e',\n",
              "                        [{\"hoverlabel\": {\"namelength\": 0}, \"hovertemplate\": \"x=%{x}<br>0=%{y}\", \"legendgroup\": \"\", \"line\": {\"color\": \"#636efa\", \"dash\": \"solid\"}, \"mode\": \"lines\", \"name\": \"\", \"showlegend\": false, \"type\": \"scatter\", \"x\": [\"fBodyAcc-bandsEnergy()-1,8.2\", \"fBodyAcc-std()-Z\", \"fBodyAcc-bandsEnergy()-1,24.2\", \"fBodyAcc-mad()-Z\", \"tBodyAcc-mad()-Z\", \"fBodyGyro-std()-Z\", \"tBodyAcc-energy()-Z\", \"fBodyAcc-max()-Z\", \"fBodyGyro-bandsEnergy()-1,16.2\", \"fBodyGyro-bandsEnergy()-1,8.2\", \"tBodyGyro-std()-Z\", \"fBodyGyro-energy()-Z\", \"tBodyGyro-energy()-X\", \"tBodyGyro-energy()-Z\", \"tBodyAcc-std()-Z\", \"fBodyGyro-max()-X\", \"fBodyGyro-bandsEnergy()-1,8\", \"fBodyGyro-max()-Z\", \"fBodyGyro-std()-X\", \"fBodyGyro-mad()-Z\", \"tBodyAcc-iqr()-Z\", \"tBodyGyro-max()-Z\", \"fBodyGyro-bandsEnergy()-1,24\", \"tBodyGyro-std()-X\", \"tBodyGyro-mad()-X\", \"fBodyGyro-energy()-X\", \"fBodyAccJerk-bandsEnergy()-57,64\", \"fBodyAcc-bandsEnergy()-1,8.1\", \"fBodyGyro-mad()-X\", \"tBodyGyroMag-mean()\", \"tBodyGyro-sma()\", \"tBodyGyro-iqr()-X\", \"tBodyGyroMag-energy()\", \"tBodyGyroMag-max()\", \"fBodyBodyGyroMag-mad()\", \"fBodyGyro-bandsEnergy()-57,64.2\", \"fBodyGyro-bandsEnergy()-49,64.2\", \"fBodyAccMag-mad()\", \"tBodyGyro-max()-X\", \"fBodyAccMag-std()\", \"fBodyAcc-bandsEnergy()-1,16.1\", \"fBodyBodyGyroMag-std()\", \"fBodyGyro-bandsEnergy()-49,56.2\", \"tBodyGyroJerk-entropy()-Z\", \"fBodyAcc-max()-Y\", \"fBodyAcc-std()-Y\", \"fBodyAccMag-entropy()\", \"tBodyAccMag-std()\", \"tGravityAccMag-std()\", \"tBodyGyroMag-std()\", \"fBodyAccMag-energy()\", \"fBodyAccMag-iqr()\", \"fBodyBodyGyroMag-energy()\", \"tGravityAccMag-max()\", \"fBodyAccJerk-bandsEnergy()-57,64.2\", \"tBodyAccMag-max()\", \"fBodyGyro-bandsEnergy()-9,16.2\", \"tBodyAccMag-mad()\", \"fBodyAcc-bandsEnergy()-1,24.1\", \"tBodyAcc-iqr()-Y\", \"tBodyGyroMag-mad()\", \"tBodyAccMag-entropy()\", \"fBodyGyro-min()-Z\", \"tBodyAcc-energy()-Y\", \"fBodyAcc-entropy()-Z\", \"fBodyGyro-sma()\", \"tGravityAccMag-energy()\", \"tBodyAccMag-energy()\", \"tBodyAcc-std()-Y\", \"fBodyAcc-bandsEnergy()-49,64.1\", \"tBodyAcc-sma()\", \"fBodyAccJerk-bandsEnergy()-1,8.2\", \"fBodyAccMag-mean()\", \"fBodyGyro-bandsEnergy()-33,40.2\", \"tGravityAccMag-iqr()\", \"tBodyAccMag-iqr()\", \"fBodyBodyGyroMag-sma()\", \"fBodyGyro-bandsEnergy()-33,48.2\", \"fBodyAcc-mad()-Y\", \"fBodyAcc-entropy()-Y\", \"fBodyGyro-bandsEnergy()-41,48.2\", \"fBodyBodyAccJerkMag-min()\", \"tBodyAccMag-min()\", \"tGravityAcc-min()-Z\", \"tBodyGyro-min()-X\", \"fBodyBodyGyroMag-iqr()\", \"fBodyBodyGyroMag-max()\", \"fBodyGyro-bandsEnergy()-49,64\", \"fBodyAcc-bandsEnergy()-9,16\", \"fBodyGyro-bandsEnergy()-1,8.1\", \"fBodyAccJerk-bandsEnergy()-9,16.1\", \"angle(Z,gravityMean)\", \"fBodyBodyGyroMag-entropy()\", \"fBodyGyro-std()-Y\", \"tBodyGyro-max()-Y\", \"fBodyGyro-mad()-Y\", \"fBodyGyro-bandsEnergy()-9,16.1\", \"fBodyGyro-bandsEnergy()-49,56\", \"fBodyAcc-iqr()-Z\", \"tBodyGyro-energy()-Y\", \"fBodyGyro-bandsEnergy()-1,24.1\", \"tBodyGyro-std()-Y\", \"fBodyAcc-sma()\", \"fBodyGyro-max()-Y\", \"fBodyGyro-energy()-Y\", \"tBodyGyro-mad()-Y\", \"tBodyAcc-entropy()-Z\", \"fBodyAcc-bandsEnergy()-57,64.1\", \"fBodyAcc-bandsEnergy()-49,56\", \"fBodyGyro-bandsEnergy()-17,24.2\", \"fBodyGyro-iqr()-Y\", \"fBodyAcc-bandsEnergy()-49,64\", \"fBodyAccJerk-bandsEnergy()-1,16\", \"fBodyAccJerk-bandsEnergy()-1,16.1\", \"tBodyAcc-entropy()-Y\", \"fBodyBodyGyroJerkMag-min()\", \"tBodyAccJerk-max()-Y\", \"fBodyGyro-mean()-Y\", \"fBodyAccJerk-max()-Z\", \"fBodyAccJerk-bandsEnergy()-1,8.1\", \"fBodyBodyGyroJerkMag-iqr()\", \"tBodyGyroJerkMag-max()\", \"fBodyGyro-entropy()-X\", \"fBodyAccJerk-bandsEnergy()-49,64.2\", \"fBodyAccJerk-bandsEnergy()-9,16.2\", \"fBodyAccJerk-bandsEnergy()-1,24.2\", \"fBodyAccJerk-min()-Z\", \"fBodyAccJerk-bandsEnergy()-49,56.2\", \"fBodyAccJerk-bandsEnergy()-1,24\", \"fBodyAccJerk-max()-X\", \"fBodyAccJerk-std()-X\", \"fBodyGyro-bandsEnergy()-17,32.2\", \"tBodyAccJerkMag-max()\", \"tBodyGyroJerkMag-min()\", \"tBodyGyroJerk-energy()-Z\", \"fBodyAcc-bandsEnergy()-33,40\", \"fBodyAccJerk-entropy()-X\", \"fBodyBodyGyroJerkMag-mad()\", \"fBodyBodyAccJerkMag-entropy()\", \"tBodyAccJerk-std()-X\", \"tBodyGyroJerk-min()-X\", \"tBodyAccJerk-entropy()-Z\", \"fBodyAcc-bandsEnergy()-33,48\", \"fBodyAccJerk-bandsEnergy()-49,64\", \"fBodyBodyGyroJerkMag-sma()\", \"fBodyAcc-bandsEnergy()-41,48\", \"tBodyGyroJerk-mad()-Z\", \"fBodyAcc-bandsEnergy()-41,48.1\", \"fBodyAcc-bandsEnergy()-17,24.2\", \"fBodyBodyGyroJerkMag-mean()\", \"tBodyAccJerk-energy()-X\", \"fBodyAccJerk-bandsEnergy()-49,56\", \"fBodyGyro-bandsEnergy()-57,64\", \"fBodyGyro-bandsEnergy()-41,48\", \"tBodyAccJerk-mad()-Z\", \"tBodyGyroJerk-max()-X\", \"fBodyAcc-bandsEnergy()-41,48.2\", \"fBodyAcc-min()-Y\", \"tBodyAccJerkMag-mean()\", \"tBodyAccJerkMag-sma()\", \"fBodyBodyAccJerkMag-sma()\", \"fBodyBodyAccJerkMag-mean()\", \"fBodyGyro-bandsEnergy()-25,48.2\", \"fBodyBodyGyroJerkMag-energy()\", \"fBodyAccJerk-mean()-Z\", \"tBodyGyroJerkMag-energy()\", \"tGravityAcc-std()-Y\", \"fBodyBodyGyroJerkMag-std()\", \"tBodyAccJerkMag-energy()\", \"fBodyAcc-bandsEnergy()-49,64.2\", \"tBodyAccJerk-sma()\", \"fBodyAccJerk-bandsEnergy()-1,24.1\", \"tBodyGyroJerkMag-entropy()\", \"fBodyAccJerk-mean()-X\", \"tBodyGyroJerk-iqr()-Z\", \"fBodyAccJerk-bandsEnergy()-17,24.2\", \"tBodyAccJerk-std()-Z\", \"fBodyAccJerk-mad()-X\", \"tBodyGyroJerkMag-sma()\", \"tBodyGyroJerkMag-mean()\", \"fBodyAccJerk-std()-Z\", \"tBodyGyroJerkMag-mad()\", \"tBodyGyroJerk-iqr()-Y\", \"fBodyAccJerk-bandsEnergy()-41,48\", \"fBodyAcc-iqr()-Y\", \"tBodyGyroJerk-sma()\", \"fBodyAccJerk-energy()-Z\", \"tBodyGyroJerkMag-iqr()\", \"fBodyAccJerk-mean()-Y\", \"fBodyAcc-std()-X\", \"tBodyAcc-std()-X\", \"tBodyGyroJerk-max()-Y\", \"fBodyAcc-energy()-X\", \"fBodyAcc-mad()-X\", \"fBodyAcc-bandsEnergy()-1,24\", \"fBodyAcc-bandsEnergy()-1,16\", \"tBodyGyroJerk-mad()-X\", \"fBodyBodyAccJerkMag-mad()\", \"fBodyAccJerk-iqr()-Z\", \"fBodyGyro-iqr()-X\", \"fBodyAccJerk-bandsEnergy()-41,48.1\", \"tBodyGyroJerk-energy()-X\", \"tBodyAccJerkMag-mad()\", \"fBodyBodyAccJerkMag-iqr()\", \"fBodyAccJerk-mad()-Z\", \"tBodyAcc-mad()-X\", \"tBodyAccJerk-std()-Y\", \"fBodyAccJerk-bandsEnergy()-41,48.2\", \"tBodyAccJerkMag-iqr()\", \"tBodyGyroJerk-energy()-Y\", \"fBodyGyro-entropy()-Y\", \"fBodyAccJerk-sma()\", \"tBodyAccJerk-max()-Z\", \"fBodyBodyGyroJerkMag-max()\", \"fBodyAcc-bandsEnergy()-57,64\", \"fBodyGyro-bandsEnergy()-17,24\", \"tBodyAccJerk-entropy()-X\", \"tBodyAcc-energy()-X\", \"fBodyGyro-bandsEnergy()-33,48\", \"tBodyGyroJerk-mad()-Y\", \"fBodyAccJerk-bandsEnergy()-33,48\", \"tBodyAcc-entropy()-X\", \"fBodyAccJerk-energy()-Y\", \"fBodyAcc-bandsEnergy()-25,48\", \"tBodyAccJerk-energy()-Y\", \"tBodyAccJerk-entropy()-Y\", \"fBodyGyro-bandsEnergy()-25,32.2\", \"tBodyAccJerkMag-entropy()\", \"fBodyAccJerk-mad()-Y\", \"fBodyAcc-bandsEnergy()-33,48.1\", \"tBodyAccJerk-arCoeff()-Z,1\", \"fBodyAcc-bandsEnergy()-25,32\", \"fBodyAccJerk-bandsEnergy()-17,32.2\", \"fBodyGyro-bandsEnergy()-17,24.1\", \"tBodyAccJerk-iqr()-Y\", \"fBodyAcc-entropy()-X\", \"fBodyGyro-bandsEnergy()-25,48\", \"fBodyAcc-bandsEnergy()-17,24.1\", \"fBodyAccJerk-bandsEnergy()-17,24\", \"fBodyAcc-bandsEnergy()-33,40.1\", \"fBodyGyro-bandsEnergy()-17,32.1\", \"fBodyBodyAccJerkMag-max()\", \"fBodyAcc-bandsEnergy()-33,48.2\", \"fBodyAccJerk-bandsEnergy()-1,8\", \"fBodyAccJerk-meanFreq()-X\", \"fBodyGyro-bandsEnergy()-17,32\", \"fBodyAccJerk-bandsEnergy()-17,24.1\", \"fBodyAccJerk-iqr()-X\", \"fBodyAccJerk-bandsEnergy()-25,48\", \"fBodyAccJerk-bandsEnergy()-33,48.2\", \"fBodyAcc-bandsEnergy()-25,32.1\", \"fBodyGyro-bandsEnergy()-49,56.1\", \"tBodyAcc-iqr()-X\", \"fBodyGyro-bandsEnergy()-33,40.1\", \"fBodyAcc-iqr()-X\", \"fBodyGyro-bandsEnergy()-33,48.1\", \"fBodyAccJerk-bandsEnergy()-17,32.1\", \"fBodyGyro-bandsEnergy()-49,64.1\", \"fBodyAccJerk-bandsEnergy()-33,40.1\", \"fBodyAccJerk-bandsEnergy()-33,40.2\", \"fBodyAcc-bandsEnergy()-33,40.2\", \"fBodyAccJerk-bandsEnergy()-25,32\", \"fBodyAccJerk-bandsEnergy()-25,32.2\", \"fBodyAccJerk-bandsEnergy()-25,32.1\", \"fBodyAccJerk-bandsEnergy()-25,48.2\", \"fBodyAcc-bandsEnergy()-25,32.2\", \"fBodyGyro-bandsEnergy()-25,48.1\", \"tGravityAcc-iqr()-Z\", \"tGravityAcc-mad()-Z\", \"fBodyGyro-bandsEnergy()-25,32.1\", \"tGravityAcc-std()-Z\", \"fBodyGyro-min()-Y\", \"fBodyAccJerk-maxInds-X\", \"fBodyGyro-min()-X\", \"fBodyAccJerk-skewness()-X\", \"tBodyGyro-entropy()-Z\", \"tBodyAccJerk-arCoeff()-Y,1\", \"tGravityAccMag-arCoeff()2\", \"tBodyAccMag-arCoeff()2\", \"fBodyBodyGyroMag-min()\", \"fBodyAccJerk-kurtosis()-X\", \"fBodyAccJerk-skewness()-Y\", \"fBodyAccJerk-skewness()-Z\", \"fBodyAccJerk-kurtosis()-Z\", \"tBodyAccJerkMag-arCoeff()1\", \"angle(Y,gravityMean)\", \"fBodyAccMag-min()\", \"fBodyAccJerk-kurtosis()-Y\", \"tBodyGyroJerk-arCoeff()-X,1\", \"tBodyGyro-entropy()-X\", \"fBodyAcc-min()-Z\", \"fBodyAcc-bandsEnergy()-57,64.2\", \"tBodyAcc-arCoeff()-Z,2\", \"fBodyGyro-meanFreq()-X\", \"tBodyGyro-entropy()-Y\", \"tBodyAcc-arCoeff()-Y,2\", \"tBodyGyroMag-entropy()\", \"fBodyBodyAccJerkMag-maxInds\", \"tBodyGyroJerk-arCoeff()-Z,2\", \"tBodyGyroJerk-arCoeff()-Y,2\", \"tBodyGyro-arCoeff()-X,2\", \"tGravityAcc-arCoeff()-Z,4\", \"fBodyAccJerk-maxInds-Z\", \"fBodyGyro-skewness()-X\", \"fBodyBodyGyroJerkMag-maxInds\", \"tGravityAcc-max()-X\", \"fBodyGyro-kurtosis()-X\", \"fBodyBodyGyroMag-maxInds\", \"fBodyBodyGyroMag-kurtosis()\", \"tBodyGyroJerkMag-arCoeff()1\", \"tGravityAcc-arCoeff()-Z,2\", \"angle(X,gravityMean)\", \"fBodyBodyGyroMag-skewness()\", \"fBodyGyro-meanFreq()-Z\", \"tBodyAccMag-arCoeff()3\", \"tGravityAccMag-arCoeff()3\", \"tGravityAcc-mean()-X\", \"tGravityAcc-energy()-X\", \"tBodyGyroMag-arCoeff()3\", \"tBodyAccJerk-arCoeff()-X,3\", \"tBodyAcc-correlation()-X,Y\", \"tBodyGyroJerk-arCoeff()-Y,4\", \"tBodyGyroMag-arCoeff()1\", \"tGravityAcc-arCoeff()-Y,4\", \"tBodyGyro-correlation()-X,Z\", \"tBodyGyro-correlation()-X,Y\", \"tGravityAccMag-sma()\", \"tBodyGyroJerk-mean()-Z\", \"tGravityAcc-arCoeff()-X,1\", \"fBodyBodyAccJerkMag-skewness()\", \"tGravityAccMag-mad()\", \"fBodyAccMag-maxInds\", \"tBodyAccJerkMag-arCoeff()3\", \"tBodyAcc-arCoeff()-X,2\", \"tBodyGyroJerk-arCoeff()-Y,3\", \"tBodyGyroMag-arCoeff()4\", \"void()\", \"tBodyAccJerk-mean()-Y\", \"fBodyAcc-skewness()-Z\", \"tBodyAcc-arCoeff()-X,3\", \"fBodyGyro-skewness()-Y\", \"tBodyGyro-mean()-X\", \"tBodyGyroJerk-arCoeff()-Z,4\", \"tBodyGyroJerk-correlation()-Y,Z\", \"fBodyAcc-kurtosis()-Z\", \"tBodyAccJerk-arCoeff()-Y,2\", \"tGravityAccMag-arCoeff()4\", \"shadow-gravity-angle()\", \"tGravityAcc-correlation()-X,Z\", \"tGravityAcc-arCoeff()-Y,2\", \"tGravityAcc-arCoeff()-X,4\", \"fBodyGyro-skewness()-Z\", \"tGravityAcc-std()-X\", \"tBodyAccJerk-arCoeff()-Y,3\", \"tBodyAcc-mean()-Z\", \"tBodyGyro-mean()-Y\", \"fBodyAccMag-skewness()\", \"tGravityAcc-iqr()-X\", \"tGravityAcc-mad()-X\", \"fBodyGyro-maxInds-Z\", \"tGravityAcc-correlation()-Y,Z\", \"fBodyAcc-skewness()-X\", \"fBodyGyro-kurtosis()-Z\", \"tBodyAcc-correlation()-X,Z\", \"tBodyGyroJerk-arCoeff()-X,2\", \"tBodyGyro-arCoeff()-Y,3\", \"fBodyGyro-meanFreq()-Y\", \"tBodyGyroJerk-arCoeff()-Z,3\", \"tBodyAccJerk-arCoeff()-Y,4\", \"tBodyGyroJerk-correlation()-X,Y\", \"tBodyAcc-arCoeff()-X,4\", \"fBodyBodyGyroJerkMag-skewness()\", \"tBodyAcc-arCoeff()-Y,3\", \"fBodyBodyGyroJerkMag-kurtosis()\", \"tBodyGyroJerkMag-arCoeff()3\", \"fBodyAcc-kurtosis()-X\", \"fBodyAcc-skewness()-Y\", \"tBodyAcc-arCoeff()-Z,3\", \"fBodyAcc-maxInds-Z\", \"tBodyGyroJerk-arCoeff()-X,3\", \"tBodyAccJerk-mean()-Z\", \"tGravityAcc-arCoeff()-X,3\", \"tGravityAcc-entropy()-X\", \"fBodyAcc-maxInds-Y\", \"tBodyGyro-low()-Y\", \"tGravityAcc-arCoeff()-Y,1\", \"tBodyGyro-correlation()-Y,Z\", \"energy-mean()\", \"fBodyBodyGyroMag-meanFreq()\", \"tBodyGyroJerkMag-arCoeff()4\", \"tBodyAcc-mean()-Y\", \"fBodyAccMag-kurtosis()\", \"fBodyAcc-kurtosis()-Y\", \"tBodyGyro-arCoeff()-Y,4\", \"fBodyAcc-main()-Z\", \"fBodyBodyGyroJerkMag-meanFreq()\", \"tBodyAccMag-arCoeff()4\", \"tBodyAccJerk-mean()-X\", \"tGravityAcc-arCoeff()-X,2\", \"tBodyAccJerkMag-arCoeff()4\", \"angle(tBodyGyroMean,gravityMean)\", \"tBodyGyroJerk-mean()-Y\", \"tBodyGyro-arCoeff()-Z,3\", \"tBodyAcc-mean()-X\", \"tGravityAcc-entropy()-Y\", \"fBodyAcc-meanFreq()-X\", \"angle(tBodyAccMean,gravity)\", \"fBodyGyro-kurtosis()-Y\", \"tBodyGyro-arCoeff()-Z,4\", \"fBodyBodyAccJerkMag-meanFreq()\", \"tBodyGyro-low()-X\", \"angle(tBodyGyroJerkMean,gravityMean)\", \"tBodyAccJerk-arCoeff()-X,4\", \"tGravityAcc-arCoeff()-Y,3\", \"tBodyAccJerk-arCoeff()-Z,2\", \"fBodyBodyAccJerkMag-kurtosis()\", \"tBodyAcc-correlation()-Y,Z\", \"tBodyAccJerk-arCoeff()-Z,3\", \"tBodyAccJerk-correlation()-X,Z\", \"tBodyGyro-mean()-Z\", \"tBodyGyro-arCoeff()-X,3\", \"tGravityAcc-entropy()-Z\", \"fBodyAcc-main()-X\", \"tBodyAccJerk-correlation()-Y,Z\", \"tBodyGyroJerk-mean()-X\", \"tBodyAccJerk-arCoeff()-X,2\", \"tGravityAcc-sma()\", \"tBodyGyroJerk-arCoeff()-X,4\", \"tGravityAcc-min()-X\", \"tBodyAcc-arCoeff()-Z,4\", \"angle(tBodyAccJerkMean),gravityMean)\", \"tBodyAccJerk-correlation()-X,Y\", \"tBodyGyroJerk-correlation()-X,Z\", \"tGravityAcc-arCoeff()-Z,1\", \"tGravityAcc-correlation()-X,Y\", \"tBodyAcc-arCoeff()-Y,4\", \"tBodyGyroMag-arCoeff()2\", \"tGravityAcc-energy()-Z\", \"tBodyGyro-low()-Z\", \"fBodyAccMag-meanFreq()\", \"fBodyGyro-maxInds-X\", \"tBodyAccJerk-arCoeff()-Z,4\", \"tBodyGyroJerkMag-arCoeff()2\", \"tGravityAcc-arCoeff()-Z,3\", \"fBodyAcc-maxInds-X\", \"tBodyGyro-arCoeff()-Y,1\", \"fBodyAccJerk-maxInds-Y\", \"fBodyGyro-maxInds-Y\", \"tGravityAcc-energy()-Y\", \"tBodyGyro-arCoeff()-X,4\", \"tBodyAccJerkMag-arCoeff()2\", \"tBodyGyro-arCoeff()-Y,2\", \"tBodyGyroJerk-arCoeff()-Y,1\", \"tBodyAcc-arCoeff()-X,1\", \"fBodyAcc-meanFreq()-Y\", \"tGravityAcc-max()-Y\", \"tGravityAcc-mean()-Y\", \"fBodyAcc-meanFreq()-Z\", \"tGravityAcc-min()-Y\", \"fBodyGyro-bandsEnergy()-57,64.1\", \"tBodyAccJerk-arCoeff()-X,1\", \"tGravityAccMag-arCoeff()1\", \"tBodyAccMag-arCoeff()1\", \"fBodyAcc-min()-X\", \"tBodyGyro-arCoeff()-X,1\", \"tBodyGyro-arCoeff()-Z,2\", \"fBodyAcc-bandsEnergy()-25,48.2\", \"fBodyAccJerk-min()-Y\", \"fBodyAccJerk-bandsEnergy()-25,48.1\", \"tBodyAcc-arCoeff()-Y,1\", \"fBodyAcc-bandsEnergy()-1,8\", \"fBodyAcc-max()-X\", \"fBodyAccJerk-bandsEnergy()-17,32\", \"fBodyGyro-bandsEnergy()-41,48.1\", \"tBodyGyroJerk-arCoeff()-Z,1\", \"fBodyAcc-bandsEnergy()-25,48.1\", \"fBodyAccJerk-bandsEnergy()-33,48.1\", \"fBodyAcc-bandsEnergy()-17,32.1\", \"fBodyGyro-bandsEnergy()-25,32\", \"tBodyGyroJerk-entropy()-Y\", \"tGravityAcc-iqr()-Y\", \"fBodyAccJerk-iqr()-Y\", \"tBodyAcc-min()-X\", \"tBodyAccJerk-max()-X\", \"tBodyAccJerk-mad()-Y\", \"fBodyAccJerk-std()-Y\", \"fBodyAcc-main()-Y\", \"fBodyAccJerk-bandsEnergy()-33,40\", \"fBodyBodyAccJerkMag-std()\", \"fBodyAcc-bandsEnergy()-17,32\", \"fBodyGyro-bandsEnergy()-33,40\", \"tBodyGyro-arCoeff()-Z,1\", \"fBodyAccJerk-bandsEnergy()-57,64.1\", \"fBodyAccJerk-max()-Y\", \"fBodyAcc-bandsEnergy()-17,24\", \"fBodyBodyAccJerkMag-energy()\", \"tBodyGyroJerk-std()-Y\", \"tBodyAccJerkMag-std()\", \"tBodyGyroJerk-std()-X\", \"fBodyAcc-bandsEnergy()-17,32.2\", \"tGravityAcc-mad()-Y\", \"tBodyAccJerk-energy()-Z\", \"fBodyAcc-mean()-X\", \"tBodyAccJerk-min()-Z\", \"tBodyGyroJerkMag-std()\", \"tBodyAcc-max()-X\", \"tBodyAccJerk-min()-Y\", \"fBodyAcc-bandsEnergy()-49,56.2\", \"tBodyGyroJerk-min()-Y\", \"tBodyAcc-arCoeff()-Z,1\", \"fBodyAccJerk-energy()-X\", \"fBodyAccJerk-entropy()-Z\", \"tBodyGyroJerk-std()-Z\", \"tBodyAccJerk-mad()-X\", \"tBodyGyroJerk-iqr()-X\", \"fBodyGyro-iqr()-Z\", \"tBodyAccJerk-iqr()-Z\", \"tBodyGyroMag-min()\", \"fBodyBodyGyroJerkMag-entropy()\", \"fBodyAccJerk-meanFreq()-Y\", \"tBodyAccJerk-min()-X\", \"fBodyAccJerk-meanFreq()-Z\", \"tBodyGyroJerk-max()-Z\", \"tBodyAccJerk-iqr()-X\", \"fBodyGyro-entropy()-Z\", \"tBodyAccJerkMag-min()\", \"tBodyGyroJerk-min()-Z\", \"fBodyGyro-bandsEnergy()-9,16\", \"fBodyAcc-mean()-Y\", \"fBodyAccJerk-bandsEnergy()-1,16.2\", \"tBodyGyro-iqr()-Y\", \"tGravityAcc-max()-Z\", \"fBodyAcc-bandsEnergy()-9,16.1\", \"tBodyGyroMag-iqr()\", \"tBodyGyro-min()-Y\", \"tGravityAcc-mean()-Z\", \"tBodyAcc-max()-Y\", \"tBodyAcc-max()-Z\", \"fBodyGyro-bandsEnergy()-1,16.1\", \"tGravityAccMag-min()\", \"fBodyAccJerk-bandsEnergy()-9,16\", \"tBodyGyroJerk-entropy()-X\", \"fBodyAccJerk-bandsEnergy()-49,56.1\", \"fBodyAccJerk-bandsEnergy()-49,64.1\", \"fBodyAcc-bandsEnergy()-49,56.1\", \"tBodyAccMag-sma()\", \"fBodyBodyGyroMag-mean()\", \"tBodyAccMag-mean()\", \"tGravityAccMag-mean()\", \"fBodyAccMag-sma()\", \"fBodyAcc-energy()-Y\", \"fBodyAcc-bandsEnergy()-9,16.2\", \"tBodyAcc-min()-Y\", \"tBodyAcc-mad()-Y\", \"tGravityAccMag-entropy()\", \"fBodyGyro-mean()-X\", \"fBodyAcc-mean()-Z\", \"fBodyAccJerk-entropy()-Y\", \"fBodyAccMag-max()\", \"tBodyAcc-min()-Z\", \"fBodyGyro-mean()-Z\", \"tBodyGyro-min()-Z\", \"tBodyGyroMag-sma()\", \"tBodyGyro-iqr()-Z\", \"fBodyAccJerk-min()-X\", \"fBodyGyro-bandsEnergy()-1,16\", \"fBodyAcc-energy()-Z\", \"tBodyGyro-mad()-Z\", \"fBodyGyro-bandsEnergy()-1,24.2\", \"fBodyAcc-bandsEnergy()-1,16.2\"], \"xaxis\": \"x\", \"y\": [-0.8452368450475151, -0.8282456012987143, -0.8203580259800309, -0.8137938467187242, -0.8127501183109308, -0.8114421438317662, -0.8114357645080191, -0.8103178824888211, -0.8102663895541211, -0.8094966391307044, -0.8082451905406313, -0.8076124372059895, -0.8065458910899599, -0.8063842423449522, -0.8062925129129159, -0.8055303803968562, -0.8049920009910128, -0.8045194964172099, -0.8026309511951046, -0.8002733589829383, -0.7978035737482347, -0.7974875949502734, -0.7967782085723366, -0.7966257486837439, -0.7961608752535263, -0.7960883627252134, -0.7931956266768863, -0.7927828182170649, -0.7923076574635174, -0.7918358194788764, -0.7909146763348839, -0.7870032785143968, -0.7867478820178527, -0.78481241432721, -0.783018743997544, -0.781856468888266, -0.7805171292254494, -0.778262000556222, -0.7777909308253479, -0.7770025613373023, -0.7768609195815429, -0.776618661374005, -0.7753324725547588, -0.7734348174967708, -0.7725310366624342, -0.7714425935274648, -0.7708148521894682, -0.7689004840361707, -0.7686165377362638, -0.7684426152925026, -0.7681750119881824, -0.7677448702627583, -0.7673967798136299, -0.7667580725894924, -0.7665871871558936, -0.7661623065415175, -0.7636935641703361, -0.7635671566238156, -0.7618098029854026, -0.7613384298844383, -0.760120206357267, -0.759444417657187, -0.7592610867867959, -0.7578548838286449, -0.7577785904815434, -0.7577753795955537, -0.7564405232221599, -0.7562144807152333, -0.7561075557008096, -0.7558266451099461, -0.7552535081802448, -0.7551818108485893, -0.7541445365419838, -0.7538489345628632, -0.7536706422549238, -0.7536027969811319, -0.7528554992359919, -0.7526338944902494, -0.7507972434214568, -0.7488556272779848, -0.7475714617437024, -0.7473115305136534, -0.7471860538677285, -0.746833237739659, -0.746492399514313, -0.7460393986605985, -0.7452068682300633, -0.7451776378533059, -0.74334062156704, -0.743304566602754, -0.7429981612508672, -0.7426426107093399, -0.7425734705984897, -0.7422374277218737, -0.7420564851355639, -0.7415653324959821, -0.741210807985309, -0.7405385154115616, -0.7393380448004534, -0.7390533856726402, -0.7380171858666777, -0.7377786562110914, -0.7369728051554365, -0.7364338800647109, -0.7362202446226613, -0.7360254150414358, -0.7358420189572508, -0.7312771121551318, -0.7308247634972289, -0.7294157918291866, -0.7291701332971234, -0.7291152732811129, -0.7287443937411491, -0.7256255519790146, -0.7255766823438592, -0.7251284526991594, -0.7248595327354109, -0.7246668791996518, -0.7241059678717917, -0.7238602711813625, -0.7227582675055146, -0.7217947988607406, -0.7212385224565796, -0.7201962105697399, -0.7199257663290961, -0.7196900611179914, -0.7196197663098431, -0.7193993305507489, -0.7193032119714085, -0.7191748230656029, -0.7187226327677575, -0.7162815437864319, -0.7159629437074218, -0.7155576783506257, -0.7155381398803642, -0.7147368340494652, -0.7146483500694312, -0.7144439579872098, -0.7143778760436096, -0.7128956229278656, -0.7126300897601733, -0.7126075190699928, -0.7125639518023371, -0.7123510171849168, -0.7118116141209833, -0.7117866553056693, -0.7117523641019797, -0.7116558718719188, -0.7115258298593837, -0.7115211055703484, -0.7112595245149379, -0.7111523373473202, -0.7101557394936349, -0.7088416447272631, -0.7086489630047236, -0.7080847507641789, -0.7076898648365694, -0.7076205053131323, -0.7075043112307927, -0.7072803480618312, -0.7065645207423418, -0.706429858252494, -0.7062626899672757, -0.7062111149849871, -0.7057391415990223, -0.7050377510039617, -0.7050292761771667, -0.7049546266682636, -0.7046657492520629, -0.7045643788293446, -0.7044859094091709, -0.7043669204236773, -0.7042695535580042, -0.7039870679050204, -0.703741576706134, -0.7036227490077828, -0.703419878597136, -0.7033914296276932, -0.7033794315868145, -0.7030143985785278, -0.7029567888290689, -0.7023976211014358, -0.7023954067907019, -0.7023739951752972, -0.7022149470268764, -0.7021580801589314, -0.7021522208070663, -0.7019485088218067, -0.7018333388947797, -0.7017668071030312, -0.7016315841611829, -0.7012863788248485, -0.7012449854207298, -0.7012421236854397, -0.7011516138752166, -0.7008180945766692, -0.7006605760311578, -0.7005466610192965, -0.7005249701141292, -0.6994672357297655, -0.6994211662766102, -0.6989026458404454, -0.6987841896456233, -0.6987046391366201, -0.6984354429277949, -0.6981552651907568, -0.6978312464563667, -0.6976566922073211, -0.6975285346632579, -0.6972863247358234, -0.6972469597928688, -0.6970892922307064, -0.6970888289775424, -0.6970539916747506, -0.696697194254411, -0.6964357286795723, -0.6959499458197447, -0.6957545871960785, -0.6956371620494141, -0.6956285576647855, -0.695065454162844, -0.6949996986495608, -0.6949155587021228, -0.6946092391549067, -0.6944361138230831, -0.6940750555902638, -0.6934700906686316, -0.6933455451834655, -0.6921677043422579, -0.6915235872411207, -0.6911461497968969, -0.6907638214446155, -0.689722776401561, -0.689192305985009, -0.6888374380189246, -0.6878373290703711, -0.6851186959107134, -0.6834085755280057, -0.6831078144319576, -0.6819578789272985, -0.681893511153986, -0.681865145786661, -0.6811454889179004, -0.6810157523695615, -0.6804422274344226, -0.6802387881276194, -0.6798850003636385, -0.6789265865059166, -0.6779969166253664, -0.6779726131085527, -0.6753896055764941, -0.6753836581062337, -0.675199816713811, -0.6748147697417004, -0.6746932836880651, -0.6743624351159896, -0.6742798057032398, -0.6725974633629622, -0.6723079899465575, -0.6719752060085167, -0.67110895307742, -0.6700204340638887, -0.6700196974672749, -0.668356913933835, -0.6680013104378624, -0.666224904806052, -0.6644984525536067, -0.6584119451844163, -0.6578727322639856, -0.6570498427728785, -0.6535671967568939, -0.6519549783790385, -0.650964536624354, -0.6493645766220475, -0.6452938911264883, -0.6437948220498966, -0.6360726940637367, -0.6333454060639682, -0.6333215405753048, -0.6315886782292801, -0.6175770690729696, -0.6167163289011011, -0.614917306144002, -0.6061136101805333, -0.5999017861366586, -0.5910552598217153, -0.5836945217158469, -0.5828781205285495, -0.5765384610431027, -0.5755474623078844, -0.5669640590911393, -0.5656687442890758, -0.5472250753002947, -0.5306038606947826, -0.50026495822587, -0.490337630486689, -0.4676438881295891, -0.46688261600189573, -0.4663594595279243, -0.4595558782267234, -0.4555831184339248, -0.44933490777328844, -0.4180994707064419, -0.41094946823902584, -0.40246611346742794, -0.3909113255022215, -0.38790305449702855, -0.38442900203205826, -0.37723889257211357, -0.3753552845818608, -0.37389862947550306, -0.36349076608901365, -0.349495740338595, -0.3459559648051947, -0.3441275620578675, -0.34380436028377054, -0.3419283596420058, -0.34184154924421345, -0.3382131734051234, -0.33777960114692485, -0.3232542366066106, -0.3059131633912226, -0.28589934417573176, -0.2845253333049503, -0.27696654791943076, -0.27458398444435667, -0.270530882993475, -0.26601445597222523, -0.2657100947809825, -0.26042013863812113, -0.25807799551477345, -0.25759663135031946, -0.2536718016789342, -0.2526577604411563, -0.25085654872735413, -0.24625726725801628, -0.223557810656429, -0.22151678378433892, -0.21343068202123094, -0.2004111521983636, -0.18717930926572202, -0.18631993730637855, -0.1739073156760436, -0.16981921042071677, -0.16782039611250638, -0.15145364769201397, -0.14163812401366532, -0.1370921569844133, -0.13569251794991513, -0.13460772801004126, -0.13060478151889987, -0.13024852360465058, -0.12778471229594948, -0.1262338138207312, -0.12358646772231288, -0.12271970754459707, -0.11930828527179217, -0.11869336303856096, -0.11799139055404285, -0.11244868976677706, -0.10549630810811235, -0.08481742356043241, -0.07823733093945325, -0.07684452060851106, -0.061648105443876285, -0.06153913697668368, -0.060968260616512546, -0.05716633090085171, -0.05424413329401732, -0.05375143325809858, -0.04827879401943261, -0.048039449621754444, -0.04646201002492426, -0.045067287416627966, -0.042841783023826116, -0.041147120814273665, -0.040466700355366564, -0.039116178681966124, -0.030072800798036894, -0.02249234766486753, -0.017078612679654666, -0.01657383985542719, -0.009403638895005388, 0.0008887081801596374, 0.027322904633865386, 0.0677517711946765, 0.08088437175196607, 0.08124341855717217, 0.09284136397557785, 0.10810738441224925, 0.11300768993797003, 0.12850831345385846, 0.1304427936462191, 0.13327238509023276, 0.13722219439142558, 0.1426761199532545, 0.14275940849668325, 0.14750586090526913, 0.14885137229390227, 0.14940696661577363, 0.1506082076143595, 0.16294827740330967, 0.16733217590749253, 0.16762612748819453, 0.16807187983200586, 0.1696976550699201, 0.17876038518504844, 0.18156904817051459, 0.1949813343548766, 0.195890858826503, 0.1995695130529865, 0.20082325546362664, 0.20323388983043966, 0.20893398363357693, 0.20994617966820875, 0.21489825183578293, 0.21607504583949064, 0.21867327035257836, 0.23059476454191588, 0.23354619776557645, 0.2428044055886, 0.25151779103137445, 0.26102375762880853, 0.2680691849143445, 0.2888119513363241, 0.291178133988715, 0.2967553207330402, 0.2983730544036371, 0.31413131761209934, 0.3160676365452905, 0.3172473647176099, 0.3275630943738538, 0.3275958749348034, 0.333250710539443, 0.3364048674041779, 0.34251902372565884, 0.34579797645162647, 0.35787011124335394, 0.36279649167149086, 0.3629834897308823, 0.37046411659309203, 0.3718322362015685, 0.3889899085561801, 0.41411180218110477, 0.4344794819085809, 0.4563251211454998, 0.4712611924879127, 0.510963973768495, 0.5117992755137176, 0.5129537922147692, 0.515824792872315, 0.527594233426678, 0.528988015166263, 0.5338570092132338, 0.5365943766128034, 0.5763149268633427, 0.5905479012155346, 0.5942114684809192, 0.5988465192365284, 0.6074348758170653, 0.6156327727172852, 0.628111929645042, 0.6299927243490492, 0.6366028455397252, 0.6406176663994604, 0.6599382625837783, 0.6700299845883375, 0.6732677575270012, 0.673796153652874, 0.6747723420480352, 0.6756567414884097, 0.6763109278041438, 0.6763942345333602, 0.677931463416025, 0.6808036341467222, 0.681135015847393, 0.681662523353436, 0.6816862520094461, 0.6818228002860012, 0.684305848787508, 0.6863969469550651, 0.6865123531417889, 0.6868828942673499, 0.6894308412550167, 0.6916693466711058, 0.6926540845669832, 0.6930715290280978, 0.69324713026808, 0.6938179069754077, 0.694271488581258, 0.6946245755073226, 0.6947073611447874, 0.6958220577619604, 0.6989247312201519, 0.6991674858869298, 0.6994254632845358, 0.6996788593702499, 0.6999394102533947, 0.6999479537892518, 0.7008564252673224, 0.7019198434649008, 0.7027184362887526, 0.7028445011925732, 0.7037985352207918, 0.7079312664973295, 0.708818811446595, 0.7090642131122955, 0.7099803254099938, 0.7105778300136396, 0.7111908542304761, 0.7117168037106893, 0.7146567985060859, 0.7160087058679758, 0.7172652981969719, 0.717314506896888, 0.7174544539895595, 0.7177340149976645, 0.71815375822815, 0.7221544903399946, 0.7228172883010586, 0.724735755954083, 0.7252219888806526, 0.7254813107936942, 0.7274464042640398, 0.7282766565365818, 0.7314674436216937, 0.7349647022540482, 0.7357939854054051, 0.7359976978884986, 0.7360800496594672, 0.7367174509783512, 0.7371363674144931, 0.7389061700806772, 0.7389617815055077, 0.7422824223675981, 0.7424008890565518, 0.7449929793889623, 0.7454043647848392, 0.7455837125820756, 0.7469145928843102, 0.7472623372865979, 0.7474145909651898, 0.7478754198143899, 0.7505495135668516, 0.751490289818164, 0.7519675043692443, 0.7520825347100077, 0.7523364576053598, 0.7525107413465968, 0.7545743066893008, 0.7558281210733281, 0.7562978039842898, 0.7586696901803562, 0.7598528580181463, 0.7598984821235779, 0.7656361371930354, 0.76801068390207, 0.7681846194948432, 0.780583581243561, 0.7834246046175819, 0.7879148257209971, 0.7887125175037131, 0.7913564384949876, 0.7945309954888944, 0.7955679534234518, 0.7996332108488167, 0.8059755629778195, 0.8071591676259149, 0.8083956720105353, 0.8335162725845897], \"yaxis\": \"y\"}],\n",
              "                        {\"legend\": {\"tracegroupgap\": 0}, \"template\": {\"data\": {\"bar\": [{\"error_x\": {\"color\": \"#2a3f5f\"}, \"error_y\": {\"color\": \"#2a3f5f\"}, \"marker\": {\"line\": {\"color\": \"#E5ECF6\", \"width\": 0.5}}, \"type\": \"bar\"}], \"barpolar\": [{\"marker\": {\"line\": {\"color\": \"#E5ECF6\", \"width\": 0.5}}, \"type\": \"barpolar\"}], \"carpet\": [{\"aaxis\": {\"endlinecolor\": \"#2a3f5f\", \"gridcolor\": \"white\", \"linecolor\": \"white\", \"minorgridcolor\": \"white\", \"startlinecolor\": \"#2a3f5f\"}, \"baxis\": {\"endlinecolor\": \"#2a3f5f\", \"gridcolor\": \"white\", \"linecolor\": \"white\", \"minorgridcolor\": \"white\", \"startlinecolor\": \"#2a3f5f\"}, \"type\": \"carpet\"}], \"choropleth\": [{\"colorbar\": {\"outlinewidth\": 0, \"ticks\": \"\"}, \"type\": \"choropleth\"}], \"contour\": [{\"colorbar\": {\"outlinewidth\": 0, \"ticks\": \"\"}, \"colorscale\": [[0.0, \"#0d0887\"], [0.1111111111111111, \"#46039f\"], [0.2222222222222222, \"#7201a8\"], [0.3333333333333333, \"#9c179e\"], [0.4444444444444444, \"#bd3786\"], [0.5555555555555556, \"#d8576b\"], [0.6666666666666666, \"#ed7953\"], [0.7777777777777778, \"#fb9f3a\"], [0.8888888888888888, \"#fdca26\"], [1.0, \"#f0f921\"]], \"type\": \"contour\"}], \"contourcarpet\": [{\"colorbar\": {\"outlinewidth\": 0, \"ticks\": \"\"}, \"type\": \"contourcarpet\"}], \"heatmap\": [{\"colorbar\": {\"outlinewidth\": 0, \"ticks\": \"\"}, \"colorscale\": [[0.0, \"#0d0887\"], [0.1111111111111111, \"#46039f\"], [0.2222222222222222, \"#7201a8\"], [0.3333333333333333, \"#9c179e\"], [0.4444444444444444, \"#bd3786\"], [0.5555555555555556, \"#d8576b\"], [0.6666666666666666, \"#ed7953\"], [0.7777777777777778, \"#fb9f3a\"], [0.8888888888888888, \"#fdca26\"], [1.0, \"#f0f921\"]], \"type\": \"heatmap\"}], \"heatmapgl\": [{\"colorbar\": {\"outlinewidth\": 0, \"ticks\": \"\"}, \"colorscale\": [[0.0, \"#0d0887\"], [0.1111111111111111, \"#46039f\"], [0.2222222222222222, \"#7201a8\"], [0.3333333333333333, \"#9c179e\"], [0.4444444444444444, \"#bd3786\"], [0.5555555555555556, \"#d8576b\"], [0.6666666666666666, \"#ed7953\"], [0.7777777777777778, \"#fb9f3a\"], [0.8888888888888888, \"#fdca26\"], [1.0, \"#f0f921\"]], \"type\": \"heatmapgl\"}], \"histogram\": [{\"marker\": {\"colorbar\": {\"outlinewidth\": 0, \"ticks\": \"\"}}, \"type\": \"histogram\"}], \"histogram2d\": [{\"colorbar\": {\"outlinewidth\": 0, \"ticks\": \"\"}, \"colorscale\": [[0.0, \"#0d0887\"], [0.1111111111111111, \"#46039f\"], [0.2222222222222222, \"#7201a8\"], [0.3333333333333333, \"#9c179e\"], [0.4444444444444444, \"#bd3786\"], [0.5555555555555556, \"#d8576b\"], [0.6666666666666666, \"#ed7953\"], [0.7777777777777778, \"#fb9f3a\"], [0.8888888888888888, \"#fdca26\"], [1.0, \"#f0f921\"]], \"type\": \"histogram2d\"}], \"histogram2dcontour\": [{\"colorbar\": {\"outlinewidth\": 0, \"ticks\": \"\"}, \"colorscale\": [[0.0, \"#0d0887\"], [0.1111111111111111, \"#46039f\"], [0.2222222222222222, \"#7201a8\"], [0.3333333333333333, \"#9c179e\"], [0.4444444444444444, \"#bd3786\"], [0.5555555555555556, \"#d8576b\"], [0.6666666666666666, \"#ed7953\"], [0.7777777777777778, \"#fb9f3a\"], [0.8888888888888888, \"#fdca26\"], [1.0, \"#f0f921\"]], \"type\": \"histogram2dcontour\"}], \"mesh3d\": [{\"colorbar\": {\"outlinewidth\": 0, \"ticks\": \"\"}, \"type\": \"mesh3d\"}], \"parcoords\": [{\"line\": {\"colorbar\": {\"outlinewidth\": 0, \"ticks\": \"\"}}, \"type\": \"parcoords\"}], \"pie\": [{\"automargin\": true, \"type\": \"pie\"}], \"scatter\": [{\"marker\": {\"colorbar\": {\"outlinewidth\": 0, \"ticks\": \"\"}}, \"type\": \"scatter\"}], \"scatter3d\": [{\"line\": {\"colorbar\": {\"outlinewidth\": 0, \"ticks\": \"\"}}, \"marker\": {\"colorbar\": {\"outlinewidth\": 0, \"ticks\": \"\"}}, \"type\": \"scatter3d\"}], \"scattercarpet\": [{\"marker\": {\"colorbar\": {\"outlinewidth\": 0, \"ticks\": \"\"}}, \"type\": \"scattercarpet\"}], \"scattergeo\": [{\"marker\": {\"colorbar\": {\"outlinewidth\": 0, \"ticks\": \"\"}}, \"type\": \"scattergeo\"}], \"scattergl\": [{\"marker\": {\"colorbar\": {\"outlinewidth\": 0, \"ticks\": \"\"}}, \"type\": \"scattergl\"}], \"scattermapbox\": [{\"marker\": {\"colorbar\": {\"outlinewidth\": 0, \"ticks\": \"\"}}, \"type\": \"scattermapbox\"}], \"scatterpolar\": [{\"marker\": {\"colorbar\": {\"outlinewidth\": 0, \"ticks\": \"\"}}, \"type\": \"scatterpolar\"}], \"scatterpolargl\": [{\"marker\": {\"colorbar\": {\"outlinewidth\": 0, \"ticks\": \"\"}}, \"type\": \"scatterpolargl\"}], \"scatterternary\": [{\"marker\": {\"colorbar\": {\"outlinewidth\": 0, \"ticks\": \"\"}}, \"type\": \"scatterternary\"}], \"surface\": [{\"colorbar\": {\"outlinewidth\": 0, \"ticks\": \"\"}, \"colorscale\": [[0.0, \"#0d0887\"], [0.1111111111111111, \"#46039f\"], [0.2222222222222222, \"#7201a8\"], [0.3333333333333333, \"#9c179e\"], [0.4444444444444444, \"#bd3786\"], [0.5555555555555556, \"#d8576b\"], [0.6666666666666666, \"#ed7953\"], [0.7777777777777778, \"#fb9f3a\"], [0.8888888888888888, \"#fdca26\"], [1.0, \"#f0f921\"]], \"type\": \"surface\"}], \"table\": [{\"cells\": {\"fill\": {\"color\": \"#EBF0F8\"}, \"line\": {\"color\": \"white\"}}, \"header\": {\"fill\": {\"color\": \"#C8D4E3\"}, \"line\": {\"color\": \"white\"}}, \"type\": \"table\"}]}, \"layout\": {\"annotationdefaults\": {\"arrowcolor\": \"#2a3f5f\", \"arrowhead\": 0, \"arrowwidth\": 1}, \"coloraxis\": {\"colorbar\": {\"outlinewidth\": 0, \"ticks\": \"\"}}, \"colorscale\": {\"diverging\": [[0, \"#8e0152\"], [0.1, \"#c51b7d\"], [0.2, \"#de77ae\"], [0.3, \"#f1b6da\"], [0.4, \"#fde0ef\"], [0.5, \"#f7f7f7\"], [0.6, \"#e6f5d0\"], [0.7, \"#b8e186\"], [0.8, \"#7fbc41\"], [0.9, \"#4d9221\"], [1, \"#276419\"]], \"sequential\": [[0.0, \"#0d0887\"], [0.1111111111111111, \"#46039f\"], [0.2222222222222222, \"#7201a8\"], [0.3333333333333333, \"#9c179e\"], [0.4444444444444444, \"#bd3786\"], [0.5555555555555556, \"#d8576b\"], [0.6666666666666666, \"#ed7953\"], [0.7777777777777778, \"#fb9f3a\"], [0.8888888888888888, \"#fdca26\"], [1.0, \"#f0f921\"]], \"sequentialminus\": [[0.0, \"#0d0887\"], [0.1111111111111111, \"#46039f\"], [0.2222222222222222, \"#7201a8\"], [0.3333333333333333, \"#9c179e\"], [0.4444444444444444, \"#bd3786\"], [0.5555555555555556, \"#d8576b\"], [0.6666666666666666, \"#ed7953\"], [0.7777777777777778, \"#fb9f3a\"], [0.8888888888888888, \"#fdca26\"], [1.0, \"#f0f921\"]]}, \"colorway\": [\"#636efa\", \"#EF553B\", \"#00cc96\", \"#ab63fa\", \"#FFA15A\", \"#19d3f3\", \"#FF6692\", \"#B6E880\", \"#FF97FF\", \"#FECB52\"], \"font\": {\"color\": \"#2a3f5f\"}, \"geo\": {\"bgcolor\": \"white\", \"lakecolor\": \"white\", \"landcolor\": \"#E5ECF6\", \"showlakes\": true, \"showland\": true, \"subunitcolor\": \"white\"}, \"hoverlabel\": {\"align\": \"left\"}, \"hovermode\": \"closest\", \"mapbox\": {\"style\": \"light\"}, \"paper_bgcolor\": \"white\", \"plot_bgcolor\": \"#E5ECF6\", \"polar\": {\"angularaxis\": {\"gridcolor\": \"white\", \"linecolor\": \"white\", \"ticks\": \"\"}, \"bgcolor\": \"#E5ECF6\", \"radialaxis\": {\"gridcolor\": \"white\", \"linecolor\": \"white\", \"ticks\": \"\"}}, \"scene\": {\"xaxis\": {\"backgroundcolor\": \"#E5ECF6\", \"gridcolor\": \"white\", \"gridwidth\": 2, \"linecolor\": \"white\", \"showbackground\": true, \"ticks\": \"\", \"zerolinecolor\": \"white\"}, \"yaxis\": {\"backgroundcolor\": \"#E5ECF6\", \"gridcolor\": \"white\", \"gridwidth\": 2, \"linecolor\": \"white\", \"showbackground\": true, \"ticks\": \"\", \"zerolinecolor\": \"white\"}, \"zaxis\": {\"backgroundcolor\": \"#E5ECF6\", \"gridcolor\": \"white\", \"gridwidth\": 2, \"linecolor\": \"white\", \"showbackground\": true, \"ticks\": \"\", \"zerolinecolor\": \"white\"}}, \"shapedefaults\": {\"line\": {\"color\": \"#2a3f5f\"}}, \"ternary\": {\"aaxis\": {\"gridcolor\": \"white\", \"linecolor\": \"white\", \"ticks\": \"\"}, \"baxis\": {\"gridcolor\": \"white\", \"linecolor\": \"white\", \"ticks\": \"\"}, \"bgcolor\": \"#E5ECF6\", \"caxis\": {\"gridcolor\": \"white\", \"linecolor\": \"white\", \"ticks\": \"\"}}, \"title\": {\"x\": 0.05}, \"xaxis\": {\"automargin\": true, \"gridcolor\": \"white\", \"linecolor\": \"white\", \"ticks\": \"\", \"title\": {\"standoff\": 15}, \"zerolinecolor\": \"white\", \"zerolinewidth\": 2}, \"yaxis\": {\"automargin\": true, \"gridcolor\": \"white\", \"linecolor\": \"white\", \"ticks\": \"\", \"title\": {\"standoff\": 15}, \"zerolinecolor\": \"white\", \"zerolinewidth\": 2}}}, \"title\": {\"text\": \"Korelacja spearmana atrybut\\u00f3w z klasa wynikow\\u0105\"}, \"xaxis\": {\"anchor\": \"y\", \"domain\": [0.0, 1.0], \"title\": {\"text\": \"x\"}}, \"yaxis\": {\"anchor\": \"x\", \"domain\": [0.0, 1.0], \"title\": {\"text\": \"0\"}}},\n",
              "                        {\"responsive\": true}\n",
              "                    ).then(function(){\n",
              "                            \n",
              "var gd = document.getElementById('b48e7add-2704-49a3-a293-cc2210016d5e');\n",
              "var x = new MutationObserver(function (mutations, observer) {{\n",
              "        var display = window.getComputedStyle(gd).display;\n",
              "        if (!display || display === 'none') {{\n",
              "            console.log([gd, 'removed!']);\n",
              "            Plotly.purge(gd);\n",
              "            observer.disconnect();\n",
              "        }}\n",
              "}});\n",
              "\n",
              "// Listen for the removal of the full notebook cells\n",
              "var notebookContainer = gd.closest('#notebook-container');\n",
              "if (notebookContainer) {{\n",
              "    x.observe(notebookContainer, {childList: true});\n",
              "}}\n",
              "\n",
              "// Listen for the clearing of the current output cell\n",
              "var outputEl = gd.closest('.output');\n",
              "if (outputEl) {{\n",
              "    x.observe(outputEl, {childList: true});\n",
              "}}\n",
              "\n",
              "                        })\n",
              "                };\n",
              "                \n",
              "            </script>\n",
              "        </div>\n",
              "</body>\n",
              "</html>"
            ]
          },
          "metadata": {
            "tags": []
          }
        }
      ]
    },
    {
      "cell_type": "markdown",
      "metadata": {
        "id": "GO8GBYiBTv36"
      },
      "source": [
        "Mamy w danych sporo atrybutów o niskiej korelacji z atrybutem klasyfikacji - prawdopodobnie bez wielkich strat dla dokładności modelu można je usunąć. Wśród nich jest też atrybut wcześniej wyróżniony jako podejrzany - \"void()\".\n"
      ]
    },
    {
      "cell_type": "markdown",
      "metadata": {
        "id": "SsydvzX9tXgL"
      },
      "source": [
        "Ponad to podczas analizy danych zauważyliśmy występowanie atrybutów, które powstały w skutek zastosowania transformaty Fouriera na innych atrybutach. Atrybuty takie mogą wprowadzać niepotrzebną redundancję danych. Sprawdzamy czy atrybuty te są skorelowane z ich odpowiednikami w dziedzinie czasu - jeśli korelacja jest silniejsza niż pewien ustawiony próg usuwamy je z modelu."
      ]
    },
    {
      "cell_type": "code",
      "metadata": {
        "id": "AepEeWOwCTJC",
        "colab": {
          "base_uri": "https://localhost:8080/"
        },
        "outputId": "836512c9-8b73-47bf-db54-9e81be5d1f90"
      },
      "source": [
        "# sprawdzenie korelacji odpowiadających sobie atrybutów f i t - podejrzewamy, że mogą wprowadzać redundancję\n",
        "def inv_fourier(df, fourier_labels):\n",
        "  inv_fourier_labels = [label.replace('f', 't', 1) for label in fourier_labels]\n",
        "  return df.filter(items=inv_fourier_labels)\n",
        "\n",
        "def fourier_correlation(df, inv_fourier_labels):\n",
        "  results = pd.DataFrame(columns=['label', 'value'])\n",
        "  for label in inv_fourier_labels:\n",
        "    new_row = {'label': label[1:], 'value': df[label].corr(df[label.replace('t', 'f', 1)])}\n",
        "    results = results.append(new_row, ignore_index=True)\n",
        "  return results\n",
        "\n",
        "fourier_labels = df.filter(regex='^f').columns\n",
        "inv_fourier_labels = inv_fourier(df, fourier_labels)\n",
        "\n",
        "correlation = fourier_correlation(df, inv_fourier_labels)\n",
        "\n",
        "def fourier_features(df, correlation, threshold=0.5):\n",
        "  features = []\n",
        "  for index, row in correlation.iterrows():\n",
        "    if abs(float(row['value']) > threshold):\n",
        "      features.append('f'+row['label'])\n",
        "\n",
        "  return features\n",
        "\n",
        "def filter_correlating_fourier(df, correlation, threshold=0.5):\n",
        "  features = fourier_features(df, correlation, threshold)\n",
        "  return df.drop(columns=features, errors='ignore')\n",
        "\n",
        "  # filtered = df.copy()\n",
        "  # for index, row in correlation.iterrows():\n",
        "  #   if abs(float(row['value']) > threshold):\n",
        "  #     filtered = filtered.drop(columns=['f'+row['label']], errors='ignore')\n",
        "\n",
        "  # return filtered\n",
        "\n",
        "no_fourier = filter_correlating_fourier(df, correlation)\n",
        "print(no_fourier.shape, df.shape)\n"
      ],
      "execution_count": null,
      "outputs": [
        {
          "output_type": "stream",
          "text": [
            "(11086, 523) (11086, 571)\n"
          ],
          "name": "stdout"
        }
      ]
    },
    {
      "cell_type": "markdown",
      "metadata": {
        "id": "6PZGclABu3x_"
      },
      "source": [
        "Po teście korelacji atrybutów Fouriera usunięte zostało 48 atrybutów."
      ]
    },
    {
      "cell_type": "markdown",
      "metadata": {
        "id": "VIq_Nkw1wLsx"
      },
      "source": [
        "Normalizujemy dane redukując średnią atrybutu do 0 oraz odchylenie standardowe do 1."
      ]
    },
    {
      "cell_type": "code",
      "metadata": {
        "id": "SlHxpTBBIC31"
      },
      "source": [
        "# normalizacja\n",
        "import sklearn.preprocessing as preprocessing\n",
        "X = df.drop('Activity', axis='columns')\n",
        "X = X.fillna(X.mean())\n",
        "\n",
        "def normalize(df):\n",
        "    cols = df.columns\n",
        "    x = df.values #returns a numpy array\n",
        "    scaler = preprocessing.StandardScaler()\n",
        "    x_scaled = scaler.fit_transform(x)\n",
        "    return pd.DataFrame(x_scaled, columns=cols)\n",
        "\n",
        "X = normalize(X)"
      ],
      "execution_count": null,
      "outputs": []
    },
    {
      "cell_type": "markdown",
      "metadata": {
        "id": "7cZk21qewdKT"
      },
      "source": [
        "Szkolenie modeli\n",
        "====\n",
        "Szkolimy model regresji logistycznej dla 3 zbiorów atrybutów - pełnego, zredukowanego o słabo skorelowane z klasą wynikową oraz zredukowanego dwukrotnie: o mało skorelowane z klasą wynikową oraz redundantne atrybuty Fouriera."
      ]
    },
    {
      "cell_type": "code",
      "metadata": {
        "id": "GpcUk9xoCS_F",
        "colab": {
          "base_uri": "https://localhost:8080/"
        },
        "outputId": "a85c436c-81f5-4ff9-8b41-ffb6ace1ceb2"
      },
      "source": [
        "# przykładowa klasyfikacja z wykorzystaniem wszystkich atrybutów\n",
        "from sklearn.model_selection import train_test_split\n",
        "from sklearn.linear_model import LogisticRegression\n",
        "\n",
        "y = labels\n",
        "\n",
        "X_train, X_test, y_train, y_test = train_test_split(X, y, test_size=0.3, random_state=69)\n",
        "\n",
        "model_lr = LogisticRegression(random_state=69).fit(X_train, y_train)\n",
        "best_score = model_lr.score(X_test, y_test)\n",
        "best_score"
      ],
      "execution_count": null,
      "outputs": [
        {
          "output_type": "execute_result",
          "data": {
            "text/plain": [
              "0.9813589897775106"
            ]
          },
          "metadata": {
            "tags": []
          },
          "execution_count": 16
        }
      ]
    },
    {
      "cell_type": "code",
      "metadata": {
        "colab": {
          "base_uri": "https://localhost:8080/"
        },
        "id": "TB-HuOAOHt8n",
        "outputId": "109375b2-c9e9-4639-9f7c-b3f35aa7bb3a"
      },
      "source": [
        "# zbiór atrybutów zredukowany o te nisko skorelowane z atrybutem docelowym\n",
        "weak_f = correl[abs(correl[0]) < 0.5]\n",
        "\n",
        "X_train_reduced = X_train.drop(weak_f.index, axis=1)\n",
        "print(X_train.shape, X_train_reduced.shape, weak_f.shape) #sanity check\n",
        "\n",
        "X_test_reduced = X_test.drop(weak_f.index, axis=1)\n",
        "print(X_test.shape, X_test_reduced.shape, weak_f.shape) #sanity check\n",
        "\n",
        "model_lr = LogisticRegression(random_state=69).fit(X_train_reduced, y_train)\n",
        "model_lr.score(X_test_reduced, y_test) # 0.969 czyli lekki, ale akceptowalny spadek"
      ],
      "execution_count": null,
      "outputs": [
        {
          "output_type": "stream",
          "text": [
            "(7760, 570) (7760, 418) (152, 1)\n",
            "(3326, 570) (3326, 418) (152, 1)\n"
          ],
          "name": "stdout"
        },
        {
          "output_type": "execute_result",
          "data": {
            "text/plain": [
              "0.9705351773902585"
            ]
          },
          "metadata": {
            "tags": []
          },
          "execution_count": 27
        }
      ]
    },
    {
      "cell_type": "code",
      "metadata": {
        "colab": {
          "base_uri": "https://localhost:8080/"
        },
        "id": "lcw0LCwCZG2A",
        "outputId": "73d65361-67ce-43cc-be9f-8c26e518d9fe"
      },
      "source": [
        "# dodatkowa redukcja wewnętrznie skorelowaych atrybutów fouriera\n",
        "X_train_reduced = filter_correlating_fourier(X_train_reduced, correlation)\n",
        "print(X_train.shape, X_train_reduced.shape) #sanity check\n",
        "\n",
        "X_test_reduced = filter_correlating_fourier(X_test_reduced,correlation )\n",
        "print(X_test.shape, X_test_reduced.shape) #sanity check\n",
        "\n",
        "model_lr = LogisticRegression(random_state=69).fit(X_train_reduced, y_train)\n",
        "model_lr.score(X_test_reduced, y_test) #0.966 czyli mały, zupełnie okej spadek"
      ],
      "execution_count": null,
      "outputs": [
        {
          "output_type": "stream",
          "text": [
            "(7760, 570) (7760, 370)\n",
            "(3326, 570) (3326, 370)\n"
          ],
          "name": "stdout"
        },
        {
          "output_type": "execute_result",
          "data": {
            "text/plain": [
              "0.9687312086590499"
            ]
          },
          "metadata": {
            "tags": []
          },
          "execution_count": 19
        }
      ]
    },
    {
      "cell_type": "markdown",
      "metadata": {
        "id": "v4Q3GRm0bPQc"
      },
      "source": [
        "Strojenie hiperparametrów redukcji atrybutów\n",
        "====\n"
      ]
    },
    {
      "cell_type": "markdown",
      "metadata": {
        "id": "1O8YXuXFxm88"
      },
      "source": [
        "Badamy jak odrzucanie atrybutów malo skorelowanych z atrybutem wynikowym wpływa na dokładność modelu"
      ]
    },
    {
      "cell_type": "code",
      "metadata": {
        "id": "k9jGAHZdND0m"
      },
      "source": [
        "#strojenie hiperparametru progu usuwania atrybutów małoinformatywnych\n",
        "thresholds = [0.3, 0.4, 0.5, 0.6, 0.7]\n",
        "res = []\n",
        "num = []\n",
        "\n",
        "for th in thresholds:\n",
        "\n",
        "  weak_f = correl[abs(correl[0]) < th]\n",
        "  num.append(len(weak_f.index ))\n",
        "\n",
        "  # dropping according to threshold\n",
        "  X_train_reduced = X_train.drop(weak_f.index, axis=1)\n",
        "  X_test_reduced = X_test.drop(weak_f.index, axis=1)\n",
        "\n",
        "  #dropping correlated fourier attibutes\n",
        "  X_test_reduced = filter_correlating_fourier(X_test_reduced, correlation)\n",
        "  X_train_reduced = filter_correlating_fourier(X_train_reduced, correlation)\n",
        "\n",
        "  model_lr = LogisticRegression(random_state=69).fit(X_train_reduced, y_train)\n",
        "  score = model_lr.score(X_test_reduced, y_test)\n",
        "\n",
        "  res.append(score)"
      ],
      "execution_count": null,
      "outputs": []
    },
    {
      "cell_type": "code",
      "metadata": {
        "colab": {
          "base_uri": "https://localhost:8080/"
        },
        "id": "MzuaVerRPHKj",
        "outputId": "7bf668de-2bc6-4bd2-b48b-d6031fe257a7"
      },
      "source": [
        "for i in range (len(res)):\n",
        "  print(f'Score for threshold {thresholds[i]} - {res[i]}, dropeed {num[i]} features. Difference to best score: {best_score- res[i]}')"
      ],
      "execution_count": null,
      "outputs": [
        {
          "output_type": "stream",
          "text": [
            "Score for threshold 0.3 - 0.9813589897775106, dropeed 106 features. Difference to best score: 0.0\n",
            "Score for threshold 0.4 - 0.9768490679494889, dropeed 138 features. Difference to best score: 0.004509921828021679\n",
            "Score for threshold 0.5 - 0.9687312086590499, dropeed 152 features. Difference to best score: 0.012627781118460635\n",
            "Score for threshold 0.6 - 0.9236319903788335, dropeed 175 features. Difference to best score: 0.05772699939867709\n",
            "Score for threshold 0.7 - 0.9116055321707757, dropeed 300 features. Difference to best score: 0.0697534576067349\n"
          ],
          "name": "stdout"
        }
      ]
    },
    {
      "cell_type": "markdown",
      "metadata": {
        "id": "D-f46o1La8Dc"
      },
      "source": [
        "Decydujemy się na próg 0.4 - pozwala zredukować wymiarowość o 139 atrybutów, a dokładność klasyfikacji spada o niecały punkt procentowy"
      ]
    },
    {
      "cell_type": "code",
      "metadata": {
        "id": "KK-ozt2bXH3E"
      },
      "source": [
        "thresholds = [0.3, 0.4, 0.5, 0.6, 0.7]\n",
        "res = []\n",
        "num = []\n",
        "base = len(X_train.columns)\n",
        "\n",
        "for th in thresholds:\n",
        "\n",
        "  weak_f = correl[abs(correl[0]) < 0.4]\n",
        "\n",
        "  # dropping according to threshold\n",
        "  X_train_reduced = X_train.drop(weak_f.index, axis=1)\n",
        "  X_test_reduced = X_test.drop(weak_f.index, axis=1)\n",
        "\n",
        "  #dropping correlated fourier attibutes\n",
        "  X_test_reduced = filter_correlating_fourier(X_test_reduced, correlation, th)\n",
        "  X_train_reduced = filter_correlating_fourier(X_train_reduced, correlation, th)\n",
        "\n",
        "  model_lr = LogisticRegression(random_state=69).fit(X_train_reduced, y_train)\n",
        "  score = model_lr.score(X_test_reduced, y_test)\n",
        "\n",
        "  num.append(base - len(X_train_reduced.columns))\n",
        "  res.append(score)"
      ],
      "execution_count": null,
      "outputs": []
    },
    {
      "cell_type": "code",
      "metadata": {
        "colab": {
          "base_uri": "https://localhost:8080/"
        },
        "id": "nVYJmGCLXHvS",
        "outputId": "9378393f-30a4-414f-b410-46b495c44871"
      },
      "source": [
        "for i in range (len(res)):\n",
        "  print(f'Score for threshold {thresholds[i]} - {res[i]}, dropeed {num[i]} features. Difference to best score: {best_score- res[i]}')"
      ],
      "execution_count": null,
      "outputs": [
        {
          "output_type": "stream",
          "text": [
            "Score for threshold 0.3 - 0.9768490679494889, dropeed 186 features. Difference to best score: 0.004509921828021679\n",
            "Score for threshold 0.4 - 0.9768490679494889, dropeed 186 features. Difference to best score: 0.004509921828021679\n",
            "Score for threshold 0.5 - 0.9768490679494889, dropeed 186 features. Difference to best score: 0.004509921828021679\n",
            "Score for threshold 0.6 - 0.9765484064942874, dropeed 184 features. Difference to best score: 0.0048105832832231465\n",
            "Score for threshold 0.7 - 0.9765484064942874, dropeed 179 features. Difference to best score: 0.0048105832832231465\n"
          ],
          "name": "stdout"
        }
      ]
    },
    {
      "cell_type": "markdown",
      "metadata": {
        "id": "DC8rGsecb0uo"
      },
      "source": [
        "Zmiany progu nie powodują zmiany ilości wyrzucanych atrybutów, dlatego dla redundantnych atrybutów fouriera pozostaniemy przy progu domyślnym - 0.5"
      ]
    },
    {
      "cell_type": "markdown",
      "metadata": {
        "id": "UC4KRpMs7mRG"
      },
      "source": [
        "Najlepsze parametry modelu znalezione w procesie dopasowywania hiperparametrów"
      ]
    },
    {
      "cell_type": "code",
      "metadata": {
        "id": "gXWH3fXn7j1i",
        "colab": {
          "base_uri": "https://localhost:8080/"
        },
        "outputId": "5d833c7d-79da-4d99-c56e-42b8a4b7a790"
      },
      "source": [
        "LogisticRegression(tol = 1e-06, solver= 'lbfgs', penalty='l2', multi_class= 'multinomial', max_iter= 300, C= 1.0)"
      ],
      "execution_count": null,
      "outputs": [
        {
          "output_type": "execute_result",
          "data": {
            "text/plain": [
              "LogisticRegression(C=1.0, class_weight=None, dual=False, fit_intercept=True,\n",
              "                   intercept_scaling=1, l1_ratio=None, max_iter=300,\n",
              "                   multi_class='multinomial', n_jobs=None, penalty='l2',\n",
              "                   random_state=None, solver='lbfgs', tol=1e-06, verbose=0,\n",
              "                   warm_start=False)"
            ]
          },
          "metadata": {
            "tags": []
          },
          "execution_count": 69
        }
      ]
    },
    {
      "cell_type": "markdown",
      "metadata": {
        "id": "-nxuZe6Lb-vS"
      },
      "source": [
        "Interpretacja wyników\n",
        "====\n"
      ]
    },
    {
      "cell_type": "markdown",
      "metadata": {
        "id": "YX9CQFkm0OmF"
      },
      "source": [
        "Dużą zaletą modelu regresji logistycznej jest łatwa interpretacja wyników modelu. Na podstawie wag poszczególnych atrybutów można ocenić jak istotny jest dany parametr dla predykcji modelu. Jako że model regresji logistycznej dla problemu klasyfikacji niebinarnej tworzy tyle klasyfikatorów ile jest klas to wagi atrybutów są różne dla każdej etykiety. Można więc ocenić które metryki niosą ze sobą najwięcej informacji potrzebnych do klasyfikacji każdej z danej przewidywanej czynności."
      ]
    },
    {
      "cell_type": "code",
      "metadata": {
        "colab": {
          "base_uri": "https://localhost:8080/",
          "height": 1000
        },
        "id": "F9B8AazBXHni",
        "outputId": "2bcfe63e-d11e-4548-ebfa-ae7ff3208471"
      },
      "source": [
        "from plotly.subplots import make_subplots\n",
        "\n",
        "\n",
        "def most_important_features(X, model_lr, top_n=5):\n",
        "    \n",
        "    feature_importance = {}\n",
        "\n",
        "    for i, aclass in enumerate(model_lr.classes_):\n",
        "        importance = abs(model_lr.coef_[i])\n",
        "\n",
        "        importance_df = pd.DataFrame(importance, columns=['Importance'])\n",
        "        importance_df = importance_df.sort_values(by='Importance',ascending=False)\n",
        "        top = importance_df[:top_n]\n",
        "        top.index.name = 'Feature'\n",
        "        top = top.reset_index()\n",
        "        top['Feature'] = top['Feature'].map(lambda i: X.columns[i])\n",
        "        #best_features = {X.columns[col]:importance for col, importance in top.itertuples()}\n",
        "        feature_importance[aclass] = top\n",
        "        \n",
        "    return feature_importance\n",
        "\n",
        "\n",
        "def plot_most_important_features(feature_importance):\n",
        "    plt_titles = list(feature_importance.keys())\n",
        "    length = len(feature_importance)\n",
        "    \n",
        "    fig = make_subplots(\n",
        "        rows=len(feature_importance),\n",
        "        cols=1,\n",
        "        subplot_titles=plt_titles,\n",
        "    )\n",
        "    \n",
        "    for i,top in enumerate(feature_importance.values()):\n",
        "        f = px.bar(top, x='Feature', y='Importance')\n",
        "        fig.add_trace(f.data[0], row = i + 1, col = 1)\n",
        "    fig.update_layout(height=length * 350, width=900)\n",
        "    fig.show()\n",
        "\n",
        "feature_importance = most_important_features(X, model_lr, top_n=8)\n",
        "plot_most_important_features(feature_importance)"
      ],
      "execution_count": null,
      "outputs": [
        {
          "output_type": "display_data",
          "data": {
            "text/html": [
              "<html>\n",
              "<head><meta charset=\"utf-8\" /></head>\n",
              "<body>\n",
              "    <div>\n",
              "            <script src=\"https://cdnjs.cloudflare.com/ajax/libs/mathjax/2.7.5/MathJax.js?config=TeX-AMS-MML_SVG\"></script><script type=\"text/javascript\">if (window.MathJax) {MathJax.Hub.Config({SVG: {font: \"STIX-Web\"}});}</script>\n",
              "                <script type=\"text/javascript\">window.PlotlyConfig = {MathJaxConfig: 'local'};</script>\n",
              "        <script src=\"https://cdn.plot.ly/plotly-latest.min.js\"></script>    \n",
              "            <div id=\"edbc2a85-1774-455b-97be-738f78c6b292\" class=\"plotly-graph-div\" style=\"height:2100px; width:900px;\"></div>\n",
              "            <script type=\"text/javascript\">\n",
              "                \n",
              "                    window.PLOTLYENV=window.PLOTLYENV || {};\n",
              "                    \n",
              "                if (document.getElementById(\"edbc2a85-1774-455b-97be-738f78c6b292\")) {\n",
              "                    Plotly.newPlot(\n",
              "                        'edbc2a85-1774-455b-97be-738f78c6b292',\n",
              "                        [{\"alignmentgroup\": \"True\", \"hoverlabel\": {\"namelength\": 0}, \"hovertemplate\": \"Feature=%{x}<br>Importance=%{y}\", \"legendgroup\": \"\", \"marker\": {\"color\": \"#636efa\"}, \"name\": \"\", \"offsetgroup\": \"\", \"orientation\": \"v\", \"showlegend\": false, \"textposition\": \"auto\", \"type\": \"bar\", \"x\": [\"tBodyAccJerk-max()-Y\", \"tBodyAcc-mean()-Y\", \"fBodyGyro-bandsEnergy()-1,16.1\", \"fBodyBodyGyroJerkMag-std()\", \"fBodyAccJerk-bandsEnergy()-49,56.2\", \"fBodyGyro-bandsEnergy()-1,8.1\", \"tBodyAcc-max()-Z\", \"fBodyGyro-bandsEnergy()-49,56.2\"], \"xaxis\": \"x\", \"y\": [4.277285553535214, 1.9751395082773069, 1.8217516421087454, 1.3250184851091809, 1.310227784349027, 1.216765987310532, 1.197054359616707, 1.112174405205555], \"yaxis\": \"y\"}, {\"alignmentgroup\": \"True\", \"hoverlabel\": {\"namelength\": 0}, \"hovertemplate\": \"Feature=%{x}<br>Importance=%{y}\", \"legendgroup\": \"\", \"marker\": {\"color\": \"#636efa\"}, \"name\": \"\", \"offsetgroup\": \"\", \"orientation\": \"v\", \"showlegend\": false, \"textposition\": \"auto\", \"type\": \"bar\", \"x\": [\"tBodyAcc-max()-Z\", \"fBodyBodyGyroJerkMag-skewness()\", \"angle(Y,gravityMean)\", \"fBodyGyro-bandsEnergy()-49,64\", \"fBodyGyro-skewness()-X\", \"tBodyAccJerk-min()-X\", \"tBodyAcc-mad()-X\", \"fBodyGyro-skewness()-Y\"], \"xaxis\": \"x2\", \"y\": [2.949361702734098, 1.963017904109718, 1.6676874098335475, 1.5119084920459038, 1.3732986218430527, 1.3165750244864274, 1.2633968835574434, 1.052220846636977], \"yaxis\": \"y2\"}, {\"alignmentgroup\": \"True\", \"hoverlabel\": {\"namelength\": 0}, \"hovertemplate\": \"Feature=%{x}<br>Importance=%{y}\", \"legendgroup\": \"\", \"marker\": {\"color\": \"#636efa\"}, \"name\": \"\", \"offsetgroup\": \"\", \"orientation\": \"v\", \"showlegend\": false, \"textposition\": \"auto\", \"type\": \"bar\", \"x\": [\"tBodyAccJerk-max()-Y\", \"fBodyGyro-bandsEnergy()-49,64\", \"tBodyAcc-max()-Z\", \"angle(Y,gravityMean)\", \"tBodyAcc-mad()-X\", \"fBodyGyro-skewness()-Y\", \"fBodyGyro-bandsEnergy()-1,16.1\", \"fBodyAccJerk-bandsEnergy()-57,64\"], \"xaxis\": \"x3\", \"y\": [3.6550236302734134, 1.7861273772905144, 1.458027784937489, 1.232508219005511, 1.0485761248480514, 0.9585265254502726, 0.9284352946843945, 0.8984767592292686], \"yaxis\": \"y3\"}, {\"alignmentgroup\": \"True\", \"hoverlabel\": {\"namelength\": 0}, \"hovertemplate\": \"Feature=%{x}<br>Importance=%{y}\", \"legendgroup\": \"\", \"marker\": {\"color\": \"#636efa\"}, \"name\": \"\", \"offsetgroup\": \"\", \"orientation\": \"v\", \"showlegend\": false, \"textposition\": \"auto\", \"type\": \"bar\", \"x\": [\"fBodyAccJerk-bandsEnergy()-9,16.2\", \"tBodyAcc-mad()-X\", \"fBodyAcc-bandsEnergy()-1,16\", \"fBodyGyro-min()-Z\", \"tBodyAcc-min()-Y\", \"tBodyAccJerkMag-mean()\", \"fBodyGyro-mad()-X\", \"fBodyAccJerk-bandsEnergy()-1,8.2\"], \"xaxis\": \"x4\", \"y\": [0.9412835357606192, 0.7796306518554985, 0.7377940661140048, 0.7028075939861373, 0.6626352330449017, 0.6603873977471112, 0.5939049719212001, 0.5935694499463277], \"yaxis\": \"y4\"}, {\"alignmentgroup\": \"True\", \"hoverlabel\": {\"namelength\": 0}, \"hovertemplate\": \"Feature=%{x}<br>Importance=%{y}\", \"legendgroup\": \"\", \"marker\": {\"color\": \"#636efa\"}, \"name\": \"\", \"offsetgroup\": \"\", \"orientation\": \"v\", \"showlegend\": false, \"textposition\": \"auto\", \"type\": \"bar\", \"x\": [\"fBodyGyro-bandsEnergy()-9,16.1\", \"fBodyBodyGyroJerkMag-min()\", \"fBodyGyro-energy()-Y\", \"fBodyAcc-bandsEnergy()-9,16.1\", \"fBodyAcc-bandsEnergy()-1,16\", \"fBodyGyro-min()-Z\", \"fBodyGyro-energy()-X\", \"tBodyAccJerkMag-mean()\"], \"xaxis\": \"x5\", \"y\": [0.8847971849783178, 0.7983310520869026, 0.7662956490387142, 0.7206488826538338, 0.7115004207135267, 0.6844045438095618, 0.6764702219369038, 0.66847246500695], \"yaxis\": \"y5\"}, {\"alignmentgroup\": \"True\", \"hoverlabel\": {\"namelength\": 0}, \"hovertemplate\": \"Feature=%{x}<br>Importance=%{y}\", \"legendgroup\": \"\", \"marker\": {\"color\": \"#636efa\"}, \"name\": \"\", \"offsetgroup\": \"\", \"orientation\": \"v\", \"showlegend\": false, \"textposition\": \"auto\", \"type\": \"bar\", \"x\": [\"fBodyGyro-energy()-Y\", \"tBodyAcc-mad()-X\", \"tBodyAcc-arCoeff()-Y,4\", \"tBodyAccJerk-max()-Y\", \"fBodyGyro-mad()-Z\", \"fBodyGyro-bandsEnergy()-1,8.2\", \"fBodyGyro-mad()-X\", \"fBodyGyro-bandsEnergy()-9,16.1\"], \"xaxis\": \"x6\", \"y\": [0.8501278232687723, 0.7397998617279267, 0.6947548773103364, 0.6828498814927448, 0.6693455413295795, 0.6491750198893907, 0.6188908364763139, 0.6164831529428967], \"yaxis\": \"y6\"}],\n",
              "                        {\"annotations\": [{\"font\": {\"size\": 16}, \"showarrow\": false, \"text\": \"LAYING\", \"x\": 0.5, \"xanchor\": \"center\", \"xref\": \"paper\", \"y\": 0.9999999999999999, \"yanchor\": \"bottom\", \"yref\": \"paper\"}, {\"font\": {\"size\": 16}, \"showarrow\": false, \"text\": \"SITTING\", \"x\": 0.5, \"xanchor\": \"center\", \"xref\": \"paper\", \"y\": 0.8194444444444444, \"yanchor\": \"bottom\", \"yref\": \"paper\"}, {\"font\": {\"size\": 16}, \"showarrow\": false, \"text\": \"STANDING\", \"x\": 0.5, \"xanchor\": \"center\", \"xref\": \"paper\", \"y\": 0.638888888888889, \"yanchor\": \"bottom\", \"yref\": \"paper\"}, {\"font\": {\"size\": 16}, \"showarrow\": false, \"text\": \"WALKING\", \"x\": 0.5, \"xanchor\": \"center\", \"xref\": \"paper\", \"y\": 0.4583333333333333, \"yanchor\": \"bottom\", \"yref\": \"paper\"}, {\"font\": {\"size\": 16}, \"showarrow\": false, \"text\": \"WALKING_DOWNSTAIRS\", \"x\": 0.5, \"xanchor\": \"center\", \"xref\": \"paper\", \"y\": 0.2777777777777778, \"yanchor\": \"bottom\", \"yref\": \"paper\"}, {\"font\": {\"size\": 16}, \"showarrow\": false, \"text\": \"WALKING_UPSTAIRS\", \"x\": 0.5, \"xanchor\": \"center\", \"xref\": \"paper\", \"y\": 0.09722222222222222, \"yanchor\": \"bottom\", \"yref\": \"paper\"}], \"height\": 2100, \"template\": {\"data\": {\"bar\": [{\"error_x\": {\"color\": \"#2a3f5f\"}, \"error_y\": {\"color\": \"#2a3f5f\"}, \"marker\": {\"line\": {\"color\": \"#E5ECF6\", \"width\": 0.5}}, \"type\": \"bar\"}], \"barpolar\": [{\"marker\": {\"line\": {\"color\": \"#E5ECF6\", \"width\": 0.5}}, \"type\": \"barpolar\"}], \"carpet\": [{\"aaxis\": {\"endlinecolor\": \"#2a3f5f\", \"gridcolor\": \"white\", \"linecolor\": \"white\", \"minorgridcolor\": \"white\", \"startlinecolor\": \"#2a3f5f\"}, \"baxis\": {\"endlinecolor\": \"#2a3f5f\", \"gridcolor\": \"white\", \"linecolor\": \"white\", \"minorgridcolor\": \"white\", \"startlinecolor\": \"#2a3f5f\"}, \"type\": \"carpet\"}], \"choropleth\": [{\"colorbar\": {\"outlinewidth\": 0, \"ticks\": \"\"}, \"type\": \"choropleth\"}], \"contour\": [{\"colorbar\": {\"outlinewidth\": 0, \"ticks\": \"\"}, \"colorscale\": [[0.0, \"#0d0887\"], [0.1111111111111111, \"#46039f\"], [0.2222222222222222, \"#7201a8\"], [0.3333333333333333, \"#9c179e\"], [0.4444444444444444, \"#bd3786\"], [0.5555555555555556, \"#d8576b\"], [0.6666666666666666, \"#ed7953\"], [0.7777777777777778, \"#fb9f3a\"], [0.8888888888888888, \"#fdca26\"], [1.0, \"#f0f921\"]], \"type\": \"contour\"}], \"contourcarpet\": [{\"colorbar\": {\"outlinewidth\": 0, \"ticks\": \"\"}, \"type\": \"contourcarpet\"}], \"heatmap\": [{\"colorbar\": {\"outlinewidth\": 0, \"ticks\": \"\"}, \"colorscale\": [[0.0, \"#0d0887\"], [0.1111111111111111, \"#46039f\"], [0.2222222222222222, \"#7201a8\"], [0.3333333333333333, \"#9c179e\"], [0.4444444444444444, \"#bd3786\"], [0.5555555555555556, \"#d8576b\"], [0.6666666666666666, \"#ed7953\"], [0.7777777777777778, \"#fb9f3a\"], [0.8888888888888888, \"#fdca26\"], [1.0, \"#f0f921\"]], \"type\": \"heatmap\"}], \"heatmapgl\": [{\"colorbar\": {\"outlinewidth\": 0, \"ticks\": \"\"}, \"colorscale\": [[0.0, \"#0d0887\"], [0.1111111111111111, \"#46039f\"], [0.2222222222222222, \"#7201a8\"], [0.3333333333333333, \"#9c179e\"], [0.4444444444444444, \"#bd3786\"], [0.5555555555555556, \"#d8576b\"], [0.6666666666666666, \"#ed7953\"], [0.7777777777777778, \"#fb9f3a\"], [0.8888888888888888, \"#fdca26\"], [1.0, \"#f0f921\"]], \"type\": \"heatmapgl\"}], \"histogram\": [{\"marker\": {\"colorbar\": {\"outlinewidth\": 0, \"ticks\": \"\"}}, \"type\": \"histogram\"}], \"histogram2d\": [{\"colorbar\": {\"outlinewidth\": 0, \"ticks\": \"\"}, \"colorscale\": [[0.0, \"#0d0887\"], [0.1111111111111111, \"#46039f\"], [0.2222222222222222, \"#7201a8\"], [0.3333333333333333, \"#9c179e\"], [0.4444444444444444, \"#bd3786\"], [0.5555555555555556, \"#d8576b\"], [0.6666666666666666, \"#ed7953\"], [0.7777777777777778, \"#fb9f3a\"], [0.8888888888888888, \"#fdca26\"], [1.0, \"#f0f921\"]], \"type\": \"histogram2d\"}], \"histogram2dcontour\": [{\"colorbar\": {\"outlinewidth\": 0, \"ticks\": \"\"}, \"colorscale\": [[0.0, \"#0d0887\"], [0.1111111111111111, \"#46039f\"], [0.2222222222222222, \"#7201a8\"], [0.3333333333333333, \"#9c179e\"], [0.4444444444444444, \"#bd3786\"], [0.5555555555555556, \"#d8576b\"], [0.6666666666666666, \"#ed7953\"], [0.7777777777777778, \"#fb9f3a\"], [0.8888888888888888, \"#fdca26\"], [1.0, \"#f0f921\"]], \"type\": \"histogram2dcontour\"}], \"mesh3d\": [{\"colorbar\": {\"outlinewidth\": 0, \"ticks\": \"\"}, \"type\": \"mesh3d\"}], \"parcoords\": [{\"line\": {\"colorbar\": {\"outlinewidth\": 0, \"ticks\": \"\"}}, \"type\": \"parcoords\"}], \"pie\": [{\"automargin\": true, \"type\": \"pie\"}], \"scatter\": [{\"marker\": {\"colorbar\": {\"outlinewidth\": 0, \"ticks\": \"\"}}, \"type\": \"scatter\"}], \"scatter3d\": [{\"line\": {\"colorbar\": {\"outlinewidth\": 0, \"ticks\": \"\"}}, \"marker\": {\"colorbar\": {\"outlinewidth\": 0, \"ticks\": \"\"}}, \"type\": \"scatter3d\"}], \"scattercarpet\": [{\"marker\": {\"colorbar\": {\"outlinewidth\": 0, \"ticks\": \"\"}}, \"type\": \"scattercarpet\"}], \"scattergeo\": [{\"marker\": {\"colorbar\": {\"outlinewidth\": 0, \"ticks\": \"\"}}, \"type\": \"scattergeo\"}], \"scattergl\": [{\"marker\": {\"colorbar\": {\"outlinewidth\": 0, \"ticks\": \"\"}}, \"type\": \"scattergl\"}], \"scattermapbox\": [{\"marker\": {\"colorbar\": {\"outlinewidth\": 0, \"ticks\": \"\"}}, \"type\": \"scattermapbox\"}], \"scatterpolar\": [{\"marker\": {\"colorbar\": {\"outlinewidth\": 0, \"ticks\": \"\"}}, \"type\": \"scatterpolar\"}], \"scatterpolargl\": [{\"marker\": {\"colorbar\": {\"outlinewidth\": 0, \"ticks\": \"\"}}, \"type\": \"scatterpolargl\"}], \"scatterternary\": [{\"marker\": {\"colorbar\": {\"outlinewidth\": 0, \"ticks\": \"\"}}, \"type\": \"scatterternary\"}], \"surface\": [{\"colorbar\": {\"outlinewidth\": 0, \"ticks\": \"\"}, \"colorscale\": [[0.0, \"#0d0887\"], [0.1111111111111111, \"#46039f\"], [0.2222222222222222, \"#7201a8\"], [0.3333333333333333, \"#9c179e\"], [0.4444444444444444, \"#bd3786\"], [0.5555555555555556, \"#d8576b\"], [0.6666666666666666, \"#ed7953\"], [0.7777777777777778, \"#fb9f3a\"], [0.8888888888888888, \"#fdca26\"], [1.0, \"#f0f921\"]], \"type\": \"surface\"}], \"table\": [{\"cells\": {\"fill\": {\"color\": \"#EBF0F8\"}, \"line\": {\"color\": \"white\"}}, \"header\": {\"fill\": {\"color\": \"#C8D4E3\"}, \"line\": {\"color\": \"white\"}}, \"type\": \"table\"}]}, \"layout\": {\"annotationdefaults\": {\"arrowcolor\": \"#2a3f5f\", \"arrowhead\": 0, \"arrowwidth\": 1}, \"coloraxis\": {\"colorbar\": {\"outlinewidth\": 0, \"ticks\": \"\"}}, \"colorscale\": {\"diverging\": [[0, \"#8e0152\"], [0.1, \"#c51b7d\"], [0.2, \"#de77ae\"], [0.3, \"#f1b6da\"], [0.4, \"#fde0ef\"], [0.5, \"#f7f7f7\"], [0.6, \"#e6f5d0\"], [0.7, \"#b8e186\"], [0.8, \"#7fbc41\"], [0.9, \"#4d9221\"], [1, \"#276419\"]], \"sequential\": [[0.0, \"#0d0887\"], [0.1111111111111111, \"#46039f\"], [0.2222222222222222, \"#7201a8\"], [0.3333333333333333, \"#9c179e\"], [0.4444444444444444, \"#bd3786\"], [0.5555555555555556, \"#d8576b\"], [0.6666666666666666, \"#ed7953\"], [0.7777777777777778, \"#fb9f3a\"], [0.8888888888888888, \"#fdca26\"], [1.0, \"#f0f921\"]], \"sequentialminus\": [[0.0, \"#0d0887\"], [0.1111111111111111, \"#46039f\"], [0.2222222222222222, \"#7201a8\"], [0.3333333333333333, \"#9c179e\"], [0.4444444444444444, \"#bd3786\"], [0.5555555555555556, \"#d8576b\"], [0.6666666666666666, \"#ed7953\"], [0.7777777777777778, \"#fb9f3a\"], [0.8888888888888888, \"#fdca26\"], [1.0, \"#f0f921\"]]}, \"colorway\": [\"#636efa\", \"#EF553B\", \"#00cc96\", \"#ab63fa\", \"#FFA15A\", \"#19d3f3\", \"#FF6692\", \"#B6E880\", \"#FF97FF\", \"#FECB52\"], \"font\": {\"color\": \"#2a3f5f\"}, \"geo\": {\"bgcolor\": \"white\", \"lakecolor\": \"white\", \"landcolor\": \"#E5ECF6\", \"showlakes\": true, \"showland\": true, \"subunitcolor\": \"white\"}, \"hoverlabel\": {\"align\": \"left\"}, \"hovermode\": \"closest\", \"mapbox\": {\"style\": \"light\"}, \"paper_bgcolor\": \"white\", \"plot_bgcolor\": \"#E5ECF6\", \"polar\": {\"angularaxis\": {\"gridcolor\": \"white\", \"linecolor\": \"white\", \"ticks\": \"\"}, \"bgcolor\": \"#E5ECF6\", \"radialaxis\": {\"gridcolor\": \"white\", \"linecolor\": \"white\", \"ticks\": \"\"}}, \"scene\": {\"xaxis\": {\"backgroundcolor\": \"#E5ECF6\", \"gridcolor\": \"white\", \"gridwidth\": 2, \"linecolor\": \"white\", \"showbackground\": true, \"ticks\": \"\", \"zerolinecolor\": \"white\"}, \"yaxis\": {\"backgroundcolor\": \"#E5ECF6\", \"gridcolor\": \"white\", \"gridwidth\": 2, \"linecolor\": \"white\", \"showbackground\": true, \"ticks\": \"\", \"zerolinecolor\": \"white\"}, \"zaxis\": {\"backgroundcolor\": \"#E5ECF6\", \"gridcolor\": \"white\", \"gridwidth\": 2, \"linecolor\": \"white\", \"showbackground\": true, \"ticks\": \"\", \"zerolinecolor\": \"white\"}}, \"shapedefaults\": {\"line\": {\"color\": \"#2a3f5f\"}}, \"ternary\": {\"aaxis\": {\"gridcolor\": \"white\", \"linecolor\": \"white\", \"ticks\": \"\"}, \"baxis\": {\"gridcolor\": \"white\", \"linecolor\": \"white\", \"ticks\": \"\"}, \"bgcolor\": \"#E5ECF6\", \"caxis\": {\"gridcolor\": \"white\", \"linecolor\": \"white\", \"ticks\": \"\"}}, \"title\": {\"x\": 0.05}, \"xaxis\": {\"automargin\": true, \"gridcolor\": \"white\", \"linecolor\": \"white\", \"ticks\": \"\", \"title\": {\"standoff\": 15}, \"zerolinecolor\": \"white\", \"zerolinewidth\": 2}, \"yaxis\": {\"automargin\": true, \"gridcolor\": \"white\", \"linecolor\": \"white\", \"ticks\": \"\", \"title\": {\"standoff\": 15}, \"zerolinecolor\": \"white\", \"zerolinewidth\": 2}}}, \"width\": 900, \"xaxis\": {\"anchor\": \"y\", \"domain\": [0.0, 1.0]}, \"xaxis2\": {\"anchor\": \"y2\", \"domain\": [0.0, 1.0]}, \"xaxis3\": {\"anchor\": \"y3\", \"domain\": [0.0, 1.0]}, \"xaxis4\": {\"anchor\": \"y4\", \"domain\": [0.0, 1.0]}, \"xaxis5\": {\"anchor\": \"y5\", \"domain\": [0.0, 1.0]}, \"xaxis6\": {\"anchor\": \"y6\", \"domain\": [0.0, 1.0]}, \"yaxis\": {\"anchor\": \"x\", \"domain\": [0.9027777777777777, 0.9999999999999999]}, \"yaxis2\": {\"anchor\": \"x2\", \"domain\": [0.7222222222222222, 0.8194444444444444]}, \"yaxis3\": {\"anchor\": \"x3\", \"domain\": [0.5416666666666667, 0.638888888888889]}, \"yaxis4\": {\"anchor\": \"x4\", \"domain\": [0.3611111111111111, 0.4583333333333333]}, \"yaxis5\": {\"anchor\": \"x5\", \"domain\": [0.18055555555555555, 0.2777777777777778]}, \"yaxis6\": {\"anchor\": \"x6\", \"domain\": [0.0, 0.09722222222222222]}},\n",
              "                        {\"responsive\": true}\n",
              "                    ).then(function(){\n",
              "                            \n",
              "var gd = document.getElementById('edbc2a85-1774-455b-97be-738f78c6b292');\n",
              "var x = new MutationObserver(function (mutations, observer) {{\n",
              "        var display = window.getComputedStyle(gd).display;\n",
              "        if (!display || display === 'none') {{\n",
              "            console.log([gd, 'removed!']);\n",
              "            Plotly.purge(gd);\n",
              "            observer.disconnect();\n",
              "        }}\n",
              "}});\n",
              "\n",
              "// Listen for the removal of the full notebook cells\n",
              "var notebookContainer = gd.closest('#notebook-container');\n",
              "if (notebookContainer) {{\n",
              "    x.observe(notebookContainer, {childList: true});\n",
              "}}\n",
              "\n",
              "// Listen for the clearing of the current output cell\n",
              "var outputEl = gd.closest('.output');\n",
              "if (outputEl) {{\n",
              "    x.observe(outputEl, {childList: true});\n",
              "}}\n",
              "\n",
              "                        })\n",
              "                };\n",
              "                \n",
              "            </script>\n",
              "        </div>\n",
              "</body>\n",
              "</html>"
            ]
          },
          "metadata": {
            "tags": []
          }
        }
      ]
    },
    {
      "cell_type": "code",
      "metadata": {
        "colab": {
          "base_uri": "https://localhost:8080/",
          "height": 723
        },
        "id": "C5daBUXc1wum",
        "outputId": "47c08520-8dc2-4a8f-f93f-b6c7c7f086f9"
      },
      "source": [
        "importance = abs(model_lr.coef_[0])\n",
        "figure = plt.figure(figsize=(15, 12))\n",
        "plot = sns.barplot([x for x in range(len(importance))], importance)\n",
        "plot.set_title('Wartości bezwzględne wag poszczególnych atrybutów dla klasy LAYING')\n",
        "plot.set(xticklabels=[])"
      ],
      "execution_count": null,
      "outputs": [
        {
          "output_type": "execute_result",
          "data": {
            "text/plain": [
              "[[]]"
            ]
          },
          "metadata": {
            "tags": []
          },
          "execution_count": 64
        },
        {
          "output_type": "display_data",
          "data": {
            "image/png": "[encoded data removed]",
            "text/plain": [
              "<Figure size 1080x864 with 1 Axes>"
            ]
          },
          "metadata": {
            "tags": []
          }
        }
      ]
    },
    {
      "cell_type": "markdown",
      "metadata": {
        "id": "2sacf9H8D4Gl"
      },
      "source": [
        "Wersja finalna\n",
        "===="
      ]
    },
    {
      "cell_type": "code",
      "metadata": {
        "id": "zBaMZ4PwD2z4"
      },
      "source": [
        "class Model:\n",
        "  def __init__(self, model, scaler):\n",
        "    self.model = model\n",
        "    self.scaler = scaler\n",
        "    self.dropped_features = ['angle(X,gravityMean)','angle(tBodyAccJerkMean),gravityMean)',\n",
        " 'angle(tBodyAccMean,gravity)',\n",
        " 'angle(tBodyGyroJerkMean,gravityMean)',\n",
        " 'angle(tBodyGyroMean,gravityMean)',\n",
        " 'energy-mean()',\n",
        " 'fBodyAcc-energy()-X',\n",
        " 'fBodyAcc-entropy()-X',\n",
        " 'fBodyAcc-entropy()-Y',\n",
        " 'fBodyAcc-entropy()-Z',\n",
        " 'fBodyAcc-iqr()-X',\n",
        " 'fBodyAcc-iqr()-Y',\n",
        " 'fBodyAcc-iqr()-Z',\n",
        " 'fBodyAcc-kurtosis()-X',\n",
        " 'fBodyAcc-kurtosis()-Y',\n",
        " 'fBodyAcc-kurtosis()-Z',\n",
        " 'fBodyAcc-mad()-X',\n",
        " 'fBodyAcc-mad()-Z',\n",
        " 'fBodyAcc-main()-X',\n",
        " 'fBodyAcc-main()-Z',\n",
        " 'fBodyAcc-max()-X',\n",
        " 'fBodyAcc-maxInds-X',\n",
        " 'fBodyAcc-maxInds-Y',\n",
        " 'fBodyAcc-maxInds-Z',\n",
        " 'fBodyAcc-meanFreq()-X',\n",
        " 'fBodyAcc-min()-X',\n",
        " 'fBodyAcc-skewness()-X',\n",
        " 'fBodyAcc-skewness()-Y',\n",
        " 'fBodyAcc-skewness()-Z',\n",
        " 'fBodyAcc-sma()',\n",
        " 'fBodyAcc-std()-X',\n",
        " 'fBodyAcc-std()-Y',\n",
        " 'fBodyAcc-std()-Z',\n",
        " 'fBodyAccJerk-energy()-Y',\n",
        " 'fBodyAccJerk-entropy()-X',\n",
        " 'fBodyAccJerk-mad()-Z',\n",
        " 'fBodyAccJerk-max()-Z',\n",
        " 'fBodyAccJerk-maxInds-Y',\n",
        " 'fBodyAccJerk-maxInds-Z',\n",
        " 'fBodyAccJerk-min()-X',\n",
        " 'fBodyAccJerk-min()-Y',\n",
        " 'fBodyAccJerk-sma()',\n",
        " 'fBodyAccJerk-std()-X',\n",
        " 'fBodyAccJerk-std()-Z',\n",
        " 'fBodyAccMag-energy()',\n",
        " 'fBodyAccMag-entropy()',\n",
        " 'fBodyAccMag-iqr()',\n",
        " 'fBodyAccMag-kurtosis()',\n",
        " 'fBodyAccMag-mad()',\n",
        " 'fBodyAccMag-maxInds',\n",
        " 'fBodyAccMag-meanFreq()',\n",
        " 'fBodyAccMag-min()',\n",
        " 'fBodyAccMag-skewness()',\n",
        " 'fBodyAccMag-sma()',\n",
        " 'fBodyAccMag-std()',\n",
        " 'fBodyBodyAccJerkMag-kurtosis()',\n",
        " 'fBodyBodyAccJerkMag-maxInds',\n",
        " 'fBodyBodyAccJerkMag-meanFreq()',\n",
        " 'fBodyBodyAccJerkMag-skewness()',\n",
        " 'fBodyBodyGyroJerkMag-kurtosis()',\n",
        " 'fBodyBodyGyroJerkMag-maxInds',\n",
        " 'fBodyBodyGyroJerkMag-meanFreq()',\n",
        " 'fBodyBodyGyroJerkMag-skewness()',\n",
        " 'fBodyBodyGyroMag-kurtosis()',\n",
        " 'fBodyBodyGyroMag-maxInds',\n",
        " 'fBodyBodyGyroMag-meanFreq()',\n",
        " 'fBodyBodyGyroMag-skewness()',\n",
        " 'fBodyGyro-energy()-X',\n",
        " 'fBodyGyro-energy()-Y',\n",
        " 'fBodyGyro-energy()-Z',\n",
        " 'fBodyGyro-entropy()-X',\n",
        " 'fBodyGyro-entropy()-Y',\n",
        " 'fBodyGyro-iqr()-X',\n",
        " 'fBodyGyro-iqr()-Z',\n",
        " 'fBodyGyro-kurtosis()-X',\n",
        " 'fBodyGyro-kurtosis()-Y',\n",
        " 'fBodyGyro-kurtosis()-Z',\n",
        " 'fBodyGyro-mad()-X',\n",
        " 'fBodyGyro-mad()-Y',\n",
        " 'fBodyGyro-max()-X',\n",
        " 'fBodyGyro-max()-Y',\n",
        " 'fBodyGyro-max()-Z',\n",
        " 'fBodyGyro-maxInds-X',\n",
        " 'fBodyGyro-maxInds-Z',\n",
        " 'fBodyGyro-meanFreq()-Y',\n",
        " 'fBodyGyro-meanFreq()-Z',\n",
        " 'fBodyGyro-min()-X',\n",
        " 'fBodyGyro-skewness()-X',\n",
        " 'fBodyGyro-skewness()-Y',\n",
        " 'fBodyGyro-skewness()-Z',\n",
        " 'fBodyGyro-sma()',\n",
        " 'fBodyGyro-std()-X',\n",
        " 'fBodyGyro-std()-Y',\n",
        " 'fBodyGyro-std()-Z',\n",
        " 'shadow-gravity-angle()',\n",
        " 'subject',\n",
        " 'tBodyAcc-arCoeff()-X,2',\n",
        " 'tBodyAcc-arCoeff()-X,3',\n",
        " 'tBodyAcc-arCoeff()-X,4',\n",
        " 'tBodyAcc-arCoeff()-Y,2',\n",
        " 'tBodyAcc-arCoeff()-Y,3',\n",
        " 'tBodyAcc-arCoeff()-Y,4',\n",
        " 'tBodyAcc-arCoeff()-Z,3',\n",
        " 'tBodyAcc-arCoeff()-Z,4',\n",
        " 'tBodyAcc-correlation()-X,Y',\n",
        " 'tBodyAcc-correlation()-X,Z',\n",
        " 'tBodyAcc-correlation()-Y,Z',\n",
        " 'tBodyAcc-mean()-X',\n",
        " 'tBodyAcc-mean()-Y',\n",
        " 'tBodyAcc-mean()-Z',\n",
        " 'tBodyAccJerk-arCoeff()-X,2',\n",
        " 'tBodyAccJerk-arCoeff()-X,3',\n",
        " 'tBodyAccJerk-arCoeff()-X,4',\n",
        " 'tBodyAccJerk-arCoeff()-Y,2',\n",
        " 'tBodyAccJerk-arCoeff()-Y,3',\n",
        " 'tBodyAccJerk-arCoeff()-Y,4',\n",
        " 'tBodyAccJerk-arCoeff()-Z,2',\n",
        " 'tBodyAccJerk-arCoeff()-Z,3',\n",
        " 'tBodyAccJerk-arCoeff()-Z,4',\n",
        " 'tBodyAccJerk-correlation()-X,Y',\n",
        " 'tBodyAccJerk-correlation()-X,Z',\n",
        " 'tBodyAccJerk-correlation()-Y,Z',\n",
        " 'tBodyAccJerk-mean()-X',\n",
        " 'tBodyAccJerk-mean()-Y',\n",
        " 'tBodyAccJerk-mean()-Z',\n",
        " 'tBodyAccJerkMag-arCoeff()3',\n",
        " 'tBodyAccJerkMag-arCoeff()4',\n",
        " 'tBodyAccMag-arCoeff()3',\n",
        " 'tBodyAccMag-arCoeff()4',\n",
        " 'tBodyGyro-arCoeff()-X,2',\n",
        " 'tBodyGyro-arCoeff()-X,3',\n",
        " 'tBodyGyro-arCoeff()-Y,1',\n",
        " 'tBodyGyro-arCoeff()-Y,3',\n",
        " 'tBodyGyro-arCoeff()-Y,4',\n",
        " 'tBodyGyro-arCoeff()-Z,3',\n",
        " 'tBodyGyro-arCoeff()-Z,4',\n",
        " 'tBodyGyro-correlation()-X,Y',\n",
        " 'tBodyGyro-correlation()-X,Z',\n",
        " 'tBodyGyro-correlation()-Y,Z',\n",
        " 'tBodyGyro-low()-X',\n",
        " 'tBodyGyro-low()-Y',\n",
        " 'tBodyGyro-low()-Z',\n",
        " 'tBodyGyro-mean()-X',\n",
        " 'tBodyGyro-mean()-Y',\n",
        " 'tBodyGyro-mean()-Z',\n",
        " 'tBodyGyroJerk-arCoeff()-X,2',\n",
        " 'tBodyGyroJerk-arCoeff()-X,3',\n",
        " 'tBodyGyroJerk-arCoeff()-X,4',\n",
        " 'tBodyGyroJerk-arCoeff()-Y,2',\n",
        " 'tBodyGyroJerk-arCoeff()-Y,3',\n",
        " 'tBodyGyroJerk-arCoeff()-Y,4',\n",
        " 'tBodyGyroJerk-arCoeff()-Z,2',\n",
        " 'tBodyGyroJerk-arCoeff()-Z,3',\n",
        " 'tBodyGyroJerk-arCoeff()-Z,4',\n",
        " 'tBodyGyroJerk-correlation()-X,Y',\n",
        " 'tBodyGyroJerk-correlation()-X,Z',\n",
        " 'tBodyGyroJerk-correlation()-Y,Z',\n",
        " 'tBodyGyroJerk-mean()-X',\n",
        " 'tBodyGyroJerk-mean()-Y',\n",
        " 'tBodyGyroJerk-mean()-Z',\n",
        " 'tBodyGyroJerkMag-arCoeff()1',\n",
        " 'tBodyGyroJerkMag-arCoeff()2',\n",
        " 'tBodyGyroJerkMag-arCoeff()3',\n",
        " 'tBodyGyroJerkMag-arCoeff()4',\n",
        " 'tBodyGyroMag-arCoeff()1',\n",
        " 'tBodyGyroMag-arCoeff()2',\n",
        " 'tBodyGyroMag-arCoeff()3',\n",
        " 'tBodyGyroMag-arCoeff()4',\n",
        " 'tBodyGyroMag-entropy()',\n",
        " 'tGravityAcc-arCoeff()-X,1',\n",
        " 'tGravityAcc-arCoeff()-X,2',\n",
        " 'tGravityAcc-arCoeff()-X,3',\n",
        " 'tGravityAcc-arCoeff()-X,4',\n",
        " 'tGravityAcc-arCoeff()-Y,1',\n",
        " 'tGravityAcc-arCoeff()-Y,2',\n",
        " 'tGravityAcc-arCoeff()-Y,3',\n",
        " 'tGravityAcc-arCoeff()-Y,4',\n",
        " 'tGravityAcc-arCoeff()-Z,1',\n",
        " 'tGravityAcc-arCoeff()-Z,2',\n",
        " 'tGravityAcc-arCoeff()-Z,3',\n",
        " 'tGravityAcc-arCoeff()-Z,4',\n",
        " 'tGravityAcc-correlation()-X,Y',\n",
        " 'tGravityAcc-correlation()-X,Z',\n",
        " 'tGravityAcc-correlation()-Y,Z',\n",
        " 'tGravityAcc-energy()-X',\n",
        " 'tGravityAcc-energy()-Z',\n",
        " 'tGravityAcc-entropy()-X',\n",
        " 'tGravityAcc-entropy()-Y',\n",
        " 'tGravityAcc-entropy()-Z',\n",
        " 'tGravityAcc-iqr()-X',\n",
        " 'tGravityAcc-mad()-X',\n",
        " 'tGravityAcc-max()-X',\n",
        " 'tGravityAcc-mean()-X',\n",
        " 'tGravityAcc-min()-X',\n",
        " 'tGravityAcc-sma()',\n",
        " 'tGravityAcc-std()-X',\n",
        " 'tGravityAccMag-arCoeff()3',\n",
        " 'tGravityAccMag-arCoeff()4',\n",
        " 'tGravityAccMag-mad()',\n",
        " 'tGravityAccMag-sma()',\n",
        " 'void()']\n",
        "  def preprocess (self, x_test):\n",
        "    print(\"A\", x_test.shape)\n",
        "    x_red = x_test.fillna(x_test.mean())\n",
        "    print(\"A\")\n",
        "    scaled = self.scaler.transform(x_red)\n",
        "    print(\"A\", x_red.shape)\n",
        "    x_red = pd.DataFrame(data = scaled, columns= x_red.columns)\n",
        "    print(\"A\")\n",
        "    x_red = x_red.drop(self.dropped_features, axis=1)\n",
        "    print(\"A\")\n",
        "    return x_red\n",
        "  def predict(self, x_test):\n",
        "    return self.model.predict(x_test)"
      ],
      "execution_count": 1,
      "outputs": []
    },
    {
      "cell_type": "code",
      "metadata": {
        "id": "sjYZ9A_AD-FJ",
        "outputId": "b48b6e30-0c5d-442c-a8cc-2fb3950dde11",
        "colab": {
          "base_uri": "https://localhost:8080/",
          "height": 235
        }
      },
      "source": [
        "df = pd.read_csv(data_path, index_col=0)\n",
        "\n",
        "import sklearn.preprocessing as preprocessing\n",
        "\n",
        "\n",
        "X = df.drop('Activity', axis='columns')\n",
        "just_x  = X\n",
        "labels = df[\"Activity\"]\n",
        "\n",
        "X = X.fillna(X.mean())\n",
        "X_train, X_test, y_train, y_test = train_test_split(X, labels, test_size=0.3, random_state=69 )\n",
        "\n",
        "cols = X_train.columns\n",
        "X = X_train.values # returns a numpy array\n",
        "min_max_scaler = preprocessing.StandardScaler()\n",
        "x_scaled = min_max_scaler.fit_transform(X)\n",
        "X = pd.DataFrame(x_scaled, columns=cols)\n",
        "x_train = X.drop(dropped_features, axis=1)\n",
        "\n",
        "\n",
        "clf = LogisticRegression(tol = 1e-06, solver= 'lbfgs', penalty='l2', multi_class= 'multinomial', max_iter= 300, C= 1.0)\n",
        "clf.fit(x_train, y_train)\n",
        "\n",
        "model = Model(clf, min_max_scaler)\n",
        "\n",
        "X = model.preprocess(just_x)\n",
        "\n",
        "pred = model.predict(X)\n",
        "np.mean(pred==df.Activity)"
      ],
      "execution_count": 2,
      "outputs": [
        {
          "output_type": "error",
          "ename": "NameError",
          "evalue": "ignored",
          "traceback": [
            "\u001b[0;31m---------------------------------------------------------------------------\u001b[0m",
            "\u001b[0;31mNameError\u001b[0m                                 Traceback (most recent call last)",
            "\u001b[0;32m<ipython-input-2-26956593d9d5>\u001b[0m in \u001b[0;36m<module>\u001b[0;34m()\u001b[0m\n\u001b[0;32m----> 1\u001b[0;31m \u001b[0mdf\u001b[0m \u001b[0;34m=\u001b[0m \u001b[0mpd\u001b[0m\u001b[0;34m.\u001b[0m\u001b[0mread_csv\u001b[0m\u001b[0;34m(\u001b[0m\u001b[0mdata_path\u001b[0m\u001b[0;34m,\u001b[0m \u001b[0mindex_col\u001b[0m\u001b[0;34m=\u001b[0m\u001b[0;36m0\u001b[0m\u001b[0;34m)\u001b[0m\u001b[0;34m\u001b[0m\u001b[0;34m\u001b[0m\u001b[0m\n\u001b[0m\u001b[1;32m      2\u001b[0m \u001b[0;34m\u001b[0m\u001b[0m\n\u001b[1;32m      3\u001b[0m \u001b[0;32mimport\u001b[0m \u001b[0msklearn\u001b[0m\u001b[0;34m.\u001b[0m\u001b[0mpreprocessing\u001b[0m \u001b[0;32mas\u001b[0m \u001b[0mpreprocessing\u001b[0m\u001b[0;34m\u001b[0m\u001b[0;34m\u001b[0m\u001b[0m\n\u001b[1;32m      4\u001b[0m \u001b[0;34m\u001b[0m\u001b[0m\n\u001b[1;32m      5\u001b[0m \u001b[0;34m\u001b[0m\u001b[0m\n",
            "\u001b[0;31mNameError\u001b[0m: name 'pd' is not defined"
          ]
        }
      ]
    },
    {
      "cell_type": "code",
      "metadata": {
        "id": "QMJb1lEqEAmv"
      },
      "source": [
        "import pickle\n",
        "with open(\"model.pkl\", \"wb+\") as f:\n",
        "  pickle.dump(model, f)"
      ],
      "execution_count": null,
      "outputs": []
    }
  ]
}