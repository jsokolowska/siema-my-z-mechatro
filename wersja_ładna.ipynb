{
  "nbformat": 4,
  "nbformat_minor": 0,
  "metadata": {
    "colab": {
      "name": "wersja ładna",
      "provenance": [],
      "collapsed_sections": [],
      "toc_visible": true,
      "include_colab_link": true
    },
    "kernelspec": {
      "name": "python3",
      "display_name": "Python 3"
    },
    "language_info": {
      "name": "python"
    }
  },
  "cells": [
    {
      "cell_type": "markdown",
      "metadata": {
        "id": "view-in-github",
        "colab_type": "text"
      },
      "source": [
        "<a href=\"https://colab.research.google.com/github/jsokolowska/siema-my-z-mechatro/blob/main/wersja_%C5%82adna.ipynb\" target=\"_parent\"><img src=\"https://colab.research.google.com/assets/colab-badge.svg\" alt=\"Open In Colab\"/></a>"
      ]
    },
    {
      "cell_type": "markdown",
      "metadata": {
        "id": "gT9RLkk28aZm"
      },
      "source": [
        "Setup\n",
        "=====\n"
      ]
    },
    {
      "cell_type": "code",
      "metadata": {
        "id": "_bx_Im-7pPeB",
        "outputId": "603a3c7f-8f80-4c74-fd62-13cb65e25b98",
        "colab": {
          "base_uri": "https://localhost:8080/"
        }
      },
      "source": [
        "from google.colab import drive\n",
        "drive.mount('/content/drive')"
      ],
      "execution_count": 13,
      "outputs": [
        {
          "output_type": "stream",
          "text": [
            "Drive already mounted at /content/drive; to attempt to forcibly remount, call drive.mount(\"/content/drive\", force_remount=True).\n"
          ],
          "name": "stdout"
        }
      ]
    },
    {
      "cell_type": "code",
      "metadata": {
        "colab": {
          "base_uri": "https://localhost:8080/",
          "height": 17
        },
        "id": "oExuGg-Fvevl",
        "outputId": "87b2422c-78d5-44cb-e589-7cb4facd8217"
      },
      "source": [
        "import pandas as pd\n",
        "import numpy as np\n",
        "import seaborn as sns\n",
        "import matplotlib.pyplot as plt\n",
        "from sklearn.linear_model import LogisticRegression, LogisticRegressionCV\n",
        "from sklearn.model_selection import train_test_split\n",
        "from sklearn.metrics import mutual_info_score\n",
        "from sklearn.preprocessing import LabelEncoder\n",
        "from scipy.stats import spearmanr\n",
        "from plotly.offline import download_plotlyjs, init_notebook_mode, plot, iplot\n",
        "init_notebook_mode(connected=True)\n",
        "import plotly.express as px"
      ],
      "execution_count": 14,
      "outputs": [
        {
          "output_type": "display_data",
          "data": {
            "text/html": [
              "        <script type=\"text/javascript\">\n",
              "        window.PlotlyConfig = {MathJaxConfig: 'local'};\n",
              "        if (window.MathJax) {MathJax.Hub.Config({SVG: {font: \"STIX-Web\"}});}\n",
              "        if (typeof require !== 'undefined') {\n",
              "        require.undef(\"plotly\");\n",
              "        requirejs.config({\n",
              "            paths: {\n",
              "                'plotly': ['https://cdn.plot.ly/plotly-latest.min']\n",
              "            }\n",
              "        });\n",
              "        require(['plotly'], function(Plotly) {\n",
              "            window._Plotly = Plotly;\n",
              "        });\n",
              "        }\n",
              "        </script>\n",
              "        "
            ]
          },
          "metadata": {
            "tags": []
          }
        }
      ]
    },
    {
      "cell_type": "code",
      "metadata": {
        "colab": {
          "base_uri": "https://localhost:8080/",
          "height": 290
        },
        "id": "BHOGhrVh8Wf1",
        "outputId": "e23dd80c-17a6-4d8b-b247-8cbf7f0ec3ca"
      },
      "source": [
        "data_path = \"/content/drive/MyDrive/Data/hackathon/final_train.csv\"\n",
        "\n",
        "df = pd.read_csv(data_path, index_col=0)\n",
        "df.head()"
      ],
      "execution_count": 15,
      "outputs": [
        {
          "output_type": "execute_result",
          "data": {
            "text/html": [
              "<div>\n",
              "<style scoped>\n",
              "    .dataframe tbody tr th:only-of-type {\n",
              "        vertical-align: middle;\n",
              "    }\n",
              "\n",
              "    .dataframe tbody tr th {\n",
              "        vertical-align: top;\n",
              "    }\n",
              "\n",
              "    .dataframe thead th {\n",
              "        text-align: right;\n",
              "    }\n",
              "</style>\n",
              "<table border=\"1\" class=\"dataframe\">\n",
              "  <thead>\n",
              "    <tr style=\"text-align: right;\">\n",
              "      <th></th>\n",
              "      <th>Activity</th>\n",
              "      <th>angle(X,gravityMean)</th>\n",
              "      <th>angle(Y,gravityMean)</th>\n",
              "      <th>angle(Z,gravityMean)</th>\n",
              "      <th>angle(tBodyAccJerkMean),gravityMean)</th>\n",
              "      <th>angle(tBodyAccMean,gravity)</th>\n",
              "      <th>angle(tBodyGyroJerkMean,gravityMean)</th>\n",
              "      <th>angle(tBodyGyroMean,gravityMean)</th>\n",
              "      <th>energy-mean()</th>\n",
              "      <th>fBodyAcc-bandsEnergy()-1,16</th>\n",
              "      <th>fBodyAcc-bandsEnergy()-1,16.1</th>\n",
              "      <th>fBodyAcc-bandsEnergy()-1,16.2</th>\n",
              "      <th>fBodyAcc-bandsEnergy()-1,24</th>\n",
              "      <th>fBodyAcc-bandsEnergy()-1,24.1</th>\n",
              "      <th>fBodyAcc-bandsEnergy()-1,24.2</th>\n",
              "      <th>fBodyAcc-bandsEnergy()-1,8</th>\n",
              "      <th>fBodyAcc-bandsEnergy()-1,8.1</th>\n",
              "      <th>fBodyAcc-bandsEnergy()-1,8.2</th>\n",
              "      <th>fBodyAcc-bandsEnergy()-17,24</th>\n",
              "      <th>fBodyAcc-bandsEnergy()-17,24.1</th>\n",
              "      <th>fBodyAcc-bandsEnergy()-17,24.2</th>\n",
              "      <th>fBodyAcc-bandsEnergy()-17,32</th>\n",
              "      <th>fBodyAcc-bandsEnergy()-17,32.1</th>\n",
              "      <th>fBodyAcc-bandsEnergy()-17,32.2</th>\n",
              "      <th>fBodyAcc-bandsEnergy()-25,32</th>\n",
              "      <th>fBodyAcc-bandsEnergy()-25,32.1</th>\n",
              "      <th>fBodyAcc-bandsEnergy()-25,32.2</th>\n",
              "      <th>fBodyAcc-bandsEnergy()-25,48</th>\n",
              "      <th>fBodyAcc-bandsEnergy()-25,48.1</th>\n",
              "      <th>fBodyAcc-bandsEnergy()-25,48.2</th>\n",
              "      <th>fBodyAcc-bandsEnergy()-33,40</th>\n",
              "      <th>fBodyAcc-bandsEnergy()-33,40.1</th>\n",
              "      <th>fBodyAcc-bandsEnergy()-33,40.2</th>\n",
              "      <th>fBodyAcc-bandsEnergy()-33,48</th>\n",
              "      <th>fBodyAcc-bandsEnergy()-33,48.1</th>\n",
              "      <th>fBodyAcc-bandsEnergy()-33,48.2</th>\n",
              "      <th>fBodyAcc-bandsEnergy()-41,48</th>\n",
              "      <th>fBodyAcc-bandsEnergy()-41,48.1</th>\n",
              "      <th>fBodyAcc-bandsEnergy()-41,48.2</th>\n",
              "      <th>fBodyAcc-bandsEnergy()-49,56</th>\n",
              "      <th>...</th>\n",
              "      <th>tGravityAcc-correlation()-Y,Z</th>\n",
              "      <th>tGravityAcc-energy()-X</th>\n",
              "      <th>tGravityAcc-energy()-Y</th>\n",
              "      <th>tGravityAcc-energy()-Z</th>\n",
              "      <th>tGravityAcc-entropy()-X</th>\n",
              "      <th>tGravityAcc-entropy()-Y</th>\n",
              "      <th>tGravityAcc-entropy()-Z</th>\n",
              "      <th>tGravityAcc-iqr()-X</th>\n",
              "      <th>tGravityAcc-iqr()-Y</th>\n",
              "      <th>tGravityAcc-iqr()-Z</th>\n",
              "      <th>tGravityAcc-mad()-X</th>\n",
              "      <th>tGravityAcc-mad()-Y</th>\n",
              "      <th>tGravityAcc-mad()-Z</th>\n",
              "      <th>tGravityAcc-max()-X</th>\n",
              "      <th>tGravityAcc-max()-Y</th>\n",
              "      <th>tGravityAcc-max()-Z</th>\n",
              "      <th>tGravityAcc-mean()-X</th>\n",
              "      <th>tGravityAcc-mean()-Y</th>\n",
              "      <th>tGravityAcc-mean()-Z</th>\n",
              "      <th>tGravityAcc-min()-X</th>\n",
              "      <th>tGravityAcc-min()-Y</th>\n",
              "      <th>tGravityAcc-min()-Z</th>\n",
              "      <th>tGravityAcc-sma()</th>\n",
              "      <th>tGravityAcc-std()-X</th>\n",
              "      <th>tGravityAcc-std()-Y</th>\n",
              "      <th>tGravityAcc-std()-Z</th>\n",
              "      <th>tGravityAccMag-arCoeff()1</th>\n",
              "      <th>tGravityAccMag-arCoeff()2</th>\n",
              "      <th>tGravityAccMag-arCoeff()3</th>\n",
              "      <th>tGravityAccMag-arCoeff()4</th>\n",
              "      <th>tGravityAccMag-energy()</th>\n",
              "      <th>tGravityAccMag-entropy()</th>\n",
              "      <th>tGravityAccMag-iqr()</th>\n",
              "      <th>tGravityAccMag-mad()</th>\n",
              "      <th>tGravityAccMag-max()</th>\n",
              "      <th>tGravityAccMag-mean()</th>\n",
              "      <th>tGravityAccMag-min()</th>\n",
              "      <th>tGravityAccMag-sma()</th>\n",
              "      <th>tGravityAccMag-std()</th>\n",
              "      <th>void()</th>\n",
              "    </tr>\n",
              "  </thead>\n",
              "  <tbody>\n",
              "    <tr>\n",
              "      <th>0</th>\n",
              "      <td>STANDING</td>\n",
              "      <td>-1.574191</td>\n",
              "      <td>-0.805700</td>\n",
              "      <td>-2.453831</td>\n",
              "      <td>-1.861714</td>\n",
              "      <td>0.115517</td>\n",
              "      <td>-2.023369</td>\n",
              "      <td>3.125860</td>\n",
              "      <td>-9.474436</td>\n",
              "      <td>3.622600</td>\n",
              "      <td>6.137246</td>\n",
              "      <td>2.503062</td>\n",
              "      <td>5.776680</td>\n",
              "      <td>3.242765</td>\n",
              "      <td>-1.352936</td>\n",
              "      <td>-1.537732</td>\n",
              "      <td>2.828395</td>\n",
              "      <td>8.603183</td>\n",
              "      <td>-2.228620</td>\n",
              "      <td>5.355308</td>\n",
              "      <td>3.987723</td>\n",
              "      <td>1.880228</td>\n",
              "      <td>1.384042</td>\n",
              "      <td>-2.163548</td>\n",
              "      <td>0.483175</td>\n",
              "      <td>2.942713</td>\n",
              "      <td>5.837147</td>\n",
              "      <td>2.957527</td>\n",
              "      <td>-1.770934</td>\n",
              "      <td>-5.580564</td>\n",
              "      <td>13.725027</td>\n",
              "      <td>1.724643</td>\n",
              "      <td>-0.519345</td>\n",
              "      <td>4.233416</td>\n",
              "      <td>0.953127</td>\n",
              "      <td>0.807692</td>\n",
              "      <td>2.624547</td>\n",
              "      <td>-3.005993</td>\n",
              "      <td>3.329588</td>\n",
              "      <td>2.866778</td>\n",
              "      <td>...</td>\n",
              "      <td>2.988204</td>\n",
              "      <td>1.531084</td>\n",
              "      <td>-3.422785</td>\n",
              "      <td>1.852121</td>\n",
              "      <td>8.394366</td>\n",
              "      <td>3.246233</td>\n",
              "      <td>0.937300</td>\n",
              "      <td>4.725389</td>\n",
              "      <td>-1.578871</td>\n",
              "      <td>-0.442374</td>\n",
              "      <td>4.068593</td>\n",
              "      <td>4.705346</td>\n",
              "      <td>7.195449</td>\n",
              "      <td>-6.003664</td>\n",
              "      <td>0.607255</td>\n",
              "      <td>-1.499318</td>\n",
              "      <td>2.246320</td>\n",
              "      <td>2.861260</td>\n",
              "      <td>3.815614</td>\n",
              "      <td>-2.151051</td>\n",
              "      <td>-3.122438</td>\n",
              "      <td>-0.336110</td>\n",
              "      <td>6.357369</td>\n",
              "      <td>3.741996</td>\n",
              "      <td>1.394575</td>\n",
              "      <td>4.017211</td>\n",
              "      <td>2.481302</td>\n",
              "      <td>5.774536</td>\n",
              "      <td>1.754626</td>\n",
              "      <td>1.180533</td>\n",
              "      <td>5.049130</td>\n",
              "      <td>3.272281</td>\n",
              "      <td>5.103018</td>\n",
              "      <td>-0.823302</td>\n",
              "      <td>3.063681</td>\n",
              "      <td>-0.928676</td>\n",
              "      <td>-1.007695</td>\n",
              "      <td>3.094236</td>\n",
              "      <td>1.669987</td>\n",
              "      <td>1.0</td>\n",
              "    </tr>\n",
              "    <tr>\n",
              "      <th>1</th>\n",
              "      <td>WALKING_UPSTAIRS</td>\n",
              "      <td>-1.568669</td>\n",
              "      <td>-0.612620</td>\n",
              "      <td>-2.488338</td>\n",
              "      <td>-1.751117</td>\n",
              "      <td>0.218134</td>\n",
              "      <td>0.280294</td>\n",
              "      <td>7.953403</td>\n",
              "      <td>-0.679894</td>\n",
              "      <td>2.512880</td>\n",
              "      <td>5.740178</td>\n",
              "      <td>2.803435</td>\n",
              "      <td>5.484726</td>\n",
              "      <td>2.102368</td>\n",
              "      <td>-1.355854</td>\n",
              "      <td>-1.416568</td>\n",
              "      <td>2.527046</td>\n",
              "      <td>8.046001</td>\n",
              "      <td>-1.986672</td>\n",
              "      <td>5.284168</td>\n",
              "      <td>3.598328</td>\n",
              "      <td>1.892567</td>\n",
              "      <td>1.417711</td>\n",
              "      <td>-2.027475</td>\n",
              "      <td>0.436458</td>\n",
              "      <td>2.908602</td>\n",
              "      <td>5.819734</td>\n",
              "      <td>2.551773</td>\n",
              "      <td>-1.756530</td>\n",
              "      <td>-5.503246</td>\n",
              "      <td>13.251491</td>\n",
              "      <td>1.714753</td>\n",
              "      <td>-0.552312</td>\n",
              "      <td>3.566532</td>\n",
              "      <td>0.922455</td>\n",
              "      <td>0.726768</td>\n",
              "      <td>2.081277</td>\n",
              "      <td>-3.081267</td>\n",
              "      <td>3.140684</td>\n",
              "      <td>2.684137</td>\n",
              "      <td>...</td>\n",
              "      <td>2.859864</td>\n",
              "      <td>1.585023</td>\n",
              "      <td>-3.387872</td>\n",
              "      <td>1.698743</td>\n",
              "      <td>8.112279</td>\n",
              "      <td>1.926083</td>\n",
              "      <td>2.348895</td>\n",
              "      <td>4.719540</td>\n",
              "      <td>-1.521161</td>\n",
              "      <td>-0.463599</td>\n",
              "      <td>4.063648</td>\n",
              "      <td>4.730261</td>\n",
              "      <td>7.221653</td>\n",
              "      <td>-5.789276</td>\n",
              "      <td>0.417687</td>\n",
              "      <td>-0.703212</td>\n",
              "      <td>2.488702</td>\n",
              "      <td>2.391994</td>\n",
              "      <td>5.884982</td>\n",
              "      <td>-2.187197</td>\n",
              "      <td>-3.306482</td>\n",
              "      <td>-0.814718</td>\n",
              "      <td>6.077734</td>\n",
              "      <td>3.720622</td>\n",
              "      <td>1.202847</td>\n",
              "      <td>4.050714</td>\n",
              "      <td>4.539801</td>\n",
              "      <td>4.618405</td>\n",
              "      <td>1.727481</td>\n",
              "      <td>0.220730</td>\n",
              "      <td>4.565443</td>\n",
              "      <td>4.440779</td>\n",
              "      <td>3.288399</td>\n",
              "      <td>-2.689605</td>\n",
              "      <td>1.705341</td>\n",
              "      <td>-0.822617</td>\n",
              "      <td>-0.572410</td>\n",
              "      <td>-2.187890</td>\n",
              "      <td>-0.544652</td>\n",
              "      <td>2.0</td>\n",
              "    </tr>\n",
              "    <tr>\n",
              "      <th>2</th>\n",
              "      <td>LAYING</td>\n",
              "      <td>-1.548333</td>\n",
              "      <td>-0.139628</td>\n",
              "      <td>-2.380889</td>\n",
              "      <td>-1.915239</td>\n",
              "      <td>0.067613</td>\n",
              "      <td>-0.887342</td>\n",
              "      <td>6.007361</td>\n",
              "      <td>-11.906904</td>\n",
              "      <td>3.621984</td>\n",
              "      <td>6.158630</td>\n",
              "      <td>2.495276</td>\n",
              "      <td>5.776843</td>\n",
              "      <td>3.314383</td>\n",
              "      <td>-1.352860</td>\n",
              "      <td>-1.537483</td>\n",
              "      <td>2.845718</td>\n",
              "      <td>8.618923</td>\n",
              "      <td>-2.232214</td>\n",
              "      <td>5.378175</td>\n",
              "      <td>3.998898</td>\n",
              "      <td>1.879989</td>\n",
              "      <td>1.372814</td>\n",
              "      <td>-2.169002</td>\n",
              "      <td>0.485317</td>\n",
              "      <td>2.957325</td>\n",
              "      <td>5.841023</td>\n",
              "      <td>2.974139</td>\n",
              "      <td>-1.775050</td>\n",
              "      <td>-5.600164</td>\n",
              "      <td>13.743085</td>\n",
              "      <td>1.726239</td>\n",
              "      <td>-0.505341</td>\n",
              "      <td>4.256780</td>\n",
              "      <td>0.957134</td>\n",
              "      <td>0.831419</td>\n",
              "      <td>2.640759</td>\n",
              "      <td>-2.999393</td>\n",
              "      <td>3.359696</td>\n",
              "      <td>2.868557</td>\n",
              "      <td>...</td>\n",
              "      <td>3.717038</td>\n",
              "      <td>1.851578</td>\n",
              "      <td>-4.070744</td>\n",
              "      <td>1.220517</td>\n",
              "      <td>7.690866</td>\n",
              "      <td>3.055395</td>\n",
              "      <td>1.937417</td>\n",
              "      <td>4.684114</td>\n",
              "      <td>-1.580576</td>\n",
              "      <td>-0.359234</td>\n",
              "      <td>4.037395</td>\n",
              "      <td>4.702534</td>\n",
              "      <td>7.377977</td>\n",
              "      <td>-3.868737</td>\n",
              "      <td>0.037068</td>\n",
              "      <td>-2.863580</td>\n",
              "      <td>4.616200</td>\n",
              "      <td>1.336379</td>\n",
              "      <td>0.032001</td>\n",
              "      <td>-2.500477</td>\n",
              "      <td>-3.788376</td>\n",
              "      <td>0.559196</td>\n",
              "      <td>5.893237</td>\n",
              "      <td>3.621391</td>\n",
              "      <td>1.430272</td>\n",
              "      <td>4.146776</td>\n",
              "      <td>3.005560</td>\n",
              "      <td>5.407139</td>\n",
              "      <td>1.731942</td>\n",
              "      <td>0.066625</td>\n",
              "      <td>5.059609</td>\n",
              "      <td>2.296603</td>\n",
              "      <td>5.344174</td>\n",
              "      <td>-0.549843</td>\n",
              "      <td>3.272225</td>\n",
              "      <td>-0.940610</td>\n",
              "      <td>-1.031522</td>\n",
              "      <td>-2.071755</td>\n",
              "      <td>2.024442</td>\n",
              "      <td>3.0</td>\n",
              "    </tr>\n",
              "    <tr>\n",
              "      <th>3</th>\n",
              "      <td>WALKING</td>\n",
              "      <td>-1.574094</td>\n",
              "      <td>-0.793443</td>\n",
              "      <td>-2.449959</td>\n",
              "      <td>-1.842741</td>\n",
              "      <td>-0.195625</td>\n",
              "      <td>-0.950671</td>\n",
              "      <td>2.104353</td>\n",
              "      <td>-11.906121</td>\n",
              "      <td>3.355701</td>\n",
              "      <td>5.695567</td>\n",
              "      <td>2.592818</td>\n",
              "      <td>5.705653</td>\n",
              "      <td>1.968913</td>\n",
              "      <td>-1.353831</td>\n",
              "      <td>-1.490043</td>\n",
              "      <td>2.591209</td>\n",
              "      <td>8.453702</td>\n",
              "      <td>-2.161158</td>\n",
              "      <td>5.266233</td>\n",
              "      <td>3.829890</td>\n",
              "      <td>1.883672</td>\n",
              "      <td>1.424886</td>\n",
              "      <td>-2.101272</td>\n",
              "      <td>0.470061</td>\n",
              "      <td>2.911815</td>\n",
              "      <td>5.814566</td>\n",
              "      <td>2.874860</td>\n",
              "      <td>-1.751153</td>\n",
              "      <td>-5.505907</td>\n",
              "      <td>13.659326</td>\n",
              "      <td>1.708279</td>\n",
              "      <td>-0.517098</td>\n",
              "      <td>4.159184</td>\n",
              "      <td>0.895400</td>\n",
              "      <td>0.763995</td>\n",
              "      <td>2.589019</td>\n",
              "      <td>-3.171689</td>\n",
              "      <td>3.110759</td>\n",
              "      <td>2.847134</td>\n",
              "      <td>...</td>\n",
              "      <td>5.583209</td>\n",
              "      <td>1.532973</td>\n",
              "      <td>-3.414331</td>\n",
              "      <td>1.847189</td>\n",
              "      <td>8.394366</td>\n",
              "      <td>3.246233</td>\n",
              "      <td>1.256970</td>\n",
              "      <td>4.708756</td>\n",
              "      <td>-1.557720</td>\n",
              "      <td>-0.407105</td>\n",
              "      <td>4.057461</td>\n",
              "      <td>4.715538</td>\n",
              "      <td>7.303903</td>\n",
              "      <td>-6.003662</td>\n",
              "      <td>0.592027</td>\n",
              "      <td>-1.554225</td>\n",
              "      <td>2.254465</td>\n",
              "      <td>2.830937</td>\n",
              "      <td>3.575867</td>\n",
              "      <td>-2.153766</td>\n",
              "      <td>-3.131598</td>\n",
              "      <td>-0.272234</td>\n",
              "      <td>6.314269</td>\n",
              "      <td>3.698913</td>\n",
              "      <td>1.319806</td>\n",
              "      <td>4.098944</td>\n",
              "      <td>3.957257</td>\n",
              "      <td>5.202196</td>\n",
              "      <td>1.735761</td>\n",
              "      <td>-0.454503</td>\n",
              "      <td>4.860758</td>\n",
              "      <td>4.177535</td>\n",
              "      <td>3.950012</td>\n",
              "      <td>-0.322642</td>\n",
              "      <td>2.366287</td>\n",
              "      <td>-0.866937</td>\n",
              "      <td>-0.696431</td>\n",
              "      <td>1.863375</td>\n",
              "      <td>0.550414</td>\n",
              "      <td>2.0</td>\n",
              "    </tr>\n",
              "    <tr>\n",
              "      <th>4</th>\n",
              "      <td>LAYING</td>\n",
              "      <td>-1.548333</td>\n",
              "      <td>-0.139628</td>\n",
              "      <td>-2.380889</td>\n",
              "      <td>NaN</td>\n",
              "      <td>0.067613</td>\n",
              "      <td>-0.887342</td>\n",
              "      <td>6.007361</td>\n",
              "      <td>-11.970485</td>\n",
              "      <td>3.621984</td>\n",
              "      <td>6.158630</td>\n",
              "      <td>2.495276</td>\n",
              "      <td>5.776843</td>\n",
              "      <td>3.314383</td>\n",
              "      <td>-1.352860</td>\n",
              "      <td>-1.537483</td>\n",
              "      <td>2.845718</td>\n",
              "      <td>8.618923</td>\n",
              "      <td>-2.232214</td>\n",
              "      <td>5.378175</td>\n",
              "      <td>3.998898</td>\n",
              "      <td>1.879989</td>\n",
              "      <td>1.372814</td>\n",
              "      <td>-2.169002</td>\n",
              "      <td>0.485317</td>\n",
              "      <td>2.957325</td>\n",
              "      <td>5.841023</td>\n",
              "      <td>2.974139</td>\n",
              "      <td>-1.775050</td>\n",
              "      <td>-5.600164</td>\n",
              "      <td>13.743085</td>\n",
              "      <td>1.726239</td>\n",
              "      <td>-0.505341</td>\n",
              "      <td>4.256780</td>\n",
              "      <td>0.957134</td>\n",
              "      <td>0.831419</td>\n",
              "      <td>2.640759</td>\n",
              "      <td>NaN</td>\n",
              "      <td>3.359696</td>\n",
              "      <td>2.868557</td>\n",
              "      <td>...</td>\n",
              "      <td>3.717038</td>\n",
              "      <td>1.851578</td>\n",
              "      <td>-4.070744</td>\n",
              "      <td>1.220517</td>\n",
              "      <td>7.690866</td>\n",
              "      <td>3.055395</td>\n",
              "      <td>1.937417</td>\n",
              "      <td>4.684114</td>\n",
              "      <td>-1.580576</td>\n",
              "      <td>-0.359234</td>\n",
              "      <td>4.037395</td>\n",
              "      <td>4.702534</td>\n",
              "      <td>7.377977</td>\n",
              "      <td>-3.868737</td>\n",
              "      <td>0.037068</td>\n",
              "      <td>-2.863580</td>\n",
              "      <td>4.616200</td>\n",
              "      <td>1.336379</td>\n",
              "      <td>0.032001</td>\n",
              "      <td>-2.500477</td>\n",
              "      <td>NaN</td>\n",
              "      <td>0.559196</td>\n",
              "      <td>5.893237</td>\n",
              "      <td>3.621391</td>\n",
              "      <td>1.430272</td>\n",
              "      <td>4.146776</td>\n",
              "      <td>3.005560</td>\n",
              "      <td>5.407139</td>\n",
              "      <td>1.731942</td>\n",
              "      <td>0.066625</td>\n",
              "      <td>5.059609</td>\n",
              "      <td>2.296603</td>\n",
              "      <td>5.344174</td>\n",
              "      <td>-0.549843</td>\n",
              "      <td>3.272225</td>\n",
              "      <td>-0.940610</td>\n",
              "      <td>-1.031522</td>\n",
              "      <td>-2.102513</td>\n",
              "      <td>2.024442</td>\n",
              "      <td>3.0</td>\n",
              "    </tr>\n",
              "  </tbody>\n",
              "</table>\n",
              "<p>5 rows × 572 columns</p>\n",
              "</div>"
            ],
            "text/plain": [
              "           Activity  angle(X,gravityMean)  ...  tGravityAccMag-std()  void()\n",
              "0          STANDING             -1.574191  ...              1.669987     1.0\n",
              "1  WALKING_UPSTAIRS             -1.568669  ...             -0.544652     2.0\n",
              "2            LAYING             -1.548333  ...              2.024442     3.0\n",
              "3           WALKING             -1.574094  ...              0.550414     2.0\n",
              "4            LAYING             -1.548333  ...              2.024442     3.0\n",
              "\n",
              "[5 rows x 572 columns]"
            ]
          },
          "metadata": {
            "tags": []
          },
          "execution_count": 15
        }
      ]
    },
    {
      "cell_type": "code",
      "metadata": {
        "id": "1XVoccPFvZWZ"
      },
      "source": [
        "X = df.drop(\"Activity\", axis=1)\n",
        "y = df[\"Activity\"]"
      ],
      "execution_count": 16,
      "outputs": []
    },
    {
      "cell_type": "markdown",
      "metadata": {
        "id": "yZca6aqHzIaZ"
      },
      "source": [
        "Analiza danych \n",
        "===\n"
      ]
    },
    {
      "cell_type": "code",
      "metadata": {
        "colab": {
          "base_uri": "https://localhost:8080/"
        },
        "id": "_xeT5lAx9APW",
        "outputId": "174f1e71-ef6a-4b7a-e09f-3be0cc64d1d7"
      },
      "source": [
        "print(df.shape)\n",
        "#col = df.columns.to_list()\n",
        "#col"
      ],
      "execution_count": 17,
      "outputs": [
        {
          "output_type": "stream",
          "text": [
            "(11086, 572)\n"
          ],
          "name": "stdout"
        }
      ]
    },
    {
      "cell_type": "markdown",
      "metadata": {
        "id": "fD2GS2uZzlRU"
      },
      "source": [
        "Znaczenie kolumn na pierwszy rzut oka nie jest jasne, jednak chwila przeszukiwania internetu i można znaleźć dobre wyjaśnienie tych danych np. https://github.com/KarthikMurugadoss1804/Human-Activity-Recognition.\n",
        "\n",
        "Jednak pewne atrybuty od początku wzbudzają wątpliwości, np. atrybut void() wydaje się być zupełnie przypadkowo dodany. Pozostałe atrybuty wydają sie sensownie dobrane. \n",
        "\n",
        "Można też zauważyć pewną powtarzalność - są \"sparowane\" atrybuty zaczynające się od t lub od f, które zgodnie z podlinkowanych artykułek powstały po zastosowaniu transformaty fouriera dla atrybutów zaczynających się od \"t\". To potencjalna redundacja, którą prawdopodobnie można bezstratnie usunąć. "
      ]
    },
    {
      "cell_type": "code",
      "metadata": {
        "colab": {
          "base_uri": "https://localhost:8080/"
        },
        "id": "8ENidhUe-Gg6",
        "outputId": "1724a1ca-4758-4b1b-b246-b82833fe7d04"
      },
      "source": [
        "df[\"Activity\"].unique()"
      ],
      "execution_count": 18,
      "outputs": [
        {
          "output_type": "execute_result",
          "data": {
            "text/plain": [
              "array(['STANDING', 'WALKING_UPSTAIRS', 'LAYING', 'WALKING', 'SITTING',\n",
              "       'WALKING_DOWNSTAIRS'], dtype=object)"
            ]
          },
          "metadata": {
            "tags": []
          },
          "execution_count": 18
        }
      ]
    },
    {
      "cell_type": "code",
      "metadata": {
        "colab": {
          "base_uri": "https://localhost:8080/",
          "height": 623
        },
        "id": "Ukh6PjS5CTjS",
        "outputId": "05719384-451e-4173-bd9d-c8596769025c"
      },
      "source": [
        "import seaborn as sns\n",
        "import matplotlib.pyplot as plt\n",
        "plt.figure(figsize=(12,10))\n",
        "sns.set_style(\"dark\")\n",
        "sns.histplot(df[\"Activity\"], edgecolor='white')"
      ],
      "execution_count": 19,
      "outputs": [
        {
          "output_type": "execute_result",
          "data": {
            "text/plain": [
              "<matplotlib.axes._subplots.AxesSubplot at 0x7fb255c9d950>"
            ]
          },
          "metadata": {
            "tags": []
          },
          "execution_count": 19
        },
        {
          "output_type": "display_data",
          "data": {
            "image/png": "[encoded data removed]",
            "text/plain": [
              "<Figure size 864x720 with 1 Axes>"
            ]
          },
          "metadata": {
            "tags": []
          }
        }
      ]
    },
    {
      "cell_type": "markdown",
      "metadata": {
        "id": "Por3okT7GsGk"
      },
      "source": [
        "Klasy są w miare równomniernie rozłożone, więc nie powinny powodować problemów podczas klasyfikacji. "
      ]
    },
    {
      "cell_type": "code",
      "metadata": {
        "colab": {
          "base_uri": "https://localhost:8080/"
        },
        "id": "zecsF_rG36u3",
        "outputId": "ce273776-8d82-4ee0-8585-f6df2566f225"
      },
      "source": [
        "# sprawdzenie jak wiele wartości jest pustych\n",
        "df.isnull().sum()"
      ],
      "execution_count": 20,
      "outputs": [
        {
          "output_type": "execute_result",
          "data": {
            "text/plain": [
              "Activity                                 0\n",
              "angle(X,gravityMean)                    57\n",
              "angle(Y,gravityMean)                    68\n",
              "angle(Z,gravityMean)                    60\n",
              "angle(tBodyAccJerkMean),gravityMean)    52\n",
              "                                        ..\n",
              "tGravityAccMag-mean()                   65\n",
              "tGravityAccMag-min()                    66\n",
              "tGravityAccMag-sma()                    57\n",
              "tGravityAccMag-std()                    46\n",
              "void()                                  65\n",
              "Length: 572, dtype: int64"
            ]
          },
          "metadata": {
            "tags": []
          },
          "execution_count": 20
        }
      ]
    },
    {
      "cell_type": "code",
      "metadata": {
        "id": "G8JrH4uu4IlG",
        "colab": {
          "base_uri": "https://localhost:8080/"
        },
        "outputId": "bd465e5a-7f7d-48d4-c2af-53d688872177"
      },
      "source": [
        "# filling empty spaces with mean\n",
        "df = df.fillna(df.mean())\n",
        "df.isnull().sum() # sanity check"
      ],
      "execution_count": 21,
      "outputs": [
        {
          "output_type": "execute_result",
          "data": {
            "text/plain": [
              "Activity                                0\n",
              "angle(X,gravityMean)                    0\n",
              "angle(Y,gravityMean)                    0\n",
              "angle(Z,gravityMean)                    0\n",
              "angle(tBodyAccJerkMean),gravityMean)    0\n",
              "                                       ..\n",
              "tGravityAccMag-mean()                   0\n",
              "tGravityAccMag-min()                    0\n",
              "tGravityAccMag-sma()                    0\n",
              "tGravityAccMag-std()                    0\n",
              "void()                                  0\n",
              "Length: 572, dtype: int64"
            ]
          },
          "metadata": {
            "tags": []
          },
          "execution_count": 21
        }
      ]
    },
    {
      "cell_type": "code",
      "metadata": {
        "colab": {
          "base_uri": "https://localhost:8080/",
          "height": 290
        },
        "id": "A-s17WX_GEFK",
        "outputId": "8101a346-7afa-4508-bf8a-e59a7efd81ab"
      },
      "source": [
        "df.head()"
      ],
      "execution_count": 22,
      "outputs": [
        {
          "output_type": "execute_result",
          "data": {
            "text/html": [
              "<div>\n",
              "<style scoped>\n",
              "    .dataframe tbody tr th:only-of-type {\n",
              "        vertical-align: middle;\n",
              "    }\n",
              "\n",
              "    .dataframe tbody tr th {\n",
              "        vertical-align: top;\n",
              "    }\n",
              "\n",
              "    .dataframe thead th {\n",
              "        text-align: right;\n",
              "    }\n",
              "</style>\n",
              "<table border=\"1\" class=\"dataframe\">\n",
              "  <thead>\n",
              "    <tr style=\"text-align: right;\">\n",
              "      <th></th>\n",
              "      <th>Activity</th>\n",
              "      <th>angle(X,gravityMean)</th>\n",
              "      <th>angle(Y,gravityMean)</th>\n",
              "      <th>angle(Z,gravityMean)</th>\n",
              "      <th>angle(tBodyAccJerkMean),gravityMean)</th>\n",
              "      <th>angle(tBodyAccMean,gravity)</th>\n",
              "      <th>angle(tBodyGyroJerkMean,gravityMean)</th>\n",
              "      <th>angle(tBodyGyroMean,gravityMean)</th>\n",
              "      <th>energy-mean()</th>\n",
              "      <th>fBodyAcc-bandsEnergy()-1,16</th>\n",
              "      <th>fBodyAcc-bandsEnergy()-1,16.1</th>\n",
              "      <th>fBodyAcc-bandsEnergy()-1,16.2</th>\n",
              "      <th>fBodyAcc-bandsEnergy()-1,24</th>\n",
              "      <th>fBodyAcc-bandsEnergy()-1,24.1</th>\n",
              "      <th>fBodyAcc-bandsEnergy()-1,24.2</th>\n",
              "      <th>fBodyAcc-bandsEnergy()-1,8</th>\n",
              "      <th>fBodyAcc-bandsEnergy()-1,8.1</th>\n",
              "      <th>fBodyAcc-bandsEnergy()-1,8.2</th>\n",
              "      <th>fBodyAcc-bandsEnergy()-17,24</th>\n",
              "      <th>fBodyAcc-bandsEnergy()-17,24.1</th>\n",
              "      <th>fBodyAcc-bandsEnergy()-17,24.2</th>\n",
              "      <th>fBodyAcc-bandsEnergy()-17,32</th>\n",
              "      <th>fBodyAcc-bandsEnergy()-17,32.1</th>\n",
              "      <th>fBodyAcc-bandsEnergy()-17,32.2</th>\n",
              "      <th>fBodyAcc-bandsEnergy()-25,32</th>\n",
              "      <th>fBodyAcc-bandsEnergy()-25,32.1</th>\n",
              "      <th>fBodyAcc-bandsEnergy()-25,32.2</th>\n",
              "      <th>fBodyAcc-bandsEnergy()-25,48</th>\n",
              "      <th>fBodyAcc-bandsEnergy()-25,48.1</th>\n",
              "      <th>fBodyAcc-bandsEnergy()-25,48.2</th>\n",
              "      <th>fBodyAcc-bandsEnergy()-33,40</th>\n",
              "      <th>fBodyAcc-bandsEnergy()-33,40.1</th>\n",
              "      <th>fBodyAcc-bandsEnergy()-33,40.2</th>\n",
              "      <th>fBodyAcc-bandsEnergy()-33,48</th>\n",
              "      <th>fBodyAcc-bandsEnergy()-33,48.1</th>\n",
              "      <th>fBodyAcc-bandsEnergy()-33,48.2</th>\n",
              "      <th>fBodyAcc-bandsEnergy()-41,48</th>\n",
              "      <th>fBodyAcc-bandsEnergy()-41,48.1</th>\n",
              "      <th>fBodyAcc-bandsEnergy()-41,48.2</th>\n",
              "      <th>fBodyAcc-bandsEnergy()-49,56</th>\n",
              "      <th>...</th>\n",
              "      <th>tGravityAcc-correlation()-Y,Z</th>\n",
              "      <th>tGravityAcc-energy()-X</th>\n",
              "      <th>tGravityAcc-energy()-Y</th>\n",
              "      <th>tGravityAcc-energy()-Z</th>\n",
              "      <th>tGravityAcc-entropy()-X</th>\n",
              "      <th>tGravityAcc-entropy()-Y</th>\n",
              "      <th>tGravityAcc-entropy()-Z</th>\n",
              "      <th>tGravityAcc-iqr()-X</th>\n",
              "      <th>tGravityAcc-iqr()-Y</th>\n",
              "      <th>tGravityAcc-iqr()-Z</th>\n",
              "      <th>tGravityAcc-mad()-X</th>\n",
              "      <th>tGravityAcc-mad()-Y</th>\n",
              "      <th>tGravityAcc-mad()-Z</th>\n",
              "      <th>tGravityAcc-max()-X</th>\n",
              "      <th>tGravityAcc-max()-Y</th>\n",
              "      <th>tGravityAcc-max()-Z</th>\n",
              "      <th>tGravityAcc-mean()-X</th>\n",
              "      <th>tGravityAcc-mean()-Y</th>\n",
              "      <th>tGravityAcc-mean()-Z</th>\n",
              "      <th>tGravityAcc-min()-X</th>\n",
              "      <th>tGravityAcc-min()-Y</th>\n",
              "      <th>tGravityAcc-min()-Z</th>\n",
              "      <th>tGravityAcc-sma()</th>\n",
              "      <th>tGravityAcc-std()-X</th>\n",
              "      <th>tGravityAcc-std()-Y</th>\n",
              "      <th>tGravityAcc-std()-Z</th>\n",
              "      <th>tGravityAccMag-arCoeff()1</th>\n",
              "      <th>tGravityAccMag-arCoeff()2</th>\n",
              "      <th>tGravityAccMag-arCoeff()3</th>\n",
              "      <th>tGravityAccMag-arCoeff()4</th>\n",
              "      <th>tGravityAccMag-energy()</th>\n",
              "      <th>tGravityAccMag-entropy()</th>\n",
              "      <th>tGravityAccMag-iqr()</th>\n",
              "      <th>tGravityAccMag-mad()</th>\n",
              "      <th>tGravityAccMag-max()</th>\n",
              "      <th>tGravityAccMag-mean()</th>\n",
              "      <th>tGravityAccMag-min()</th>\n",
              "      <th>tGravityAccMag-sma()</th>\n",
              "      <th>tGravityAccMag-std()</th>\n",
              "      <th>void()</th>\n",
              "    </tr>\n",
              "  </thead>\n",
              "  <tbody>\n",
              "    <tr>\n",
              "      <th>0</th>\n",
              "      <td>STANDING</td>\n",
              "      <td>-1.574191</td>\n",
              "      <td>-0.805700</td>\n",
              "      <td>-2.453831</td>\n",
              "      <td>-1.861714</td>\n",
              "      <td>0.115517</td>\n",
              "      <td>-2.023369</td>\n",
              "      <td>3.125860</td>\n",
              "      <td>-9.474436</td>\n",
              "      <td>3.622600</td>\n",
              "      <td>6.137246</td>\n",
              "      <td>2.503062</td>\n",
              "      <td>5.776680</td>\n",
              "      <td>3.242765</td>\n",
              "      <td>-1.352936</td>\n",
              "      <td>-1.537732</td>\n",
              "      <td>2.828395</td>\n",
              "      <td>8.603183</td>\n",
              "      <td>-2.228620</td>\n",
              "      <td>5.355308</td>\n",
              "      <td>3.987723</td>\n",
              "      <td>1.880228</td>\n",
              "      <td>1.384042</td>\n",
              "      <td>-2.163548</td>\n",
              "      <td>0.483175</td>\n",
              "      <td>2.942713</td>\n",
              "      <td>5.837147</td>\n",
              "      <td>2.957527</td>\n",
              "      <td>-1.770934</td>\n",
              "      <td>-5.580564</td>\n",
              "      <td>13.725027</td>\n",
              "      <td>1.724643</td>\n",
              "      <td>-0.519345</td>\n",
              "      <td>4.233416</td>\n",
              "      <td>0.953127</td>\n",
              "      <td>0.807692</td>\n",
              "      <td>2.624547</td>\n",
              "      <td>-3.005993</td>\n",
              "      <td>3.329588</td>\n",
              "      <td>2.866778</td>\n",
              "      <td>...</td>\n",
              "      <td>2.988204</td>\n",
              "      <td>1.531084</td>\n",
              "      <td>-3.422785</td>\n",
              "      <td>1.852121</td>\n",
              "      <td>8.394366</td>\n",
              "      <td>3.246233</td>\n",
              "      <td>0.937300</td>\n",
              "      <td>4.725389</td>\n",
              "      <td>-1.578871</td>\n",
              "      <td>-0.442374</td>\n",
              "      <td>4.068593</td>\n",
              "      <td>4.705346</td>\n",
              "      <td>7.195449</td>\n",
              "      <td>-6.003664</td>\n",
              "      <td>0.607255</td>\n",
              "      <td>-1.499318</td>\n",
              "      <td>2.246320</td>\n",
              "      <td>2.861260</td>\n",
              "      <td>3.815614</td>\n",
              "      <td>-2.151051</td>\n",
              "      <td>-3.122438</td>\n",
              "      <td>-0.336110</td>\n",
              "      <td>6.357369</td>\n",
              "      <td>3.741996</td>\n",
              "      <td>1.394575</td>\n",
              "      <td>4.017211</td>\n",
              "      <td>2.481302</td>\n",
              "      <td>5.774536</td>\n",
              "      <td>1.754626</td>\n",
              "      <td>1.180533</td>\n",
              "      <td>5.049130</td>\n",
              "      <td>3.272281</td>\n",
              "      <td>5.103018</td>\n",
              "      <td>-0.823302</td>\n",
              "      <td>3.063681</td>\n",
              "      <td>-0.928676</td>\n",
              "      <td>-1.007695</td>\n",
              "      <td>3.094236</td>\n",
              "      <td>1.669987</td>\n",
              "      <td>1.0</td>\n",
              "    </tr>\n",
              "    <tr>\n",
              "      <th>1</th>\n",
              "      <td>WALKING_UPSTAIRS</td>\n",
              "      <td>-1.568669</td>\n",
              "      <td>-0.612620</td>\n",
              "      <td>-2.488338</td>\n",
              "      <td>-1.751117</td>\n",
              "      <td>0.218134</td>\n",
              "      <td>0.280294</td>\n",
              "      <td>7.953403</td>\n",
              "      <td>-0.679894</td>\n",
              "      <td>2.512880</td>\n",
              "      <td>5.740178</td>\n",
              "      <td>2.803435</td>\n",
              "      <td>5.484726</td>\n",
              "      <td>2.102368</td>\n",
              "      <td>-1.355854</td>\n",
              "      <td>-1.416568</td>\n",
              "      <td>2.527046</td>\n",
              "      <td>8.046001</td>\n",
              "      <td>-1.986672</td>\n",
              "      <td>5.284168</td>\n",
              "      <td>3.598328</td>\n",
              "      <td>1.892567</td>\n",
              "      <td>1.417711</td>\n",
              "      <td>-2.027475</td>\n",
              "      <td>0.436458</td>\n",
              "      <td>2.908602</td>\n",
              "      <td>5.819734</td>\n",
              "      <td>2.551773</td>\n",
              "      <td>-1.756530</td>\n",
              "      <td>-5.503246</td>\n",
              "      <td>13.251491</td>\n",
              "      <td>1.714753</td>\n",
              "      <td>-0.552312</td>\n",
              "      <td>3.566532</td>\n",
              "      <td>0.922455</td>\n",
              "      <td>0.726768</td>\n",
              "      <td>2.081277</td>\n",
              "      <td>-3.081267</td>\n",
              "      <td>3.140684</td>\n",
              "      <td>2.684137</td>\n",
              "      <td>...</td>\n",
              "      <td>2.859864</td>\n",
              "      <td>1.585023</td>\n",
              "      <td>-3.387872</td>\n",
              "      <td>1.698743</td>\n",
              "      <td>8.112279</td>\n",
              "      <td>1.926083</td>\n",
              "      <td>2.348895</td>\n",
              "      <td>4.719540</td>\n",
              "      <td>-1.521161</td>\n",
              "      <td>-0.463599</td>\n",
              "      <td>4.063648</td>\n",
              "      <td>4.730261</td>\n",
              "      <td>7.221653</td>\n",
              "      <td>-5.789276</td>\n",
              "      <td>0.417687</td>\n",
              "      <td>-0.703212</td>\n",
              "      <td>2.488702</td>\n",
              "      <td>2.391994</td>\n",
              "      <td>5.884982</td>\n",
              "      <td>-2.187197</td>\n",
              "      <td>-3.306482</td>\n",
              "      <td>-0.814718</td>\n",
              "      <td>6.077734</td>\n",
              "      <td>3.720622</td>\n",
              "      <td>1.202847</td>\n",
              "      <td>4.050714</td>\n",
              "      <td>4.539801</td>\n",
              "      <td>4.618405</td>\n",
              "      <td>1.727481</td>\n",
              "      <td>0.220730</td>\n",
              "      <td>4.565443</td>\n",
              "      <td>4.440779</td>\n",
              "      <td>3.288399</td>\n",
              "      <td>-2.689605</td>\n",
              "      <td>1.705341</td>\n",
              "      <td>-0.822617</td>\n",
              "      <td>-0.572410</td>\n",
              "      <td>-2.187890</td>\n",
              "      <td>-0.544652</td>\n",
              "      <td>2.0</td>\n",
              "    </tr>\n",
              "    <tr>\n",
              "      <th>2</th>\n",
              "      <td>LAYING</td>\n",
              "      <td>-1.548333</td>\n",
              "      <td>-0.139628</td>\n",
              "      <td>-2.380889</td>\n",
              "      <td>-1.915239</td>\n",
              "      <td>0.067613</td>\n",
              "      <td>-0.887342</td>\n",
              "      <td>6.007361</td>\n",
              "      <td>-11.906904</td>\n",
              "      <td>3.621984</td>\n",
              "      <td>6.158630</td>\n",
              "      <td>2.495276</td>\n",
              "      <td>5.776843</td>\n",
              "      <td>3.314383</td>\n",
              "      <td>-1.352860</td>\n",
              "      <td>-1.537483</td>\n",
              "      <td>2.845718</td>\n",
              "      <td>8.618923</td>\n",
              "      <td>-2.232214</td>\n",
              "      <td>5.378175</td>\n",
              "      <td>3.998898</td>\n",
              "      <td>1.879989</td>\n",
              "      <td>1.372814</td>\n",
              "      <td>-2.169002</td>\n",
              "      <td>0.485317</td>\n",
              "      <td>2.957325</td>\n",
              "      <td>5.841023</td>\n",
              "      <td>2.974139</td>\n",
              "      <td>-1.775050</td>\n",
              "      <td>-5.600164</td>\n",
              "      <td>13.743085</td>\n",
              "      <td>1.726239</td>\n",
              "      <td>-0.505341</td>\n",
              "      <td>4.256780</td>\n",
              "      <td>0.957134</td>\n",
              "      <td>0.831419</td>\n",
              "      <td>2.640759</td>\n",
              "      <td>-2.999393</td>\n",
              "      <td>3.359696</td>\n",
              "      <td>2.868557</td>\n",
              "      <td>...</td>\n",
              "      <td>3.717038</td>\n",
              "      <td>1.851578</td>\n",
              "      <td>-4.070744</td>\n",
              "      <td>1.220517</td>\n",
              "      <td>7.690866</td>\n",
              "      <td>3.055395</td>\n",
              "      <td>1.937417</td>\n",
              "      <td>4.684114</td>\n",
              "      <td>-1.580576</td>\n",
              "      <td>-0.359234</td>\n",
              "      <td>4.037395</td>\n",
              "      <td>4.702534</td>\n",
              "      <td>7.377977</td>\n",
              "      <td>-3.868737</td>\n",
              "      <td>0.037068</td>\n",
              "      <td>-2.863580</td>\n",
              "      <td>4.616200</td>\n",
              "      <td>1.336379</td>\n",
              "      <td>0.032001</td>\n",
              "      <td>-2.500477</td>\n",
              "      <td>-3.788376</td>\n",
              "      <td>0.559196</td>\n",
              "      <td>5.893237</td>\n",
              "      <td>3.621391</td>\n",
              "      <td>1.430272</td>\n",
              "      <td>4.146776</td>\n",
              "      <td>3.005560</td>\n",
              "      <td>5.407139</td>\n",
              "      <td>1.731942</td>\n",
              "      <td>0.066625</td>\n",
              "      <td>5.059609</td>\n",
              "      <td>2.296603</td>\n",
              "      <td>5.344174</td>\n",
              "      <td>-0.549843</td>\n",
              "      <td>3.272225</td>\n",
              "      <td>-0.940610</td>\n",
              "      <td>-1.031522</td>\n",
              "      <td>-2.071755</td>\n",
              "      <td>2.024442</td>\n",
              "      <td>3.0</td>\n",
              "    </tr>\n",
              "    <tr>\n",
              "      <th>3</th>\n",
              "      <td>WALKING</td>\n",
              "      <td>-1.574094</td>\n",
              "      <td>-0.793443</td>\n",
              "      <td>-2.449959</td>\n",
              "      <td>-1.842741</td>\n",
              "      <td>-0.195625</td>\n",
              "      <td>-0.950671</td>\n",
              "      <td>2.104353</td>\n",
              "      <td>-11.906121</td>\n",
              "      <td>3.355701</td>\n",
              "      <td>5.695567</td>\n",
              "      <td>2.592818</td>\n",
              "      <td>5.705653</td>\n",
              "      <td>1.968913</td>\n",
              "      <td>-1.353831</td>\n",
              "      <td>-1.490043</td>\n",
              "      <td>2.591209</td>\n",
              "      <td>8.453702</td>\n",
              "      <td>-2.161158</td>\n",
              "      <td>5.266233</td>\n",
              "      <td>3.829890</td>\n",
              "      <td>1.883672</td>\n",
              "      <td>1.424886</td>\n",
              "      <td>-2.101272</td>\n",
              "      <td>0.470061</td>\n",
              "      <td>2.911815</td>\n",
              "      <td>5.814566</td>\n",
              "      <td>2.874860</td>\n",
              "      <td>-1.751153</td>\n",
              "      <td>-5.505907</td>\n",
              "      <td>13.659326</td>\n",
              "      <td>1.708279</td>\n",
              "      <td>-0.517098</td>\n",
              "      <td>4.159184</td>\n",
              "      <td>0.895400</td>\n",
              "      <td>0.763995</td>\n",
              "      <td>2.589019</td>\n",
              "      <td>-3.171689</td>\n",
              "      <td>3.110759</td>\n",
              "      <td>2.847134</td>\n",
              "      <td>...</td>\n",
              "      <td>5.583209</td>\n",
              "      <td>1.532973</td>\n",
              "      <td>-3.414331</td>\n",
              "      <td>1.847189</td>\n",
              "      <td>8.394366</td>\n",
              "      <td>3.246233</td>\n",
              "      <td>1.256970</td>\n",
              "      <td>4.708756</td>\n",
              "      <td>-1.557720</td>\n",
              "      <td>-0.407105</td>\n",
              "      <td>4.057461</td>\n",
              "      <td>4.715538</td>\n",
              "      <td>7.303903</td>\n",
              "      <td>-6.003662</td>\n",
              "      <td>0.592027</td>\n",
              "      <td>-1.554225</td>\n",
              "      <td>2.254465</td>\n",
              "      <td>2.830937</td>\n",
              "      <td>3.575867</td>\n",
              "      <td>-2.153766</td>\n",
              "      <td>-3.131598</td>\n",
              "      <td>-0.272234</td>\n",
              "      <td>6.314269</td>\n",
              "      <td>3.698913</td>\n",
              "      <td>1.319806</td>\n",
              "      <td>4.098944</td>\n",
              "      <td>3.957257</td>\n",
              "      <td>5.202196</td>\n",
              "      <td>1.735761</td>\n",
              "      <td>-0.454503</td>\n",
              "      <td>4.860758</td>\n",
              "      <td>4.177535</td>\n",
              "      <td>3.950012</td>\n",
              "      <td>-0.322642</td>\n",
              "      <td>2.366287</td>\n",
              "      <td>-0.866937</td>\n",
              "      <td>-0.696431</td>\n",
              "      <td>1.863375</td>\n",
              "      <td>0.550414</td>\n",
              "      <td>2.0</td>\n",
              "    </tr>\n",
              "    <tr>\n",
              "      <th>4</th>\n",
              "      <td>LAYING</td>\n",
              "      <td>-1.548333</td>\n",
              "      <td>-0.139628</td>\n",
              "      <td>-2.380889</td>\n",
              "      <td>-1.860175</td>\n",
              "      <td>0.067613</td>\n",
              "      <td>-0.887342</td>\n",
              "      <td>6.007361</td>\n",
              "      <td>-11.970485</td>\n",
              "      <td>3.621984</td>\n",
              "      <td>6.158630</td>\n",
              "      <td>2.495276</td>\n",
              "      <td>5.776843</td>\n",
              "      <td>3.314383</td>\n",
              "      <td>-1.352860</td>\n",
              "      <td>-1.537483</td>\n",
              "      <td>2.845718</td>\n",
              "      <td>8.618923</td>\n",
              "      <td>-2.232214</td>\n",
              "      <td>5.378175</td>\n",
              "      <td>3.998898</td>\n",
              "      <td>1.879989</td>\n",
              "      <td>1.372814</td>\n",
              "      <td>-2.169002</td>\n",
              "      <td>0.485317</td>\n",
              "      <td>2.957325</td>\n",
              "      <td>5.841023</td>\n",
              "      <td>2.974139</td>\n",
              "      <td>-1.775050</td>\n",
              "      <td>-5.600164</td>\n",
              "      <td>13.743085</td>\n",
              "      <td>1.726239</td>\n",
              "      <td>-0.505341</td>\n",
              "      <td>4.256780</td>\n",
              "      <td>0.957134</td>\n",
              "      <td>0.831419</td>\n",
              "      <td>2.640759</td>\n",
              "      <td>-3.141861</td>\n",
              "      <td>3.359696</td>\n",
              "      <td>2.868557</td>\n",
              "      <td>...</td>\n",
              "      <td>3.717038</td>\n",
              "      <td>1.851578</td>\n",
              "      <td>-4.070744</td>\n",
              "      <td>1.220517</td>\n",
              "      <td>7.690866</td>\n",
              "      <td>3.055395</td>\n",
              "      <td>1.937417</td>\n",
              "      <td>4.684114</td>\n",
              "      <td>-1.580576</td>\n",
              "      <td>-0.359234</td>\n",
              "      <td>4.037395</td>\n",
              "      <td>4.702534</td>\n",
              "      <td>7.377977</td>\n",
              "      <td>-3.868737</td>\n",
              "      <td>0.037068</td>\n",
              "      <td>-2.863580</td>\n",
              "      <td>4.616200</td>\n",
              "      <td>1.336379</td>\n",
              "      <td>0.032001</td>\n",
              "      <td>-2.500477</td>\n",
              "      <td>-3.299885</td>\n",
              "      <td>0.559196</td>\n",
              "      <td>5.893237</td>\n",
              "      <td>3.621391</td>\n",
              "      <td>1.430272</td>\n",
              "      <td>4.146776</td>\n",
              "      <td>3.005560</td>\n",
              "      <td>5.407139</td>\n",
              "      <td>1.731942</td>\n",
              "      <td>0.066625</td>\n",
              "      <td>5.059609</td>\n",
              "      <td>2.296603</td>\n",
              "      <td>5.344174</td>\n",
              "      <td>-0.549843</td>\n",
              "      <td>3.272225</td>\n",
              "      <td>-0.940610</td>\n",
              "      <td>-1.031522</td>\n",
              "      <td>-2.102513</td>\n",
              "      <td>2.024442</td>\n",
              "      <td>3.0</td>\n",
              "    </tr>\n",
              "  </tbody>\n",
              "</table>\n",
              "<p>5 rows × 572 columns</p>\n",
              "</div>"
            ],
            "text/plain": [
              "           Activity  angle(X,gravityMean)  ...  tGravityAccMag-std()  void()\n",
              "0          STANDING             -1.574191  ...              1.669987     1.0\n",
              "1  WALKING_UPSTAIRS             -1.568669  ...             -0.544652     2.0\n",
              "2            LAYING             -1.548333  ...              2.024442     3.0\n",
              "3           WALKING             -1.574094  ...              0.550414     2.0\n",
              "4            LAYING             -1.548333  ...              2.024442     3.0\n",
              "\n",
              "[5 rows x 572 columns]"
            ]
          },
          "metadata": {
            "tags": []
          },
          "execution_count": 22
        }
      ]
    },
    {
      "cell_type": "markdown",
      "metadata": {
        "id": "eKI4V1Q9TUu4"
      },
      "source": [
        "Redukcja wymiarowości \n",
        "=====\n",
        "Redukcja wymiarowości poprzez selekcję atrybutów"
      ]
    },
    {
      "cell_type": "code",
      "metadata": {
        "id": "KPuyat5-CTTU"
      },
      "source": [
        "# sprawdzenie korelacji atrybutów z atrybutem klasyfikacji\n",
        "res = []\n",
        "df_no_a = df.drop(\"Activity\", axis=1)\n",
        "labels = df[\"Activity\"]\n",
        "\n",
        "for f in df_no_a.columns:\n",
        "  res.append(df[f].corr(labels, method='spearman'))"
      ],
      "execution_count": 23,
      "outputs": []
    },
    {
      "cell_type": "code",
      "metadata": {
        "colab": {
          "base_uri": "https://localhost:8080/"
        },
        "id": "d-bDW1PYJVdh",
        "outputId": "b8d8b015-0a7a-4fac-f4e0-32176c350a44"
      },
      "source": [
        "col = df_no_a .columns.to_list()\n",
        "\n",
        "correl = pd.DataFrame(res, index = col)\n",
        "weak_f = correl[abs(correl[0]) < 0.3]\n",
        "\n",
        "weak_f.index "
      ],
      "execution_count": 24,
      "outputs": [
        {
          "output_type": "execute_result",
          "data": {
            "text/plain": [
              "Index(['angle(tBodyAccMean,gravity)', 'angle(tBodyGyroJerkMean,gravityMean)',\n",
              "       'angle(tBodyGyroMean,gravityMean)', 'energy-mean()',\n",
              "       'fBodyAcc-kurtosis()-X', 'fBodyAcc-kurtosis()-Y',\n",
              "       'fBodyAcc-kurtosis()-Z', 'fBodyAcc-main()-X', 'fBodyAcc-main()-Z',\n",
              "       'fBodyAcc-maxInds-Y',\n",
              "       ...\n",
              "       'tGravityAcc-entropy()-Y', 'tGravityAcc-entropy()-Z',\n",
              "       'tGravityAcc-iqr()-X', 'tGravityAcc-mad()-X', 'tGravityAcc-sma()',\n",
              "       'tGravityAcc-std()-X', 'tGravityAccMag-arCoeff()4',\n",
              "       'tGravityAccMag-mad()', 'tGravityAccMag-sma()', 'void()'],\n",
              "      dtype='object', length=106)"
            ]
          },
          "metadata": {
            "tags": []
          },
          "execution_count": 24
        }
      ]
    },
    {
      "cell_type": "markdown",
      "metadata": {
        "id": "GO8GBYiBTv36"
      },
      "source": [
        "Mamy w danych sporo atrybutów o niskiej korelacji z atrybutem klasyfikacji - prawdopodobnie bez wielkich strat dla dokładności modelu można je usunąć. Wśród nich jest też atrybut wcześniej wyróżniony jako podejrzany - \"void()\".\n"
      ]
    },
    {
      "cell_type": "code",
      "metadata": {
        "id": "AepEeWOwCTJC",
        "colab": {
          "base_uri": "https://localhost:8080/"
        },
        "outputId": "4e02b796-68d5-4463-c06e-2511711fee4e"
      },
      "source": [
        "# sprawdzenie korelacji odpowiadających sobie atrybutów f i t - podejrzewamy, że mogą wprowadzać redundancję\n",
        "def inv_fourier(df, fourier_labels):\n",
        "  inv_fourier_labels = [label.replace('f', 't', 1) for label in fourier_labels]\n",
        "  return df.filter(items=inv_fourier_labels)\n",
        "\n",
        "def fourier_correlation(df, inv_fourier_labels):\n",
        "  results = pd.DataFrame(columns=['label', 'value'])\n",
        "  for label in inv_fourier_labels:\n",
        "    new_row = {'label': label[1:], 'value': df[label].corr(df[label.replace('t', 'f', 1)])}\n",
        "    results = results.append(new_row, ignore_index=True)\n",
        "  return results\n",
        "\n",
        "fourier_labels = df.filter(regex='^f').columns\n",
        "inv_fourier_labels = inv_fourier(df, fourier_labels)\n",
        "\n",
        "correlation = fourier_correlation(df, inv_fourier_labels)\n",
        "\n",
        "def filter_correlating_fourier(df, correlation, threshold=0.5):\n",
        "  filtered = df.copy()\n",
        "  for index, row in correlation.iterrows():\n",
        "    if abs(float(row['value']) > 0.5):\n",
        "      filtered = filtered.drop(columns=['f'+row['label']], errors='ignore')\n",
        "\n",
        "  return filtered\n",
        "\n",
        "\n",
        "\n",
        "no_fourier = filter_correlating_fourier(df, correlation)\n",
        "print(no_fourier.shape, df.shape) # usunięto 50 atrybutów\n",
        "\n"
      ],
      "execution_count": 25,
      "outputs": [
        {
          "output_type": "stream",
          "text": [
            "(11086, 524) (11086, 572)\n"
          ],
          "name": "stdout"
        }
      ]
    },
    {
      "cell_type": "code",
      "metadata": {
        "id": "SlHxpTBBIC31"
      },
      "source": [
        "# normalizacja\n",
        "import sklearn.preprocessing as preprocessing\n",
        "X = df.drop('Activity', axis='columns')\n",
        "X = X.fillna(X.mean())\n",
        "\n",
        "def normalize(df):\n",
        "    cols = df.columns\n",
        "    x = df.values #returns a numpy array\n",
        "    min_max_scaler = preprocessing.StandardScaler()\n",
        "    x_scaled = min_max_scaler.fit_transform(x)\n",
        "    return pd.DataFrame(x_scaled, columns=cols)\n",
        "\n",
        "X = normalize(X)"
      ],
      "execution_count": 26,
      "outputs": []
    },
    {
      "cell_type": "code",
      "metadata": {
        "id": "GpcUk9xoCS_F",
        "colab": {
          "base_uri": "https://localhost:8080/"
        },
        "outputId": "04c979db-e6b2-413d-eda6-7ee1b06dd780"
      },
      "source": [
        "# przykładowa klasyfikacja z wykorzystaniem wszystkich atrybutów\n",
        "from sklearn.model_selection import train_test_split\n",
        "from sklearn.linear_model import LogisticRegression\n",
        "\n",
        "y = labels\n",
        "\n",
        "X_train, X_test, y_train, y_test = train_test_split(X, y, test_size=0.3, random_state=69)\n",
        "\n",
        "model_lr = LogisticRegression(random_state=69).fit(X_train, y_train)\n",
        "best_score = model_lr.score(X_test, y_test)\n",
        "best_score"
      ],
      "execution_count": 27,
      "outputs": [
        {
          "output_type": "stream",
          "text": [
            "/usr/local/lib/python3.7/dist-packages/sklearn/linear_model/_logistic.py:940: ConvergenceWarning:\n",
            "\n",
            "lbfgs failed to converge (status=1):\n",
            "STOP: TOTAL NO. of ITERATIONS REACHED LIMIT.\n",
            "\n",
            "Increase the number of iterations (max_iter) or scale the data as shown in:\n",
            "    https://scikit-learn.org/stable/modules/preprocessing.html\n",
            "Please also refer to the documentation for alternative solver options:\n",
            "    https://scikit-learn.org/stable/modules/linear_model.html#logistic-regression\n",
            "\n"
          ],
          "name": "stderr"
        },
        {
          "output_type": "execute_result",
          "data": {
            "text/plain": [
              "0.9822609741431149"
            ]
          },
          "metadata": {
            "tags": []
          },
          "execution_count": 27
        }
      ]
    },
    {
      "cell_type": "code",
      "metadata": {
        "colab": {
          "base_uri": "https://localhost:8080/",
          "height": 325
        },
        "id": "TB-HuOAOHt8n",
        "outputId": "8501afef-e2b2-4aa2-82b2-123eb254c784"
      },
      "source": [
        "# zbiór atrybutów zredukowany o te nisko skorelowane z atrybutem docelowym\n",
        "weak_f = correl[abs(correl[0]) < 0.5]\n",
        "\n",
        "X_train_reduced = X_train.drop(weak_f.index, axis=1)\n",
        "print(X_train.shape, X_train_reduced.shape, weak_f.shape) #sanity check\n",
        "\n",
        "X_test_reduced = X_test.drop(weak_f.index, axis=1)\n",
        "print(X_test.shape, X_test_reduced.shape, weak_f.shape) #sanity check\n",
        "\n",
        "\n",
        "X_train_reduced.head()"
      ],
      "execution_count": 28,
      "outputs": [
        {
          "output_type": "stream",
          "text": [
            "(7760, 571) (7760, 418) (153, 1)\n",
            "(3326, 571) (3326, 418) (153, 1)\n"
          ],
          "name": "stdout"
        },
        {
          "output_type": "execute_result",
          "data": {
            "text/html": [
              "<div>\n",
              "<style scoped>\n",
              "    .dataframe tbody tr th:only-of-type {\n",
              "        vertical-align: middle;\n",
              "    }\n",
              "\n",
              "    .dataframe tbody tr th {\n",
              "        vertical-align: top;\n",
              "    }\n",
              "\n",
              "    .dataframe thead th {\n",
              "        text-align: right;\n",
              "    }\n",
              "</style>\n",
              "<table border=\"1\" class=\"dataframe\">\n",
              "  <thead>\n",
              "    <tr style=\"text-align: right;\">\n",
              "      <th></th>\n",
              "      <th>angle(Y,gravityMean)</th>\n",
              "      <th>angle(Z,gravityMean)</th>\n",
              "      <th>fBodyAcc-bandsEnergy()-1,16</th>\n",
              "      <th>fBodyAcc-bandsEnergy()-1,16.1</th>\n",
              "      <th>fBodyAcc-bandsEnergy()-1,16.2</th>\n",
              "      <th>fBodyAcc-bandsEnergy()-1,24</th>\n",
              "      <th>fBodyAcc-bandsEnergy()-1,24.1</th>\n",
              "      <th>fBodyAcc-bandsEnergy()-1,24.2</th>\n",
              "      <th>fBodyAcc-bandsEnergy()-1,8</th>\n",
              "      <th>fBodyAcc-bandsEnergy()-1,8.1</th>\n",
              "      <th>fBodyAcc-bandsEnergy()-1,8.2</th>\n",
              "      <th>fBodyAcc-bandsEnergy()-17,24</th>\n",
              "      <th>fBodyAcc-bandsEnergy()-17,24.1</th>\n",
              "      <th>fBodyAcc-bandsEnergy()-17,24.2</th>\n",
              "      <th>fBodyAcc-bandsEnergy()-17,32</th>\n",
              "      <th>fBodyAcc-bandsEnergy()-17,32.1</th>\n",
              "      <th>fBodyAcc-bandsEnergy()-17,32.2</th>\n",
              "      <th>fBodyAcc-bandsEnergy()-25,32</th>\n",
              "      <th>fBodyAcc-bandsEnergy()-25,32.1</th>\n",
              "      <th>fBodyAcc-bandsEnergy()-25,32.2</th>\n",
              "      <th>fBodyAcc-bandsEnergy()-25,48</th>\n",
              "      <th>fBodyAcc-bandsEnergy()-25,48.1</th>\n",
              "      <th>fBodyAcc-bandsEnergy()-25,48.2</th>\n",
              "      <th>fBodyAcc-bandsEnergy()-33,40</th>\n",
              "      <th>fBodyAcc-bandsEnergy()-33,40.1</th>\n",
              "      <th>fBodyAcc-bandsEnergy()-33,40.2</th>\n",
              "      <th>fBodyAcc-bandsEnergy()-33,48</th>\n",
              "      <th>fBodyAcc-bandsEnergy()-33,48.1</th>\n",
              "      <th>fBodyAcc-bandsEnergy()-33,48.2</th>\n",
              "      <th>fBodyAcc-bandsEnergy()-41,48</th>\n",
              "      <th>fBodyAcc-bandsEnergy()-41,48.1</th>\n",
              "      <th>fBodyAcc-bandsEnergy()-41,48.2</th>\n",
              "      <th>fBodyAcc-bandsEnergy()-49,56</th>\n",
              "      <th>fBodyAcc-bandsEnergy()-49,56.1</th>\n",
              "      <th>fBodyAcc-bandsEnergy()-49,56.2</th>\n",
              "      <th>fBodyAcc-bandsEnergy()-49,64</th>\n",
              "      <th>fBodyAcc-bandsEnergy()-49,64.1</th>\n",
              "      <th>fBodyAcc-bandsEnergy()-49,64.2</th>\n",
              "      <th>fBodyAcc-bandsEnergy()-57,64</th>\n",
              "      <th>fBodyAcc-bandsEnergy()-57,64.1</th>\n",
              "      <th>...</th>\n",
              "      <th>tBodyGyroJerk-std()-Z</th>\n",
              "      <th>tBodyGyroJerkMag-energy()</th>\n",
              "      <th>tBodyGyroJerkMag-entropy()</th>\n",
              "      <th>tBodyGyroJerkMag-iqr()</th>\n",
              "      <th>tBodyGyroJerkMag-mad()</th>\n",
              "      <th>tBodyGyroJerkMag-max()</th>\n",
              "      <th>tBodyGyroJerkMag-mean()</th>\n",
              "      <th>tBodyGyroJerkMag-min()</th>\n",
              "      <th>tBodyGyroJerkMag-sma()</th>\n",
              "      <th>tBodyGyroJerkMag-std()</th>\n",
              "      <th>tBodyGyroMag-energy()</th>\n",
              "      <th>tBodyGyroMag-iqr()</th>\n",
              "      <th>tBodyGyroMag-mad()</th>\n",
              "      <th>tBodyGyroMag-max()</th>\n",
              "      <th>tBodyGyroMag-mean()</th>\n",
              "      <th>tBodyGyroMag-min()</th>\n",
              "      <th>tBodyGyroMag-sma()</th>\n",
              "      <th>tBodyGyroMag-std()</th>\n",
              "      <th>tGravityAcc-energy()-Y</th>\n",
              "      <th>tGravityAcc-iqr()-Y</th>\n",
              "      <th>tGravityAcc-iqr()-Z</th>\n",
              "      <th>tGravityAcc-mad()-Y</th>\n",
              "      <th>tGravityAcc-mad()-Z</th>\n",
              "      <th>tGravityAcc-max()-Y</th>\n",
              "      <th>tGravityAcc-max()-Z</th>\n",
              "      <th>tGravityAcc-mean()-Y</th>\n",
              "      <th>tGravityAcc-mean()-Z</th>\n",
              "      <th>tGravityAcc-min()-Y</th>\n",
              "      <th>tGravityAcc-min()-Z</th>\n",
              "      <th>tGravityAcc-std()-Y</th>\n",
              "      <th>tGravityAcc-std()-Z</th>\n",
              "      <th>tGravityAccMag-arCoeff()1</th>\n",
              "      <th>tGravityAccMag-arCoeff()2</th>\n",
              "      <th>tGravityAccMag-energy()</th>\n",
              "      <th>tGravityAccMag-entropy()</th>\n",
              "      <th>tGravityAccMag-iqr()</th>\n",
              "      <th>tGravityAccMag-max()</th>\n",
              "      <th>tGravityAccMag-mean()</th>\n",
              "      <th>tGravityAccMag-min()</th>\n",
              "      <th>tGravityAccMag-std()</th>\n",
              "    </tr>\n",
              "  </thead>\n",
              "  <tbody>\n",
              "    <tr>\n",
              "      <th>9302</th>\n",
              "      <td>0.009843</td>\n",
              "      <td>-1.257162</td>\n",
              "      <td>-0.537703</td>\n",
              "      <td>-0.341473</td>\n",
              "      <td>1.576705</td>\n",
              "      <td>-0.561890</td>\n",
              "      <td>-0.274796</td>\n",
              "      <td>-1.525437</td>\n",
              "      <td>0.075957</td>\n",
              "      <td>-0.562914</td>\n",
              "      <td>-1.741297</td>\n",
              "      <td>0.709923</td>\n",
              "      <td>0.261648</td>\n",
              "      <td>-0.652598</td>\n",
              "      <td>0.644501</td>\n",
              "      <td>-0.283918</td>\n",
              "      <td>0.478868</td>\n",
              "      <td>-0.302999</td>\n",
              "      <td>0.330492</td>\n",
              "      <td>0.158987</td>\n",
              "      <td>-0.471353</td>\n",
              "      <td>-0.320008</td>\n",
              "      <td>-0.095018</td>\n",
              "      <td>-0.747420</td>\n",
              "      <td>0.253338</td>\n",
              "      <td>9.264982e-03</td>\n",
              "      <td>-0.741679</td>\n",
              "      <td>0.257189</td>\n",
              "      <td>-0.059444</td>\n",
              "      <td>-6.709635e-01</td>\n",
              "      <td>0.235534</td>\n",
              "      <td>-0.194014</td>\n",
              "      <td>-1.366710</td>\n",
              "      <td>-0.310628</td>\n",
              "      <td>0.578006</td>\n",
              "      <td>-1.575181</td>\n",
              "      <td>2.406789e-01</td>\n",
              "      <td>-0.358124</td>\n",
              "      <td>-1.784856</td>\n",
              "      <td>0.079036</td>\n",
              "      <td>...</td>\n",
              "      <td>0.498780</td>\n",
              "      <td>-0.179661</td>\n",
              "      <td>-1.044837</td>\n",
              "      <td>-0.676940</td>\n",
              "      <td>-0.560106</td>\n",
              "      <td>-0.749524</td>\n",
              "      <td>-0.675108</td>\n",
              "      <td>-0.949678</td>\n",
              "      <td>-0.675570</td>\n",
              "      <td>0.604991</td>\n",
              "      <td>-1.455742</td>\n",
              "      <td>0.795221</td>\n",
              "      <td>-1.038952</td>\n",
              "      <td>-1.401031</td>\n",
              "      <td>-1.453829</td>\n",
              "      <td>0.476727</td>\n",
              "      <td>1.453189</td>\n",
              "      <td>-1.143953</td>\n",
              "      <td>0.611093</td>\n",
              "      <td>0.959735</td>\n",
              "      <td>-0.139256</td>\n",
              "      <td>0.832211</td>\n",
              "      <td>-0.114803</td>\n",
              "      <td>-0.106018</td>\n",
              "      <td>1.347740</td>\n",
              "      <td>-0.059840</td>\n",
              "      <td>1.337926</td>\n",
              "      <td>-0.020970</td>\n",
              "      <td>-1.317076</td>\n",
              "      <td>-0.789835</td>\n",
              "      <td>-0.060966</td>\n",
              "      <td>0.598796</td>\n",
              "      <td>-0.728873</td>\n",
              "      <td>-0.702212</td>\n",
              "      <td>1.049211</td>\n",
              "      <td>-0.841848</td>\n",
              "      <td>-0.896061</td>\n",
              "      <td>0.969655</td>\n",
              "      <td>0.913064</td>\n",
              "      <td>-0.871935</td>\n",
              "    </tr>\n",
              "    <tr>\n",
              "      <th>9712</th>\n",
              "      <td>-0.824920</td>\n",
              "      <td>-0.693435</td>\n",
              "      <td>-2.432412</td>\n",
              "      <td>-2.050226</td>\n",
              "      <td>0.088009</td>\n",
              "      <td>-2.359255</td>\n",
              "      <td>-2.229255</td>\n",
              "      <td>-0.129832</td>\n",
              "      <td>2.715551</td>\n",
              "      <td>-1.776965</td>\n",
              "      <td>-0.022966</td>\n",
              "      <td>0.565213</td>\n",
              "      <td>-2.987940</td>\n",
              "      <td>-0.360762</td>\n",
              "      <td>0.851807</td>\n",
              "      <td>2.661683</td>\n",
              "      <td>0.413676</td>\n",
              "      <td>-1.745526</td>\n",
              "      <td>-0.749502</td>\n",
              "      <td>-0.500402</td>\n",
              "      <td>-2.316969</td>\n",
              "      <td>1.481496</td>\n",
              "      <td>0.702941</td>\n",
              "      <td>-2.767155</td>\n",
              "      <td>-1.487777</td>\n",
              "      <td>-7.121111e-15</td>\n",
              "      <td>-3.151245</td>\n",
              "      <td>-2.886143</td>\n",
              "      <td>-1.104728</td>\n",
              "      <td>1.074969e-13</td>\n",
              "      <td>-4.966180</td>\n",
              "      <td>-1.947234</td>\n",
              "      <td>-3.316055</td>\n",
              "      <td>2.566939</td>\n",
              "      <td>0.273146</td>\n",
              "      <td>-3.867054</td>\n",
              "      <td>8.542493e-14</td>\n",
              "      <td>-0.118011</td>\n",
              "      <td>-4.449384</td>\n",
              "      <td>0.311201</td>\n",
              "      <td>...</td>\n",
              "      <td>2.107211</td>\n",
              "      <td>-1.982993</td>\n",
              "      <td>-1.096910</td>\n",
              "      <td>-2.022512</td>\n",
              "      <td>-2.150507</td>\n",
              "      <td>-2.135333</td>\n",
              "      <td>-1.871971</td>\n",
              "      <td>-2.053274</td>\n",
              "      <td>-1.872635</td>\n",
              "      <td>2.083779</td>\n",
              "      <td>-1.564614</td>\n",
              "      <td>1.060964</td>\n",
              "      <td>-1.169419</td>\n",
              "      <td>-1.543027</td>\n",
              "      <td>-1.504337</td>\n",
              "      <td>2.283441</td>\n",
              "      <td>1.503688</td>\n",
              "      <td>-1.238497</td>\n",
              "      <td>0.326601</td>\n",
              "      <td>-0.361583</td>\n",
              "      <td>-2.147677</td>\n",
              "      <td>-0.173559</td>\n",
              "      <td>-1.751765</td>\n",
              "      <td>0.876742</td>\n",
              "      <td>0.668304</td>\n",
              "      <td>0.869099</td>\n",
              "      <td>0.728713</td>\n",
              "      <td>0.871439</td>\n",
              "      <td>-0.780410</td>\n",
              "      <td>0.099483</td>\n",
              "      <td>-1.610931</td>\n",
              "      <td>0.691734</td>\n",
              "      <td>-0.366620</td>\n",
              "      <td>-2.115048</td>\n",
              "      <td>1.156361</td>\n",
              "      <td>-1.493479</td>\n",
              "      <td>-1.868273</td>\n",
              "      <td>1.673292</td>\n",
              "      <td>0.668211</td>\n",
              "      <td>-1.879839</td>\n",
              "    </tr>\n",
              "    <tr>\n",
              "      <th>103</th>\n",
              "      <td>0.757762</td>\n",
              "      <td>0.520024</td>\n",
              "      <td>0.687608</td>\n",
              "      <td>0.729314</td>\n",
              "      <td>-0.717245</td>\n",
              "      <td>0.699195</td>\n",
              "      <td>0.731908</td>\n",
              "      <td>0.727979</td>\n",
              "      <td>-0.635311</td>\n",
              "      <td>0.730251</td>\n",
              "      <td>0.693911</td>\n",
              "      <td>-0.666333</td>\n",
              "      <td>0.594163</td>\n",
              "      <td>0.569945</td>\n",
              "      <td>-0.671908</td>\n",
              "      <td>-0.602208</td>\n",
              "      <td>-0.565275</td>\n",
              "      <td>0.572158</td>\n",
              "      <td>0.526752</td>\n",
              "      <td>0.449649</td>\n",
              "      <td>0.618609</td>\n",
              "      <td>-0.559495</td>\n",
              "      <td>-0.473605</td>\n",
              "      <td>0.630075</td>\n",
              "      <td>0.534426</td>\n",
              "      <td>4.484797e-01</td>\n",
              "      <td>0.636675</td>\n",
              "      <td>0.560888</td>\n",
              "      <td>0.487948</td>\n",
              "      <td>5.977030e-01</td>\n",
              "      <td>0.547683</td>\n",
              "      <td>0.521062</td>\n",
              "      <td>0.599196</td>\n",
              "      <td>-0.499628</td>\n",
              "      <td>-0.538715</td>\n",
              "      <td>0.567422</td>\n",
              "      <td>4.477125e-01</td>\n",
              "      <td>0.495623</td>\n",
              "      <td>0.476484</td>\n",
              "      <td>0.290505</td>\n",
              "      <td>...</td>\n",
              "      <td>-0.845140</td>\n",
              "      <td>0.569625</td>\n",
              "      <td>1.390357</td>\n",
              "      <td>0.835386</td>\n",
              "      <td>0.820368</td>\n",
              "      <td>0.802892</td>\n",
              "      <td>0.852712</td>\n",
              "      <td>0.792984</td>\n",
              "      <td>0.852508</td>\n",
              "      <td>-0.812486</td>\n",
              "      <td>0.732709</td>\n",
              "      <td>-0.587059</td>\n",
              "      <td>0.682147</td>\n",
              "      <td>0.750295</td>\n",
              "      <td>0.664170</td>\n",
              "      <td>-0.269489</td>\n",
              "      <td>-0.664427</td>\n",
              "      <td>0.710033</td>\n",
              "      <td>-0.006966</td>\n",
              "      <td>0.871860</td>\n",
              "      <td>-0.022079</td>\n",
              "      <td>0.895412</td>\n",
              "      <td>-0.296019</td>\n",
              "      <td>-0.942627</td>\n",
              "      <td>-0.690683</td>\n",
              "      <td>-0.863302</td>\n",
              "      <td>-0.621545</td>\n",
              "      <td>-0.837837</td>\n",
              "      <td>0.626097</td>\n",
              "      <td>-0.878536</td>\n",
              "      <td>-0.373852</td>\n",
              "      <td>-0.934903</td>\n",
              "      <td>1.468571</td>\n",
              "      <td>0.774952</td>\n",
              "      <td>-0.592134</td>\n",
              "      <td>0.733335</td>\n",
              "      <td>0.812486</td>\n",
              "      <td>-0.854377</td>\n",
              "      <td>-0.733895</td>\n",
              "      <td>0.757616</td>\n",
              "    </tr>\n",
              "    <tr>\n",
              "      <th>10667</th>\n",
              "      <td>3.503995</td>\n",
              "      <td>0.234658</td>\n",
              "      <td>0.688007</td>\n",
              "      <td>0.748267</td>\n",
              "      <td>-0.727542</td>\n",
              "      <td>0.699559</td>\n",
              "      <td>0.749189</td>\n",
              "      <td>0.737117</td>\n",
              "      <td>-0.635807</td>\n",
              "      <td>0.758329</td>\n",
              "      <td>0.706512</td>\n",
              "      <td>-0.666079</td>\n",
              "      <td>0.595852</td>\n",
              "      <td>0.568098</td>\n",
              "      <td>-0.671758</td>\n",
              "      <td>-0.604104</td>\n",
              "      <td>-0.564421</td>\n",
              "      <td>0.572408</td>\n",
              "      <td>0.529172</td>\n",
              "      <td>0.452072</td>\n",
              "      <td>0.618645</td>\n",
              "      <td>-0.563525</td>\n",
              "      <td>-0.479371</td>\n",
              "      <td>0.629777</td>\n",
              "      <td>0.540206</td>\n",
              "      <td>4.615444e-01</td>\n",
              "      <td>0.636297</td>\n",
              "      <td>0.567912</td>\n",
              "      <td>0.500931</td>\n",
              "      <td>5.972300e-01</td>\n",
              "      <td>0.556119</td>\n",
              "      <td>0.532497</td>\n",
              "      <td>0.599388</td>\n",
              "      <td>-0.514010</td>\n",
              "      <td>-0.555668</td>\n",
              "      <td>0.567647</td>\n",
              "      <td>4.682280e-01</td>\n",
              "      <td>0.519180</td>\n",
              "      <td>0.476745</td>\n",
              "      <td>0.319584</td>\n",
              "      <td>...</td>\n",
              "      <td>-0.836961</td>\n",
              "      <td>0.568903</td>\n",
              "      <td>0.847839</td>\n",
              "      <td>0.796665</td>\n",
              "      <td>0.786410</td>\n",
              "      <td>0.778113</td>\n",
              "      <td>0.827823</td>\n",
              "      <td>0.781902</td>\n",
              "      <td>0.827614</td>\n",
              "      <td>-0.781233</td>\n",
              "      <td>0.767901</td>\n",
              "      <td>-0.928568</td>\n",
              "      <td>0.935301</td>\n",
              "      <td>0.910562</td>\n",
              "      <td>0.936096</td>\n",
              "      <td>-0.852938</td>\n",
              "      <td>-0.936305</td>\n",
              "      <td>0.929383</td>\n",
              "      <td>-4.916946</td>\n",
              "      <td>-0.577819</td>\n",
              "      <td>0.540786</td>\n",
              "      <td>-0.592658</td>\n",
              "      <td>0.571156</td>\n",
              "      <td>-2.821043</td>\n",
              "      <td>-0.296390</td>\n",
              "      <td>-2.833531</td>\n",
              "      <td>-0.322012</td>\n",
              "      <td>-2.831825</td>\n",
              "      <td>0.353104</td>\n",
              "      <td>0.596834</td>\n",
              "      <td>0.577166</td>\n",
              "      <td>-1.151887</td>\n",
              "      <td>0.912125</td>\n",
              "      <td>0.782412</td>\n",
              "      <td>-1.430521</td>\n",
              "      <td>0.919887</td>\n",
              "      <td>0.917833</td>\n",
              "      <td>-0.941729</td>\n",
              "      <td>-0.828330</td>\n",
              "      <td>0.915655</td>\n",
              "    </tr>\n",
              "    <tr>\n",
              "      <th>4375</th>\n",
              "      <td>-0.589561</td>\n",
              "      <td>-0.667876</td>\n",
              "      <td>-0.076961</td>\n",
              "      <td>-0.345724</td>\n",
              "      <td>1.757721</td>\n",
              "      <td>-0.211230</td>\n",
              "      <td>-0.651917</td>\n",
              "      <td>-2.950891</td>\n",
              "      <td>0.086238</td>\n",
              "      <td>-0.332223</td>\n",
              "      <td>-1.514636</td>\n",
              "      <td>2.031586</td>\n",
              "      <td>-2.655187</td>\n",
              "      <td>-10.118700</td>\n",
              "      <td>1.599337</td>\n",
              "      <td>2.345617</td>\n",
              "      <td>8.481183</td>\n",
              "      <td>0.229675</td>\n",
              "      <td>-0.565556</td>\n",
              "      <td>-1.765140</td>\n",
              "      <td>0.135128</td>\n",
              "      <td>0.575750</td>\n",
              "      <td>1.868761</td>\n",
              "      <td>0.122902</td>\n",
              "      <td>-0.512148</td>\n",
              "      <td>-4.437797e-01</td>\n",
              "      <td>-0.062552</td>\n",
              "      <td>-0.527764</td>\n",
              "      <td>-1.932737</td>\n",
              "      <td>-3.436584e-01</td>\n",
              "      <td>-0.505500</td>\n",
              "      <td>-4.833026</td>\n",
              "      <td>-0.246787</td>\n",
              "      <td>0.143293</td>\n",
              "      <td>1.743012</td>\n",
              "      <td>0.026582</td>\n",
              "      <td>-1.004407e-04</td>\n",
              "      <td>-2.051361</td>\n",
              "      <td>0.465298</td>\n",
              "      <td>0.270653</td>\n",
              "      <td>...</td>\n",
              "      <td>1.466745</td>\n",
              "      <td>-5.694324</td>\n",
              "      <td>-0.869776</td>\n",
              "      <td>-3.053201</td>\n",
              "      <td>-4.318121</td>\n",
              "      <td>-4.383459</td>\n",
              "      <td>-3.113605</td>\n",
              "      <td>-1.568497</td>\n",
              "      <td>-3.114478</td>\n",
              "      <td>4.322255</td>\n",
              "      <td>-4.698217</td>\n",
              "      <td>4.683714</td>\n",
              "      <td>-4.350352</td>\n",
              "      <td>-2.831281</td>\n",
              "      <td>-2.417914</td>\n",
              "      <td>1.129551</td>\n",
              "      <td>2.417100</td>\n",
              "      <td>-4.021858</td>\n",
              "      <td>0.514541</td>\n",
              "      <td>-0.337879</td>\n",
              "      <td>0.362179</td>\n",
              "      <td>-0.311855</td>\n",
              "      <td>0.250391</td>\n",
              "      <td>0.633932</td>\n",
              "      <td>0.706808</td>\n",
              "      <td>0.609792</td>\n",
              "      <td>0.699913</td>\n",
              "      <td>0.597193</td>\n",
              "      <td>-0.679808</td>\n",
              "      <td>0.291657</td>\n",
              "      <td>0.218656</td>\n",
              "      <td>-0.000481</td>\n",
              "      <td>-0.960767</td>\n",
              "      <td>-0.854819</td>\n",
              "      <td>1.054565</td>\n",
              "      <td>-0.850160</td>\n",
              "      <td>-1.313508</td>\n",
              "      <td>1.073402</td>\n",
              "      <td>0.369629</td>\n",
              "      <td>-0.936749</td>\n",
              "    </tr>\n",
              "  </tbody>\n",
              "</table>\n",
              "<p>5 rows × 418 columns</p>\n",
              "</div>"
            ],
            "text/plain": [
              "       angle(Y,gravityMean)  ...  tGravityAccMag-std()\n",
              "9302               0.009843  ...             -0.871935\n",
              "9712              -0.824920  ...             -1.879839\n",
              "103                0.757762  ...              0.757616\n",
              "10667              3.503995  ...              0.915655\n",
              "4375              -0.589561  ...             -0.936749\n",
              "\n",
              "[5 rows x 418 columns]"
            ]
          },
          "metadata": {
            "tags": []
          },
          "execution_count": 28
        }
      ]
    },
    {
      "cell_type": "code",
      "metadata": {
        "id": "U3r2pLNbm31k"
      },
      "source": [
        ""
      ],
      "execution_count": 28,
      "outputs": []
    },
    {
      "cell_type": "code",
      "metadata": {
        "colab": {
          "base_uri": "https://localhost:8080/"
        },
        "id": "funNUNRmMTkE",
        "outputId": "661310eb-a1de-4c2e-b466-b0d2820a9ed4"
      },
      "source": [
        "model_lr = LogisticRegression(random_state=69).fit(X_train_reduced, y_train)\n",
        "model_lr.score(X_test_reduced, y_test) # 0.969 czyli lekki, ale akceptowalny spadek"
      ],
      "execution_count": 29,
      "outputs": [
        {
          "output_type": "stream",
          "text": [
            "/usr/local/lib/python3.7/dist-packages/sklearn/linear_model/_logistic.py:940: ConvergenceWarning:\n",
            "\n",
            "lbfgs failed to converge (status=1):\n",
            "STOP: TOTAL NO. of ITERATIONS REACHED LIMIT.\n",
            "\n",
            "Increase the number of iterations (max_iter) or scale the data as shown in:\n",
            "    https://scikit-learn.org/stable/modules/preprocessing.html\n",
            "Please also refer to the documentation for alternative solver options:\n",
            "    https://scikit-learn.org/stable/modules/linear_model.html#logistic-regression\n",
            "\n"
          ],
          "name": "stderr"
        },
        {
          "output_type": "execute_result",
          "data": {
            "text/plain": [
              "0.9705351773902585"
            ]
          },
          "metadata": {
            "tags": []
          },
          "execution_count": 29
        }
      ]
    },
    {
      "cell_type": "code",
      "metadata": {
        "colab": {
          "base_uri": "https://localhost:8080/"
        },
        "id": "lcw0LCwCZG2A",
        "outputId": "a79521c3-a3c8-4cb9-9c45-e7a32d17d798"
      },
      "source": [
        "# dodatkowa redukcja wewnętrznie skorelowaych atrybutów fouriera\n",
        "X_train_reduced = filter_correlating_fourier(X_train_reduced, correlation)\n",
        "print(X_train.shape, X_train_reduced.shape) #sanity check\n",
        "\n",
        "X_test_reduced = filter_correlating_fourier(X_test_reduced,correlation )\n",
        "print(X_test.shape, X_test_reduced.shape) #sanity check\n",
        "\n",
        "model_lr = LogisticRegression(random_state=69).fit(X_train_reduced, y_train)\n",
        "model_lr.score(X_test_reduced, y_test) #0.966 czyli mały, zupełnie okej spadek"
      ],
      "execution_count": 30,
      "outputs": [
        {
          "output_type": "stream",
          "text": [
            "(7760, 571) (7760, 370)\n",
            "(3326, 571) (3326, 370)\n"
          ],
          "name": "stdout"
        },
        {
          "output_type": "stream",
          "text": [
            "/usr/local/lib/python3.7/dist-packages/sklearn/linear_model/_logistic.py:940: ConvergenceWarning:\n",
            "\n",
            "lbfgs failed to converge (status=1):\n",
            "STOP: TOTAL NO. of ITERATIONS REACHED LIMIT.\n",
            "\n",
            "Increase the number of iterations (max_iter) or scale the data as shown in:\n",
            "    https://scikit-learn.org/stable/modules/preprocessing.html\n",
            "Please also refer to the documentation for alternative solver options:\n",
            "    https://scikit-learn.org/stable/modules/linear_model.html#logistic-regression\n",
            "\n"
          ],
          "name": "stderr"
        },
        {
          "output_type": "execute_result",
          "data": {
            "text/plain": [
              "0.9687312086590499"
            ]
          },
          "metadata": {
            "tags": []
          },
          "execution_count": 30
        }
      ]
    },
    {
      "cell_type": "markdown",
      "metadata": {
        "id": "v4Q3GRm0bPQc"
      },
      "source": [
        "Strojenie hiperparametrów redukcji atrybutów\n",
        "====\n"
      ]
    },
    {
      "cell_type": "code",
      "metadata": {
        "colab": {
          "base_uri": "https://localhost:8080/"
        },
        "id": "k9jGAHZdND0m",
        "outputId": "1e439ec0-62e2-4c92-f083-bc289c4038ce"
      },
      "source": [
        "#strojenie hiperparametru progu usuwania atrybutów małoinformatywnych\n",
        "thresholds = [0.3, 0.4, 0.5, 0.6, 0.7]\n",
        "res = []\n",
        "num = []\n",
        "\n",
        "for th in thresholds:\n",
        "\n",
        "  weak_f = correl[abs(correl[0]) < th]\n",
        "  num.append(len(weak_f.index ))\n",
        "\n",
        "  # dropping according to threshold\n",
        "  X_train_reduced = X_train.drop(weak_f.index, axis=1)\n",
        "  X_test_reduced = X_test.drop(weak_f.index, axis=1)\n",
        "\n",
        "  #dropping correlated fourier attibutes\n",
        "  X_test_reduced = filter_correlating_fourier(X_test_reduced, correlation)\n",
        "  X_train_reduced = filter_correlating_fourier(X_train_reduced, correlation)\n",
        "\n",
        "  model_lr = LogisticRegression(random_state=69).fit(X_train_reduced, y_train)\n",
        "  score = model_lr.score(X_test_reduced, y_test)\n",
        "  print(\"----------------------\", th)\n",
        "  res.append(score)\n"
      ],
      "execution_count": 31,
      "outputs": [
        {
          "output_type": "stream",
          "text": [
            "/usr/local/lib/python3.7/dist-packages/sklearn/linear_model/_logistic.py:940: ConvergenceWarning:\n",
            "\n",
            "lbfgs failed to converge (status=1):\n",
            "STOP: TOTAL NO. of ITERATIONS REACHED LIMIT.\n",
            "\n",
            "Increase the number of iterations (max_iter) or scale the data as shown in:\n",
            "    https://scikit-learn.org/stable/modules/preprocessing.html\n",
            "Please also refer to the documentation for alternative solver options:\n",
            "    https://scikit-learn.org/stable/modules/linear_model.html#logistic-regression\n",
            "\n"
          ],
          "name": "stderr"
        },
        {
          "output_type": "stream",
          "text": [
            "---------------------- 0.3\n"
          ],
          "name": "stdout"
        },
        {
          "output_type": "stream",
          "text": [
            "/usr/local/lib/python3.7/dist-packages/sklearn/linear_model/_logistic.py:940: ConvergenceWarning:\n",
            "\n",
            "lbfgs failed to converge (status=1):\n",
            "STOP: TOTAL NO. of ITERATIONS REACHED LIMIT.\n",
            "\n",
            "Increase the number of iterations (max_iter) or scale the data as shown in:\n",
            "    https://scikit-learn.org/stable/modules/preprocessing.html\n",
            "Please also refer to the documentation for alternative solver options:\n",
            "    https://scikit-learn.org/stable/modules/linear_model.html#logistic-regression\n",
            "\n"
          ],
          "name": "stderr"
        },
        {
          "output_type": "stream",
          "text": [
            "---------------------- 0.4\n"
          ],
          "name": "stdout"
        },
        {
          "output_type": "stream",
          "text": [
            "/usr/local/lib/python3.7/dist-packages/sklearn/linear_model/_logistic.py:940: ConvergenceWarning:\n",
            "\n",
            "lbfgs failed to converge (status=1):\n",
            "STOP: TOTAL NO. of ITERATIONS REACHED LIMIT.\n",
            "\n",
            "Increase the number of iterations (max_iter) or scale the data as shown in:\n",
            "    https://scikit-learn.org/stable/modules/preprocessing.html\n",
            "Please also refer to the documentation for alternative solver options:\n",
            "    https://scikit-learn.org/stable/modules/linear_model.html#logistic-regression\n",
            "\n"
          ],
          "name": "stderr"
        },
        {
          "output_type": "stream",
          "text": [
            "---------------------- 0.5\n"
          ],
          "name": "stdout"
        },
        {
          "output_type": "stream",
          "text": [
            "/usr/local/lib/python3.7/dist-packages/sklearn/linear_model/_logistic.py:940: ConvergenceWarning:\n",
            "\n",
            "lbfgs failed to converge (status=1):\n",
            "STOP: TOTAL NO. of ITERATIONS REACHED LIMIT.\n",
            "\n",
            "Increase the number of iterations (max_iter) or scale the data as shown in:\n",
            "    https://scikit-learn.org/stable/modules/preprocessing.html\n",
            "Please also refer to the documentation for alternative solver options:\n",
            "    https://scikit-learn.org/stable/modules/linear_model.html#logistic-regression\n",
            "\n"
          ],
          "name": "stderr"
        },
        {
          "output_type": "stream",
          "text": [
            "---------------------- 0.6\n",
            "---------------------- 0.7\n"
          ],
          "name": "stdout"
        },
        {
          "output_type": "stream",
          "text": [
            "/usr/local/lib/python3.7/dist-packages/sklearn/linear_model/_logistic.py:940: ConvergenceWarning:\n",
            "\n",
            "lbfgs failed to converge (status=1):\n",
            "STOP: TOTAL NO. of ITERATIONS REACHED LIMIT.\n",
            "\n",
            "Increase the number of iterations (max_iter) or scale the data as shown in:\n",
            "    https://scikit-learn.org/stable/modules/preprocessing.html\n",
            "Please also refer to the documentation for alternative solver options:\n",
            "    https://scikit-learn.org/stable/modules/linear_model.html#logistic-regression\n",
            "\n"
          ],
          "name": "stderr"
        }
      ]
    },
    {
      "cell_type": "code",
      "metadata": {
        "colab": {
          "base_uri": "https://localhost:8080/"
        },
        "id": "MzuaVerRPHKj",
        "outputId": "f7c1ba17-1a12-47f5-b33f-89234465d73c"
      },
      "source": [
        "for i in range (len(res)):\n",
        "  print(f'Score for threshold {thresholds[i]} - {res[i]}, dropeed {num[i]} features. Difference to best score: {best_score- res[i]}')"
      ],
      "execution_count": 32,
      "outputs": [
        {
          "output_type": "stream",
          "text": [
            "Score for threshold 0.3 - 0.9804570054119062, dropeed 106 features. Difference to best score: 0.0018039687312086938\n",
            "Score for threshold 0.4 - 0.9768490679494889, dropeed 139 features. Difference to best score: 0.0054119061936259705\n",
            "Score for threshold 0.5 - 0.9687312086590499, dropeed 153 features. Difference to best score: 0.013529765484064926\n",
            "Score for threshold 0.6 - 0.9236319903788335, dropeed 176 features. Difference to best score: 0.058628983764281384\n",
            "Score for threshold 0.7 - 0.9116055321707757, dropeed 301 features. Difference to best score: 0.0706554419723392\n"
          ],
          "name": "stdout"
        }
      ]
    },
    {
      "cell_type": "markdown",
      "metadata": {
        "id": "D-f46o1La8Dc"
      },
      "source": [
        "Decydujemy się na próg 0.4 - pozwala zredukować wymiarowość o 139 atrybutów, a dokładność klasyfikacji spada o niecały punkt procentowy"
      ]
    },
    {
      "cell_type": "code",
      "metadata": {
        "colab": {
          "base_uri": "https://localhost:8080/"
        },
        "id": "KK-ozt2bXH3E",
        "outputId": "b1522410-c841-44db-91ad-f4912d987350"
      },
      "source": [
        "thresholds = [0.3, 0.4, 0.5, 0.6, 0.7]\n",
        "res = []\n",
        "num = []\n",
        "base = len(X_train.columns)\n",
        "\n",
        "for th in thresholds:\n",
        "\n",
        "  weak_f = correl[abs(correl[0]) < 0.4]\n",
        "\n",
        "  # dropping according to threshold\n",
        "  X_train_reduced = X_train.drop(weak_f.index, axis=1)\n",
        "  X_test_reduced = X_test.drop(weak_f.index, axis=1)\n",
        "\n",
        "  #dropping correlated fourier attibutes\n",
        "  X_test_reduced = filter_correlating_fourier(X_test_reduced, correlation, th)\n",
        "  X_train_reduced = filter_correlating_fourier(X_train_reduced, correlation, th)\n",
        "\n",
        "  model_lr = LogisticRegression(random_state=69).fit(X_train_reduced, y_train)\n",
        "  score = model_lr.score(X_test_reduced, y_test)\n",
        "  print(\"----------------------\", th)\n",
        "  num.append(base - len(X_train_reduced.columns))\n",
        "  res.append(score)\n",
        "\n"
      ],
      "execution_count": 33,
      "outputs": [
        {
          "output_type": "stream",
          "text": [
            "/usr/local/lib/python3.7/dist-packages/sklearn/linear_model/_logistic.py:940: ConvergenceWarning:\n",
            "\n",
            "lbfgs failed to converge (status=1):\n",
            "STOP: TOTAL NO. of ITERATIONS REACHED LIMIT.\n",
            "\n",
            "Increase the number of iterations (max_iter) or scale the data as shown in:\n",
            "    https://scikit-learn.org/stable/modules/preprocessing.html\n",
            "Please also refer to the documentation for alternative solver options:\n",
            "    https://scikit-learn.org/stable/modules/linear_model.html#logistic-regression\n",
            "\n"
          ],
          "name": "stderr"
        },
        {
          "output_type": "stream",
          "text": [
            "---------------------- 0.3\n"
          ],
          "name": "stdout"
        },
        {
          "output_type": "stream",
          "text": [
            "/usr/local/lib/python3.7/dist-packages/sklearn/linear_model/_logistic.py:940: ConvergenceWarning:\n",
            "\n",
            "lbfgs failed to converge (status=1):\n",
            "STOP: TOTAL NO. of ITERATIONS REACHED LIMIT.\n",
            "\n",
            "Increase the number of iterations (max_iter) or scale the data as shown in:\n",
            "    https://scikit-learn.org/stable/modules/preprocessing.html\n",
            "Please also refer to the documentation for alternative solver options:\n",
            "    https://scikit-learn.org/stable/modules/linear_model.html#logistic-regression\n",
            "\n"
          ],
          "name": "stderr"
        },
        {
          "output_type": "stream",
          "text": [
            "---------------------- 0.4\n"
          ],
          "name": "stdout"
        },
        {
          "output_type": "stream",
          "text": [
            "/usr/local/lib/python3.7/dist-packages/sklearn/linear_model/_logistic.py:940: ConvergenceWarning:\n",
            "\n",
            "lbfgs failed to converge (status=1):\n",
            "STOP: TOTAL NO. of ITERATIONS REACHED LIMIT.\n",
            "\n",
            "Increase the number of iterations (max_iter) or scale the data as shown in:\n",
            "    https://scikit-learn.org/stable/modules/preprocessing.html\n",
            "Please also refer to the documentation for alternative solver options:\n",
            "    https://scikit-learn.org/stable/modules/linear_model.html#logistic-regression\n",
            "\n"
          ],
          "name": "stderr"
        },
        {
          "output_type": "stream",
          "text": [
            "---------------------- 0.5\n"
          ],
          "name": "stdout"
        },
        {
          "output_type": "stream",
          "text": [
            "/usr/local/lib/python3.7/dist-packages/sklearn/linear_model/_logistic.py:940: ConvergenceWarning:\n",
            "\n",
            "lbfgs failed to converge (status=1):\n",
            "STOP: TOTAL NO. of ITERATIONS REACHED LIMIT.\n",
            "\n",
            "Increase the number of iterations (max_iter) or scale the data as shown in:\n",
            "    https://scikit-learn.org/stable/modules/preprocessing.html\n",
            "Please also refer to the documentation for alternative solver options:\n",
            "    https://scikit-learn.org/stable/modules/linear_model.html#logistic-regression\n",
            "\n"
          ],
          "name": "stderr"
        },
        {
          "output_type": "stream",
          "text": [
            "---------------------- 0.6\n",
            "---------------------- 0.7\n"
          ],
          "name": "stdout"
        },
        {
          "output_type": "stream",
          "text": [
            "/usr/local/lib/python3.7/dist-packages/sklearn/linear_model/_logistic.py:940: ConvergenceWarning:\n",
            "\n",
            "lbfgs failed to converge (status=1):\n",
            "STOP: TOTAL NO. of ITERATIONS REACHED LIMIT.\n",
            "\n",
            "Increase the number of iterations (max_iter) or scale the data as shown in:\n",
            "    https://scikit-learn.org/stable/modules/preprocessing.html\n",
            "Please also refer to the documentation for alternative solver options:\n",
            "    https://scikit-learn.org/stable/modules/linear_model.html#logistic-regression\n",
            "\n"
          ],
          "name": "stderr"
        }
      ]
    },
    {
      "cell_type": "code",
      "metadata": {
        "colab": {
          "base_uri": "https://localhost:8080/"
        },
        "id": "nVYJmGCLXHvS",
        "outputId": "e30b6010-26f0-40c8-9c95-548914faedfe"
      },
      "source": [
        "for i in range (len(res)):\n",
        "  print(f'Score for threshold {thresholds[i]} - {res[i]}, dropeed {num[i]} features. Difference to best score: {best_score- res[i]}')"
      ],
      "execution_count": 34,
      "outputs": [
        {
          "output_type": "stream",
          "text": [
            "Score for threshold 0.3 - 0.9768490679494889, dropeed 187 features. Difference to best score: 0.0054119061936259705\n",
            "Score for threshold 0.4 - 0.9768490679494889, dropeed 187 features. Difference to best score: 0.0054119061936259705\n",
            "Score for threshold 0.5 - 0.9768490679494889, dropeed 187 features. Difference to best score: 0.0054119061936259705\n",
            "Score for threshold 0.6 - 0.9768490679494889, dropeed 187 features. Difference to best score: 0.0054119061936259705\n",
            "Score for threshold 0.7 - 0.9768490679494889, dropeed 187 features. Difference to best score: 0.0054119061936259705\n"
          ],
          "name": "stdout"
        }
      ]
    },
    {
      "cell_type": "markdown",
      "metadata": {
        "id": "DC8rGsecb0uo"
      },
      "source": [
        "Zmiany progu nie powodują zmiany ilości wyrzucanych atrybutów, dlatego dla redundantnych atrybutów fouriera pozostaniemy przy progu domyślnym - 0.5"
      ]
    },
    {
      "cell_type": "markdown",
      "metadata": {
        "id": "-nxuZe6Lb-vS"
      },
      "source": [
        "Interpretacja wyników\n",
        "====\n"
      ]
    },
    {
      "cell_type": "code",
      "metadata": {
        "colab": {
          "base_uri": "https://localhost:8080/",
          "height": 1000
        },
        "id": "F9B8AazBXHni",
        "outputId": "7d06e71b-9267-46ed-cf4a-f7beed143537"
      },
      "source": [
        "from plotly.subplots import make_subplots\n",
        "\n",
        "\n",
        "def most_important_features(X, model_lr, top_n=5):\n",
        "    \n",
        "    feature_importance = {}\n",
        "\n",
        "    for i, aclass in enumerate(model_lr.classes_):\n",
        "        importance = abs(model_lr.coef_[i])\n",
        "\n",
        "        importance_df = pd.DataFrame(importance, columns=['Importance'])\n",
        "        importance_df = importance_df.sort_values(by='Importance',ascending=False)\n",
        "        top = importance_df[:top_n]\n",
        "        top.index.name = 'Feature'\n",
        "        top = top.reset_index()\n",
        "        top['Feature'] = top['Feature'].map(lambda i: X.columns[i])\n",
        "        #best_features = {X.columns[col]:importance for col, importance in top.itertuples()}\n",
        "        feature_importance[aclass] = top\n",
        "        \n",
        "    return feature_importance\n",
        "\n",
        "\n",
        "def plot_most_important_features(feature_importance):\n",
        "    plt_titles = list(feature_importance.keys())\n",
        "    length = len(feature_importance)\n",
        "    \n",
        "    fig = make_subplots(\n",
        "        rows=len(feature_importance),\n",
        "        cols=1,\n",
        "        subplot_titles=plt_titles,\n",
        "    )\n",
        "    \n",
        "    for i,top in enumerate(feature_importance.values()):\n",
        "        f = px.bar(top, x='Feature', y='Importance')\n",
        "        fig.add_trace(f.data[0], row = i + 1, col = 1)\n",
        "    fig.update_layout(height=length * 350, width=900)\n",
        "    #fig.update(layout_coloraxis_showscale=False)\n",
        "    fig.show()\n",
        "\n",
        "feature_importance = most_important_features(X, model_lr, top_n=8)\n",
        "plot_most_important_features(feature_importance)"
      ],
      "execution_count": 35,
      "outputs": [
        {
          "output_type": "display_data",
          "data": {
            "text/html": [
              "<div>\n",
              "        \n",
              "        \n",
              "            <div id=\"6032d8a3-228d-490c-a695-2f349b961cd7\" class=\"plotly-graph-div\" style=\"height:2100px; width:900px;\"></div>\n",
              "            <script type=\"text/javascript\">\n",
              "                require([\"plotly\"], function(Plotly) {\n",
              "                    window.PLOTLYENV=window.PLOTLYENV || {};\n",
              "                    \n",
              "                if (document.getElementById(\"6032d8a3-228d-490c-a695-2f349b961cd7\")) {\n",
              "                    Plotly.newPlot(\n",
              "                        '6032d8a3-228d-490c-a695-2f349b961cd7',\n",
              "                        [{\"alignmentgroup\": \"True\", \"hoverlabel\": {\"namelength\": 0}, \"hovertemplate\": \"Feature=%{x}<br>Importance=%{y}\", \"legendgroup\": \"\", \"marker\": {\"color\": \"#636efa\"}, \"name\": \"\", \"offsetgroup\": \"\", \"orientation\": \"v\", \"showlegend\": false, \"textposition\": \"auto\", \"type\": \"bar\", \"x\": [\"tBodyAccJerk-entropy()-Z\", \"tBodyAcc-iqr()-Z\", \"fBodyBodyGyroMag-mean()\", \"tBodyAcc-iqr()-X\", \"fBodyAccJerk-bandsEnergy()-49,56.1\", \"fBodyBodyGyroJerkMag-maxInds\", \"fBodyGyro-bandsEnergy()-1,16\", \"fBodyGyro-bandsEnergy()-33,48.1\"], \"xaxis\": \"x\", \"y\": [4.232517738826715, 2.0115541873315417, 1.928535008996016, 1.3580328539055835, 1.315728710101278, 1.2770723406870161, 1.1825121038454678, 1.1245870805736076], \"yaxis\": \"y\"}, {\"alignmentgroup\": \"True\", \"hoverlabel\": {\"namelength\": 0}, \"hovertemplate\": \"Feature=%{x}<br>Importance=%{y}\", \"legendgroup\": \"\", \"marker\": {\"color\": \"#636efa\"}, \"name\": \"\", \"offsetgroup\": \"\", \"orientation\": \"v\", \"showlegend\": false, \"textposition\": \"auto\", \"type\": \"bar\", \"x\": [\"tBodyAcc-iqr()-X\", \"angle(Y,gravityMean)\", \"fBodyGyro-mean()-Z\", \"fBodyGyro-bandsEnergy()-33,48.2\", \"tBodyAccJerk-mad()-Y\", \"tBodyAcc-energy()-Y\", \"fBodyGyro-meanFreq()-X\", \"fBodyAccJerk-maxInds-Z\"], \"xaxis\": \"x2\", \"y\": [3.4195731077461864, 1.7250828008499468, 1.6518417838889956, 1.5119922099301355, 1.3406797339039271, 1.2805083965842856, 1.1056671492488244, 1.0957712201165084], \"yaxis\": \"y2\"}, {\"alignmentgroup\": \"True\", \"hoverlabel\": {\"namelength\": 0}, \"hovertemplate\": \"Feature=%{x}<br>Importance=%{y}\", \"legendgroup\": \"\", \"marker\": {\"color\": \"#636efa\"}, \"name\": \"\", \"offsetgroup\": \"\", \"orientation\": \"v\", \"showlegend\": false, \"textposition\": \"auto\", \"type\": \"bar\", \"x\": [\"tBodyAccJerk-entropy()-Z\", \"fBodyGyro-bandsEnergy()-33,48.2\", \"tBodyAcc-iqr()-X\", \"angle(Y,gravityMean)\", \"tBodyAcc-energy()-Y\", \"fBodyGyro-meanFreq()-X\", \"fBodyAccJerk-bandsEnergy()-49,64\", \"fBodyBodyGyroMag-mean()\"], \"xaxis\": \"x3\", \"y\": [3.704797624533442, 1.8326991618767894, 1.7735899565513897, 1.2826267482380018, 1.0848684369309165, 1.0053107808739248, 0.9417364458556928, 0.9393524513110233], \"yaxis\": \"y3\"}, {\"alignmentgroup\": \"True\", \"hoverlabel\": {\"namelength\": 0}, \"hovertemplate\": \"Feature=%{x}<br>Importance=%{y}\", \"legendgroup\": \"\", \"marker\": {\"color\": \"#636efa\"}, \"name\": \"\", \"offsetgroup\": \"\", \"orientation\": \"v\", \"showlegend\": false, \"textposition\": \"auto\", \"type\": \"bar\", \"x\": [\"fBodyAccJerk-bandsEnergy()-57,64.2\", \"tBodyAcc-energy()-Y\", \"fBodyAcc-bandsEnergy()-1,16\", \"fBodyGyro-mean()-Y\", \"tBodyAcc-mad()-Z\", \"tBodyAccJerkMag-arCoeff()2\", \"fBodyGyro-bandsEnergy()-33,48.2\", \"fBodyGyro-entropy()-Z\"], \"xaxis\": \"x4\", \"y\": [0.9102356360497449, 0.7875274130122043, 0.6975801524515128, 0.6866611264315806, 0.6644039280348114, 0.6429888827428093, 0.605826118590407, 0.6034121345007658], \"yaxis\": \"y4\"}, {\"alignmentgroup\": \"True\", \"hoverlabel\": {\"namelength\": 0}, \"hovertemplate\": \"Feature=%{x}<br>Importance=%{y}\", \"legendgroup\": \"\", \"marker\": {\"color\": \"#636efa\"}, \"name\": \"\", \"offsetgroup\": \"\", \"orientation\": \"v\", \"showlegend\": false, \"textposition\": \"auto\", \"type\": \"bar\", \"x\": [\"fBodyGyro-bandsEnergy()-49,64\", \"fBodyBodyGyroJerkMag-max()\", \"fBodyGyro-bandsEnergy()-57,64\", \"fBodyAcc-bandsEnergy()-9,16.1\", \"fBodyGyro-mean()-Y\", \"fBodyGyro-bandsEnergy()-1,16.1\", \"tBodyAccJerkMag-arCoeff()2\", \"fBodyAcc-bandsEnergy()-1,16\"], \"xaxis\": \"x5\", \"y\": [0.8863841776271026, 0.7725186569020829, 0.7661306687255032, 0.7246371863004886, 0.6627904270210102, 0.6562219802207709, 0.6487551105878379, 0.6434246995557877], \"yaxis\": \"y5\"}, {\"alignmentgroup\": \"True\", \"hoverlabel\": {\"namelength\": 0}, \"hovertemplate\": \"Feature=%{x}<br>Importance=%{y}\", \"legendgroup\": \"\", \"marker\": {\"color\": \"#636efa\"}, \"name\": \"\", \"offsetgroup\": \"\", \"orientation\": \"v\", \"showlegend\": false, \"textposition\": \"auto\", \"type\": \"bar\", \"x\": [\"fBodyGyro-bandsEnergy()-57,64\", \"tBodyAcc-energy()-Y\", \"tBodyAccJerk-entropy()-Z\", \"subject\", \"fBodyGyro-bandsEnergy()-1,16.1\", \"fBodyGyro-iqr()-Y\", \"fBodyGyro-bandsEnergy()-49,64\", \"fBodyGyro-entropy()-Z\"], \"xaxis\": \"x6\", \"y\": [0.8513917046309097, 0.7546235117536079, 0.679288159089663, 0.6779014477952393, 0.6723399578051507, 0.6564843951675219, 0.6477508213234309, 0.6378941678587124], \"yaxis\": \"y6\"}],\n",
              "                        {\"annotations\": [{\"font\": {\"size\": 16}, \"showarrow\": false, \"text\": \"LAYING\", \"x\": 0.5, \"xanchor\": \"center\", \"xref\": \"paper\", \"y\": 0.9999999999999999, \"yanchor\": \"bottom\", \"yref\": \"paper\"}, {\"font\": {\"size\": 16}, \"showarrow\": false, \"text\": \"SITTING\", \"x\": 0.5, \"xanchor\": \"center\", \"xref\": \"paper\", \"y\": 0.8194444444444444, \"yanchor\": \"bottom\", \"yref\": \"paper\"}, {\"font\": {\"size\": 16}, \"showarrow\": false, \"text\": \"STANDING\", \"x\": 0.5, \"xanchor\": \"center\", \"xref\": \"paper\", \"y\": 0.638888888888889, \"yanchor\": \"bottom\", \"yref\": \"paper\"}, {\"font\": {\"size\": 16}, \"showarrow\": false, \"text\": \"WALKING\", \"x\": 0.5, \"xanchor\": \"center\", \"xref\": \"paper\", \"y\": 0.4583333333333333, \"yanchor\": \"bottom\", \"yref\": \"paper\"}, {\"font\": {\"size\": 16}, \"showarrow\": false, \"text\": \"WALKING_DOWNSTAIRS\", \"x\": 0.5, \"xanchor\": \"center\", \"xref\": \"paper\", \"y\": 0.2777777777777778, \"yanchor\": \"bottom\", \"yref\": \"paper\"}, {\"font\": {\"size\": 16}, \"showarrow\": false, \"text\": \"WALKING_UPSTAIRS\", \"x\": 0.5, \"xanchor\": \"center\", \"xref\": \"paper\", \"y\": 0.09722222222222222, \"yanchor\": \"bottom\", \"yref\": \"paper\"}], \"height\": 2100, \"template\": {\"data\": {\"bar\": [{\"error_x\": {\"color\": \"#2a3f5f\"}, \"error_y\": {\"color\": \"#2a3f5f\"}, \"marker\": {\"line\": {\"color\": \"#E5ECF6\", \"width\": 0.5}}, \"type\": \"bar\"}], \"barpolar\": [{\"marker\": {\"line\": {\"color\": \"#E5ECF6\", \"width\": 0.5}}, \"type\": \"barpolar\"}], \"carpet\": [{\"aaxis\": {\"endlinecolor\": \"#2a3f5f\", \"gridcolor\": \"white\", \"linecolor\": \"white\", \"minorgridcolor\": \"white\", \"startlinecolor\": \"#2a3f5f\"}, \"baxis\": {\"endlinecolor\": \"#2a3f5f\", \"gridcolor\": \"white\", \"linecolor\": \"white\", \"minorgridcolor\": \"white\", \"startlinecolor\": \"#2a3f5f\"}, \"type\": \"carpet\"}], \"choropleth\": [{\"colorbar\": {\"outlinewidth\": 0, \"ticks\": \"\"}, \"type\": \"choropleth\"}], \"contour\": [{\"colorbar\": {\"outlinewidth\": 0, \"ticks\": \"\"}, \"colorscale\": [[0.0, \"#0d0887\"], [0.1111111111111111, \"#46039f\"], [0.2222222222222222, \"#7201a8\"], [0.3333333333333333, \"#9c179e\"], [0.4444444444444444, \"#bd3786\"], [0.5555555555555556, \"#d8576b\"], [0.6666666666666666, \"#ed7953\"], [0.7777777777777778, \"#fb9f3a\"], [0.8888888888888888, \"#fdca26\"], [1.0, \"#f0f921\"]], \"type\": \"contour\"}], \"contourcarpet\": [{\"colorbar\": {\"outlinewidth\": 0, \"ticks\": \"\"}, \"type\": \"contourcarpet\"}], \"heatmap\": [{\"colorbar\": {\"outlinewidth\": 0, \"ticks\": \"\"}, \"colorscale\": [[0.0, \"#0d0887\"], [0.1111111111111111, \"#46039f\"], [0.2222222222222222, \"#7201a8\"], [0.3333333333333333, \"#9c179e\"], [0.4444444444444444, \"#bd3786\"], [0.5555555555555556, \"#d8576b\"], [0.6666666666666666, \"#ed7953\"], [0.7777777777777778, \"#fb9f3a\"], [0.8888888888888888, \"#fdca26\"], [1.0, \"#f0f921\"]], \"type\": \"heatmap\"}], \"heatmapgl\": [{\"colorbar\": {\"outlinewidth\": 0, \"ticks\": \"\"}, \"colorscale\": [[0.0, \"#0d0887\"], [0.1111111111111111, \"#46039f\"], [0.2222222222222222, \"#7201a8\"], [0.3333333333333333, \"#9c179e\"], [0.4444444444444444, \"#bd3786\"], [0.5555555555555556, \"#d8576b\"], [0.6666666666666666, \"#ed7953\"], [0.7777777777777778, \"#fb9f3a\"], [0.8888888888888888, \"#fdca26\"], [1.0, \"#f0f921\"]], \"type\": \"heatmapgl\"}], \"histogram\": [{\"marker\": {\"colorbar\": {\"outlinewidth\": 0, \"ticks\": \"\"}}, \"type\": \"histogram\"}], \"histogram2d\": [{\"colorbar\": {\"outlinewidth\": 0, \"ticks\": \"\"}, \"colorscale\": [[0.0, \"#0d0887\"], [0.1111111111111111, \"#46039f\"], [0.2222222222222222, \"#7201a8\"], [0.3333333333333333, \"#9c179e\"], [0.4444444444444444, \"#bd3786\"], [0.5555555555555556, \"#d8576b\"], [0.6666666666666666, \"#ed7953\"], [0.7777777777777778, \"#fb9f3a\"], [0.8888888888888888, \"#fdca26\"], [1.0, \"#f0f921\"]], \"type\": \"histogram2d\"}], \"histogram2dcontour\": [{\"colorbar\": {\"outlinewidth\": 0, \"ticks\": \"\"}, \"colorscale\": [[0.0, \"#0d0887\"], [0.1111111111111111, \"#46039f\"], [0.2222222222222222, \"#7201a8\"], [0.3333333333333333, \"#9c179e\"], [0.4444444444444444, \"#bd3786\"], [0.5555555555555556, \"#d8576b\"], [0.6666666666666666, \"#ed7953\"], [0.7777777777777778, \"#fb9f3a\"], [0.8888888888888888, \"#fdca26\"], [1.0, \"#f0f921\"]], \"type\": \"histogram2dcontour\"}], \"mesh3d\": [{\"colorbar\": {\"outlinewidth\": 0, \"ticks\": \"\"}, \"type\": \"mesh3d\"}], \"parcoords\": [{\"line\": {\"colorbar\": {\"outlinewidth\": 0, \"ticks\": \"\"}}, \"type\": \"parcoords\"}], \"pie\": [{\"automargin\": true, \"type\": \"pie\"}], \"scatter\": [{\"marker\": {\"colorbar\": {\"outlinewidth\": 0, \"ticks\": \"\"}}, \"type\": \"scatter\"}], \"scatter3d\": [{\"line\": {\"colorbar\": {\"outlinewidth\": 0, \"ticks\": \"\"}}, \"marker\": {\"colorbar\": {\"outlinewidth\": 0, \"ticks\": \"\"}}, \"type\": \"scatter3d\"}], \"scattercarpet\": [{\"marker\": {\"colorbar\": {\"outlinewidth\": 0, \"ticks\": \"\"}}, \"type\": \"scattercarpet\"}], \"scattergeo\": [{\"marker\": {\"colorbar\": {\"outlinewidth\": 0, \"ticks\": \"\"}}, \"type\": \"scattergeo\"}], \"scattergl\": [{\"marker\": {\"colorbar\": {\"outlinewidth\": 0, \"ticks\": \"\"}}, \"type\": \"scattergl\"}], \"scattermapbox\": [{\"marker\": {\"colorbar\": {\"outlinewidth\": 0, \"ticks\": \"\"}}, \"type\": \"scattermapbox\"}], \"scatterpolar\": [{\"marker\": {\"colorbar\": {\"outlinewidth\": 0, \"ticks\": \"\"}}, \"type\": \"scatterpolar\"}], \"scatterpolargl\": [{\"marker\": {\"colorbar\": {\"outlinewidth\": 0, \"ticks\": \"\"}}, \"type\": \"scatterpolargl\"}], \"scatterternary\": [{\"marker\": {\"colorbar\": {\"outlinewidth\": 0, \"ticks\": \"\"}}, \"type\": \"scatterternary\"}], \"surface\": [{\"colorbar\": {\"outlinewidth\": 0, \"ticks\": \"\"}, \"colorscale\": [[0.0, \"#0d0887\"], [0.1111111111111111, \"#46039f\"], [0.2222222222222222, \"#7201a8\"], [0.3333333333333333, \"#9c179e\"], [0.4444444444444444, \"#bd3786\"], [0.5555555555555556, \"#d8576b\"], [0.6666666666666666, \"#ed7953\"], [0.7777777777777778, \"#fb9f3a\"], [0.8888888888888888, \"#fdca26\"], [1.0, \"#f0f921\"]], \"type\": \"surface\"}], \"table\": [{\"cells\": {\"fill\": {\"color\": \"#EBF0F8\"}, \"line\": {\"color\": \"white\"}}, \"header\": {\"fill\": {\"color\": \"#C8D4E3\"}, \"line\": {\"color\": \"white\"}}, \"type\": \"table\"}]}, \"layout\": {\"annotationdefaults\": {\"arrowcolor\": \"#2a3f5f\", \"arrowhead\": 0, \"arrowwidth\": 1}, \"coloraxis\": {\"colorbar\": {\"outlinewidth\": 0, \"ticks\": \"\"}}, \"colorscale\": {\"diverging\": [[0, \"#8e0152\"], [0.1, \"#c51b7d\"], [0.2, \"#de77ae\"], [0.3, \"#f1b6da\"], [0.4, \"#fde0ef\"], [0.5, \"#f7f7f7\"], [0.6, \"#e6f5d0\"], [0.7, \"#b8e186\"], [0.8, \"#7fbc41\"], [0.9, \"#4d9221\"], [1, \"#276419\"]], \"sequential\": [[0.0, \"#0d0887\"], [0.1111111111111111, \"#46039f\"], [0.2222222222222222, \"#7201a8\"], [0.3333333333333333, \"#9c179e\"], [0.4444444444444444, \"#bd3786\"], [0.5555555555555556, \"#d8576b\"], [0.6666666666666666, \"#ed7953\"], [0.7777777777777778, \"#fb9f3a\"], [0.8888888888888888, \"#fdca26\"], [1.0, \"#f0f921\"]], \"sequentialminus\": [[0.0, \"#0d0887\"], [0.1111111111111111, \"#46039f\"], [0.2222222222222222, \"#7201a8\"], [0.3333333333333333, \"#9c179e\"], [0.4444444444444444, \"#bd3786\"], [0.5555555555555556, \"#d8576b\"], [0.6666666666666666, \"#ed7953\"], [0.7777777777777778, \"#fb9f3a\"], [0.8888888888888888, \"#fdca26\"], [1.0, \"#f0f921\"]]}, \"colorway\": [\"#636efa\", \"#EF553B\", \"#00cc96\", \"#ab63fa\", \"#FFA15A\", \"#19d3f3\", \"#FF6692\", \"#B6E880\", \"#FF97FF\", \"#FECB52\"], \"font\": {\"color\": \"#2a3f5f\"}, \"geo\": {\"bgcolor\": \"white\", \"lakecolor\": \"white\", \"landcolor\": \"#E5ECF6\", \"showlakes\": true, \"showland\": true, \"subunitcolor\": \"white\"}, \"hoverlabel\": {\"align\": \"left\"}, \"hovermode\": \"closest\", \"mapbox\": {\"style\": \"light\"}, \"paper_bgcolor\": \"white\", \"plot_bgcolor\": \"#E5ECF6\", \"polar\": {\"angularaxis\": {\"gridcolor\": \"white\", \"linecolor\": \"white\", \"ticks\": \"\"}, \"bgcolor\": \"#E5ECF6\", \"radialaxis\": {\"gridcolor\": \"white\", \"linecolor\": \"white\", \"ticks\": \"\"}}, \"scene\": {\"xaxis\": {\"backgroundcolor\": \"#E5ECF6\", \"gridcolor\": \"white\", \"gridwidth\": 2, \"linecolor\": \"white\", \"showbackground\": true, \"ticks\": \"\", \"zerolinecolor\": \"white\"}, \"yaxis\": {\"backgroundcolor\": \"#E5ECF6\", \"gridcolor\": \"white\", \"gridwidth\": 2, \"linecolor\": \"white\", \"showbackground\": true, \"ticks\": \"\", \"zerolinecolor\": \"white\"}, \"zaxis\": {\"backgroundcolor\": \"#E5ECF6\", \"gridcolor\": \"white\", \"gridwidth\": 2, \"linecolor\": \"white\", \"showbackground\": true, \"ticks\": \"\", \"zerolinecolor\": \"white\"}}, \"shapedefaults\": {\"line\": {\"color\": \"#2a3f5f\"}}, \"ternary\": {\"aaxis\": {\"gridcolor\": \"white\", \"linecolor\": \"white\", \"ticks\": \"\"}, \"baxis\": {\"gridcolor\": \"white\", \"linecolor\": \"white\", \"ticks\": \"\"}, \"bgcolor\": \"#E5ECF6\", \"caxis\": {\"gridcolor\": \"white\", \"linecolor\": \"white\", \"ticks\": \"\"}}, \"title\": {\"x\": 0.05}, \"xaxis\": {\"automargin\": true, \"gridcolor\": \"white\", \"linecolor\": \"white\", \"ticks\": \"\", \"title\": {\"standoff\": 15}, \"zerolinecolor\": \"white\", \"zerolinewidth\": 2}, \"yaxis\": {\"automargin\": true, \"gridcolor\": \"white\", \"linecolor\": \"white\", \"ticks\": \"\", \"title\": {\"standoff\": 15}, \"zerolinecolor\": \"white\", \"zerolinewidth\": 2}}}, \"width\": 900, \"xaxis\": {\"anchor\": \"y\", \"domain\": [0.0, 1.0]}, \"xaxis2\": {\"anchor\": \"y2\", \"domain\": [0.0, 1.0]}, \"xaxis3\": {\"anchor\": \"y3\", \"domain\": [0.0, 1.0]}, \"xaxis4\": {\"anchor\": \"y4\", \"domain\": [0.0, 1.0]}, \"xaxis5\": {\"anchor\": \"y5\", \"domain\": [0.0, 1.0]}, \"xaxis6\": {\"anchor\": \"y6\", \"domain\": [0.0, 1.0]}, \"yaxis\": {\"anchor\": \"x\", \"domain\": [0.9027777777777777, 0.9999999999999999]}, \"yaxis2\": {\"anchor\": \"x2\", \"domain\": [0.7222222222222222, 0.8194444444444444]}, \"yaxis3\": {\"anchor\": \"x3\", \"domain\": [0.5416666666666667, 0.638888888888889]}, \"yaxis4\": {\"anchor\": \"x4\", \"domain\": [0.3611111111111111, 0.4583333333333333]}, \"yaxis5\": {\"anchor\": \"x5\", \"domain\": [0.18055555555555555, 0.2777777777777778]}, \"yaxis6\": {\"anchor\": \"x6\", \"domain\": [0.0, 0.09722222222222222]}},\n",
              "                        {\"responsive\": true}\n",
              "                    ).then(function(){\n",
              "                            \n",
              "var gd = document.getElementById('6032d8a3-228d-490c-a695-2f349b961cd7');\n",
              "var x = new MutationObserver(function (mutations, observer) {{\n",
              "        var display = window.getComputedStyle(gd).display;\n",
              "        if (!display || display === 'none') {{\n",
              "            console.log([gd, 'removed!']);\n",
              "            Plotly.purge(gd);\n",
              "            observer.disconnect();\n",
              "        }}\n",
              "}});\n",
              "\n",
              "// Listen for the removal of the full notebook cells\n",
              "var notebookContainer = gd.closest('#notebook-container');\n",
              "if (notebookContainer) {{\n",
              "    x.observe(notebookContainer, {childList: true});\n",
              "}}\n",
              "\n",
              "// Listen for the clearing of the current output cell\n",
              "var outputEl = gd.closest('.output');\n",
              "if (outputEl) {{\n",
              "    x.observe(outputEl, {childList: true});\n",
              "}}\n",
              "\n",
              "                        })\n",
              "                };\n",
              "                });\n",
              "            </script>\n",
              "        </div>"
            ],
            "application/vnd.plotly.v1+json": {
              "data": [
                {
                  "textposition": "auto",
                  "hovertemplate": "Feature=%{x}<br>Importance=%{y}",
                  "showlegend": false,
                  "legendgroup": "",
                  "name": "",
                  "yaxis": "y",
                  "y": [
                    4.232517738826715,
                    2.0115541873315417,
                    1.928535008996016,
                    1.3580328539055835,
                    1.315728710101278,
                    1.2770723406870161,
                    1.1825121038454678,
                    1.1245870805736076
                  ],
                  "hoverlabel": {
                    "namelength": 0
                  },
                  "offsetgroup": "",
                  "xaxis": "x",
                  "marker": {
                    "color": "#636efa"
                  },
                  "x": [
                    "tBodyAccJerk-entropy()-Z",
                    "tBodyAcc-iqr()-Z",
                    "fBodyBodyGyroMag-mean()",
                    "tBodyAcc-iqr()-X",
                    "fBodyAccJerk-bandsEnergy()-49,56.1",
                    "fBodyBodyGyroJerkMag-maxInds",
                    "fBodyGyro-bandsEnergy()-1,16",
                    "fBodyGyro-bandsEnergy()-33,48.1"
                  ],
                  "alignmentgroup": "True",
                  "type": "bar",
                  "orientation": "v"
                },
                {
                  "textposition": "auto",
                  "hovertemplate": "Feature=%{x}<br>Importance=%{y}",
                  "showlegend": false,
                  "legendgroup": "",
                  "name": "",
                  "yaxis": "y2",
                  "y": [
                    3.4195731077461864,
                    1.7250828008499468,
                    1.6518417838889956,
                    1.5119922099301355,
                    1.3406797339039271,
                    1.2805083965842856,
                    1.1056671492488244,
                    1.0957712201165084
                  ],
                  "hoverlabel": {
                    "namelength": 0
                  },
                  "offsetgroup": "",
                  "xaxis": "x2",
                  "marker": {
                    "color": "#636efa"
                  },
                  "x": [
                    "tBodyAcc-iqr()-X",
                    "angle(Y,gravityMean)",
                    "fBodyGyro-mean()-Z",
                    "fBodyGyro-bandsEnergy()-33,48.2",
                    "tBodyAccJerk-mad()-Y",
                    "tBodyAcc-energy()-Y",
                    "fBodyGyro-meanFreq()-X",
                    "fBodyAccJerk-maxInds-Z"
                  ],
                  "alignmentgroup": "True",
                  "type": "bar",
                  "orientation": "v"
                },
                {
                  "textposition": "auto",
                  "hovertemplate": "Feature=%{x}<br>Importance=%{y}",
                  "showlegend": false,
                  "legendgroup": "",
                  "name": "",
                  "yaxis": "y3",
                  "y": [
                    3.704797624533442,
                    1.8326991618767894,
                    1.7735899565513897,
                    1.2826267482380018,
                    1.0848684369309165,
                    1.0053107808739248,
                    0.9417364458556928,
                    0.9393524513110233
                  ],
                  "hoverlabel": {
                    "namelength": 0
                  },
                  "offsetgroup": "",
                  "xaxis": "x3",
                  "marker": {
                    "color": "#636efa"
                  },
                  "x": [
                    "tBodyAccJerk-entropy()-Z",
                    "fBodyGyro-bandsEnergy()-33,48.2",
                    "tBodyAcc-iqr()-X",
                    "angle(Y,gravityMean)",
                    "tBodyAcc-energy()-Y",
                    "fBodyGyro-meanFreq()-X",
                    "fBodyAccJerk-bandsEnergy()-49,64",
                    "fBodyBodyGyroMag-mean()"
                  ],
                  "alignmentgroup": "True",
                  "type": "bar",
                  "orientation": "v"
                },
                {
                  "textposition": "auto",
                  "hovertemplate": "Feature=%{x}<br>Importance=%{y}",
                  "showlegend": false,
                  "legendgroup": "",
                  "name": "",
                  "yaxis": "y4",
                  "y": [
                    0.9102356360497449,
                    0.7875274130122043,
                    0.6975801524515128,
                    0.6866611264315806,
                    0.6644039280348114,
                    0.6429888827428093,
                    0.605826118590407,
                    0.6034121345007658
                  ],
                  "hoverlabel": {
                    "namelength": 0
                  },
                  "offsetgroup": "",
                  "xaxis": "x4",
                  "marker": {
                    "color": "#636efa"
                  },
                  "x": [
                    "fBodyAccJerk-bandsEnergy()-57,64.2",
                    "tBodyAcc-energy()-Y",
                    "fBodyAcc-bandsEnergy()-1,16",
                    "fBodyGyro-mean()-Y",
                    "tBodyAcc-mad()-Z",
                    "tBodyAccJerkMag-arCoeff()2",
                    "fBodyGyro-bandsEnergy()-33,48.2",
                    "fBodyGyro-entropy()-Z"
                  ],
                  "alignmentgroup": "True",
                  "type": "bar",
                  "orientation": "v"
                },
                {
                  "textposition": "auto",
                  "hovertemplate": "Feature=%{x}<br>Importance=%{y}",
                  "showlegend": false,
                  "legendgroup": "",
                  "name": "",
                  "yaxis": "y5",
                  "y": [
                    0.8863841776271026,
                    0.7725186569020829,
                    0.7661306687255032,
                    0.7246371863004886,
                    0.6627904270210102,
                    0.6562219802207709,
                    0.6487551105878379,
                    0.6434246995557877
                  ],
                  "hoverlabel": {
                    "namelength": 0
                  },
                  "offsetgroup": "",
                  "xaxis": "x5",
                  "marker": {
                    "color": "#636efa"
                  },
                  "x": [
                    "fBodyGyro-bandsEnergy()-49,64",
                    "fBodyBodyGyroJerkMag-max()",
                    "fBodyGyro-bandsEnergy()-57,64",
                    "fBodyAcc-bandsEnergy()-9,16.1",
                    "fBodyGyro-mean()-Y",
                    "fBodyGyro-bandsEnergy()-1,16.1",
                    "tBodyAccJerkMag-arCoeff()2",
                    "fBodyAcc-bandsEnergy()-1,16"
                  ],
                  "alignmentgroup": "True",
                  "type": "bar",
                  "orientation": "v"
                },
                {
                  "textposition": "auto",
                  "hovertemplate": "Feature=%{x}<br>Importance=%{y}",
                  "showlegend": false,
                  "legendgroup": "",
                  "name": "",
                  "yaxis": "y6",
                  "y": [
                    0.8513917046309097,
                    0.7546235117536079,
                    0.679288159089663,
                    0.6779014477952393,
                    0.6723399578051507,
                    0.6564843951675219,
                    0.6477508213234309,
                    0.6378941678587124
                  ],
                  "hoverlabel": {
                    "namelength": 0
                  },
                  "offsetgroup": "",
                  "xaxis": "x6",
                  "marker": {
                    "color": "#636efa"
                  },
                  "x": [
                    "fBodyGyro-bandsEnergy()-57,64",
                    "tBodyAcc-energy()-Y",
                    "tBodyAccJerk-entropy()-Z",
                    "subject",
                    "fBodyGyro-bandsEnergy()-1,16.1",
                    "fBodyGyro-iqr()-Y",
                    "fBodyGyro-bandsEnergy()-49,64",
                    "fBodyGyro-entropy()-Z"
                  ],
                  "alignmentgroup": "True",
                  "type": "bar",
                  "orientation": "v"
                }
              ],
              "config": {
                "plotlyServerURL": "https://plot.ly"
              },
              "layout": {
                "yaxis6": {
                  "domain": [
                    0,
                    0.09722222222222222
                  ],
                  "anchor": "x6"
                },
                "template": {
                  "layout": {
                    "shapedefaults": {
                      "line": {
                        "color": "#2a3f5f"
                      }
                    },
                    "polar": {
                      "radialaxis": {
                        "ticks": "",
                        "gridcolor": "white",
                        "linecolor": "white"
                      },
                      "bgcolor": "#E5ECF6",
                      "angularaxis": {
                        "ticks": "",
                        "gridcolor": "white",
                        "linecolor": "white"
                      }
                    },
                    "colorway": [
                      "#636efa",
                      "#EF553B",
                      "#00cc96",
                      "#ab63fa",
                      "#FFA15A",
                      "#19d3f3",
                      "#FF6692",
                      "#B6E880",
                      "#FF97FF",
                      "#FECB52"
                    ],
                    "xaxis": {
                      "automargin": true,
                      "title": {
                        "standoff": 15
                      },
                      "zerolinewidth": 2,
                      "ticks": "",
                      "zerolinecolor": "white",
                      "gridcolor": "white",
                      "linecolor": "white"
                    },
                    "colorscale": {
                      "diverging": [
                        [
                          0,
                          "#8e0152"
                        ],
                        [
                          0.1,
                          "#c51b7d"
                        ],
                        [
                          0.2,
                          "#de77ae"
                        ],
                        [
                          0.3,
                          "#f1b6da"
                        ],
                        [
                          0.4,
                          "#fde0ef"
                        ],
                        [
                          0.5,
                          "#f7f7f7"
                        ],
                        [
                          0.6,
                          "#e6f5d0"
                        ],
                        [
                          0.7,
                          "#b8e186"
                        ],
                        [
                          0.8,
                          "#7fbc41"
                        ],
                        [
                          0.9,
                          "#4d9221"
                        ],
                        [
                          1,
                          "#276419"
                        ]
                      ],
                      "sequential": [
                        [
                          0,
                          "#0d0887"
                        ],
                        [
                          0.1111111111111111,
                          "#46039f"
                        ],
                        [
                          0.2222222222222222,
                          "#7201a8"
                        ],
                        [
                          0.3333333333333333,
                          "#9c179e"
                        ],
                        [
                          0.4444444444444444,
                          "#bd3786"
                        ],
                        [
                          0.5555555555555556,
                          "#d8576b"
                        ],
                        [
                          0.6666666666666666,
                          "#ed7953"
                        ],
                        [
                          0.7777777777777778,
                          "#fb9f3a"
                        ],
                        [
                          0.8888888888888888,
                          "#fdca26"
                        ],
                        [
                          1,
                          "#f0f921"
                        ]
                      ],
                      "sequentialminus": [
                        [
                          0,
                          "#0d0887"
                        ],
                        [
                          0.1111111111111111,
                          "#46039f"
                        ],
                        [
                          0.2222222222222222,
                          "#7201a8"
                        ],
                        [
                          0.3333333333333333,
                          "#9c179e"
                        ],
                        [
                          0.4444444444444444,
                          "#bd3786"
                        ],
                        [
                          0.5555555555555556,
                          "#d8576b"
                        ],
                        [
                          0.6666666666666666,
                          "#ed7953"
                        ],
                        [
                          0.7777777777777778,
                          "#fb9f3a"
                        ],
                        [
                          0.8888888888888888,
                          "#fdca26"
                        ],
                        [
                          1,
                          "#f0f921"
                        ]
                      ]
                    },
                    "paper_bgcolor": "white",
                    "plot_bgcolor": "#E5ECF6",
                    "title": {
                      "x": 0.05
                    },
                    "scene": {
                      "zaxis": {
                        "backgroundcolor": "#E5ECF6",
                        "ticks": "",
                        "gridwidth": 2,
                        "showbackground": true,
                        "zerolinecolor": "white",
                        "gridcolor": "white",
                        "linecolor": "white"
                      },
                      "xaxis": {
                        "backgroundcolor": "#E5ECF6",
                        "ticks": "",
                        "gridwidth": 2,
                        "showbackground": true,
                        "zerolinecolor": "white",
                        "gridcolor": "white",
                        "linecolor": "white"
                      },
                      "yaxis": {
                        "backgroundcolor": "#E5ECF6",
                        "ticks": "",
                        "gridwidth": 2,
                        "showbackground": true,
                        "zerolinecolor": "white",
                        "gridcolor": "white",
                        "linecolor": "white"
                      }
                    },
                    "yaxis": {
                      "automargin": true,
                      "title": {
                        "standoff": 15
                      },
                      "zerolinewidth": 2,
                      "ticks": "",
                      "zerolinecolor": "white",
                      "gridcolor": "white",
                      "linecolor": "white"
                    },
                    "annotationdefaults": {
                      "arrowwidth": 1,
                      "arrowhead": 0,
                      "arrowcolor": "#2a3f5f"
                    },
                    "hoverlabel": {
                      "align": "left"
                    },
                    "ternary": {
                      "bgcolor": "#E5ECF6",
                      "baxis": {
                        "ticks": "",
                        "gridcolor": "white",
                        "linecolor": "white"
                      },
                      "caxis": {
                        "ticks": "",
                        "gridcolor": "white",
                        "linecolor": "white"
                      },
                      "aaxis": {
                        "ticks": "",
                        "gridcolor": "white",
                        "linecolor": "white"
                      }
                    },
                    "mapbox": {
                      "style": "light"
                    },
                    "hovermode": "closest",
                    "font": {
                      "color": "#2a3f5f"
                    },
                    "geo": {
                      "showland": true,
                      "landcolor": "#E5ECF6",
                      "showlakes": true,
                      "bgcolor": "white",
                      "subunitcolor": "white",
                      "lakecolor": "white"
                    },
                    "coloraxis": {
                      "colorbar": {
                        "outlinewidth": 0,
                        "ticks": ""
                      }
                    }
                  },
                  "data": {
                    "mesh3d": [
                      {
                        "colorbar": {
                          "outlinewidth": 0,
                          "ticks": ""
                        },
                        "type": "mesh3d"
                      }
                    ],
                    "scattercarpet": [
                      {
                        "marker": {
                          "colorbar": {
                            "outlinewidth": 0,
                            "ticks": ""
                          }
                        },
                        "type": "scattercarpet"
                      }
                    ],
                    "pie": [
                      {
                        "automargin": true,
                        "type": "pie"
                      }
                    ],
                    "surface": [
                      {
                        "colorbar": {
                          "outlinewidth": 0,
                          "ticks": ""
                        },
                        "type": "surface",
                        "colorscale": [
                          [
                            0,
                            "#0d0887"
                          ],
                          [
                            0.1111111111111111,
                            "#46039f"
                          ],
                          [
                            0.2222222222222222,
                            "#7201a8"
                          ],
                          [
                            0.3333333333333333,
                            "#9c179e"
                          ],
                          [
                            0.4444444444444444,
                            "#bd3786"
                          ],
                          [
                            0.5555555555555556,
                            "#d8576b"
                          ],
                          [
                            0.6666666666666666,
                            "#ed7953"
                          ],
                          [
                            0.7777777777777778,
                            "#fb9f3a"
                          ],
                          [
                            0.8888888888888888,
                            "#fdca26"
                          ],
                          [
                            1,
                            "#f0f921"
                          ]
                        ]
                      }
                    ],
                    "table": [
                      {
                        "header": {
                          "line": {
                            "color": "white"
                          },
                          "fill": {
                            "color": "#C8D4E3"
                          }
                        },
                        "cells": {
                          "line": {
                            "color": "white"
                          },
                          "fill": {
                            "color": "#EBF0F8"
                          }
                        },
                        "type": "table"
                      }
                    ],
                    "scatterpolargl": [
                      {
                        "marker": {
                          "colorbar": {
                            "outlinewidth": 0,
                            "ticks": ""
                          }
                        },
                        "type": "scatterpolargl"
                      }
                    ],
                    "contour": [
                      {
                        "colorbar": {
                          "outlinewidth": 0,
                          "ticks": ""
                        },
                        "type": "contour",
                        "colorscale": [
                          [
                            0,
                            "#0d0887"
                          ],
                          [
                            0.1111111111111111,
                            "#46039f"
                          ],
                          [
                            0.2222222222222222,
                            "#7201a8"
                          ],
                          [
                            0.3333333333333333,
                            "#9c179e"
                          ],
                          [
                            0.4444444444444444,
                            "#bd3786"
                          ],
                          [
                            0.5555555555555556,
                            "#d8576b"
                          ],
                          [
                            0.6666666666666666,
                            "#ed7953"
                          ],
                          [
                            0.7777777777777778,
                            "#fb9f3a"
                          ],
                          [
                            0.8888888888888888,
                            "#fdca26"
                          ],
                          [
                            1,
                            "#f0f921"
                          ]
                        ]
                      }
                    ],
                    "carpet": [
                      {
                        "type": "carpet",
                        "baxis": {
                          "minorgridcolor": "white",
                          "gridcolor": "white",
                          "linecolor": "white",
                          "endlinecolor": "#2a3f5f",
                          "startlinecolor": "#2a3f5f"
                        },
                        "aaxis": {
                          "minorgridcolor": "white",
                          "gridcolor": "white",
                          "linecolor": "white",
                          "endlinecolor": "#2a3f5f",
                          "startlinecolor": "#2a3f5f"
                        }
                      }
                    ],
                    "contourcarpet": [
                      {
                        "colorbar": {
                          "outlinewidth": 0,
                          "ticks": ""
                        },
                        "type": "contourcarpet"
                      }
                    ],
                    "heatmap": [
                      {
                        "colorbar": {
                          "outlinewidth": 0,
                          "ticks": ""
                        },
                        "type": "heatmap",
                        "colorscale": [
                          [
                            0,
                            "#0d0887"
                          ],
                          [
                            0.1111111111111111,
                            "#46039f"
                          ],
                          [
                            0.2222222222222222,
                            "#7201a8"
                          ],
                          [
                            0.3333333333333333,
                            "#9c179e"
                          ],
                          [
                            0.4444444444444444,
                            "#bd3786"
                          ],
                          [
                            0.5555555555555556,
                            "#d8576b"
                          ],
                          [
                            0.6666666666666666,
                            "#ed7953"
                          ],
                          [
                            0.7777777777777778,
                            "#fb9f3a"
                          ],
                          [
                            0.8888888888888888,
                            "#fdca26"
                          ],
                          [
                            1,
                            "#f0f921"
                          ]
                        ]
                      }
                    ],
                    "scattermapbox": [
                      {
                        "marker": {
                          "colorbar": {
                            "outlinewidth": 0,
                            "ticks": ""
                          }
                        },
                        "type": "scattermapbox"
                      }
                    ],
                    "scatter3d": [
                      {
                        "marker": {
                          "colorbar": {
                            "outlinewidth": 0,
                            "ticks": ""
                          }
                        },
                        "line": {
                          "colorbar": {
                            "outlinewidth": 0,
                            "ticks": ""
                          }
                        },
                        "type": "scatter3d"
                      }
                    ],
                    "scattergl": [
                      {
                        "marker": {
                          "colorbar": {
                            "outlinewidth": 0,
                            "ticks": ""
                          }
                        },
                        "type": "scattergl"
                      }
                    ],
                    "scatterternary": [
                      {
                        "marker": {
                          "colorbar": {
                            "outlinewidth": 0,
                            "ticks": ""
                          }
                        },
                        "type": "scatterternary"
                      }
                    ],
                    "histogram": [
                      {
                        "marker": {
                          "colorbar": {
                            "outlinewidth": 0,
                            "ticks": ""
                          }
                        },
                        "type": "histogram"
                      }
                    ],
                    "heatmapgl": [
                      {
                        "colorbar": {
                          "outlinewidth": 0,
                          "ticks": ""
                        },
                        "type": "heatmapgl",
                        "colorscale": [
                          [
                            0,
                            "#0d0887"
                          ],
                          [
                            0.1111111111111111,
                            "#46039f"
                          ],
                          [
                            0.2222222222222222,
                            "#7201a8"
                          ],
                          [
                            0.3333333333333333,
                            "#9c179e"
                          ],
                          [
                            0.4444444444444444,
                            "#bd3786"
                          ],
                          [
                            0.5555555555555556,
                            "#d8576b"
                          ],
                          [
                            0.6666666666666666,
                            "#ed7953"
                          ],
                          [
                            0.7777777777777778,
                            "#fb9f3a"
                          ],
                          [
                            0.8888888888888888,
                            "#fdca26"
                          ],
                          [
                            1,
                            "#f0f921"
                          ]
                        ]
                      }
                    ],
                    "scatterpolar": [
                      {
                        "marker": {
                          "colorbar": {
                            "outlinewidth": 0,
                            "ticks": ""
                          }
                        },
                        "type": "scatterpolar"
                      }
                    ],
                    "histogram2d": [
                      {
                        "colorbar": {
                          "outlinewidth": 0,
                          "ticks": ""
                        },
                        "type": "histogram2d",
                        "colorscale": [
                          [
                            0,
                            "#0d0887"
                          ],
                          [
                            0.1111111111111111,
                            "#46039f"
                          ],
                          [
                            0.2222222222222222,
                            "#7201a8"
                          ],
                          [
                            0.3333333333333333,
                            "#9c179e"
                          ],
                          [
                            0.4444444444444444,
                            "#bd3786"
                          ],
                          [
                            0.5555555555555556,
                            "#d8576b"
                          ],
                          [
                            0.6666666666666666,
                            "#ed7953"
                          ],
                          [
                            0.7777777777777778,
                            "#fb9f3a"
                          ],
                          [
                            0.8888888888888888,
                            "#fdca26"
                          ],
                          [
                            1,
                            "#f0f921"
                          ]
                        ]
                      }
                    ],
                    "scattergeo": [
                      {
                        "marker": {
                          "colorbar": {
                            "outlinewidth": 0,
                            "ticks": ""
                          }
                        },
                        "type": "scattergeo"
                      }
                    ],
                    "bar": [
                      {
                        "marker": {
                          "line": {
                            "color": "#E5ECF6",
                            "width": 0.5
                          }
                        },
                        "type": "bar",
                        "error_x": {
                          "color": "#2a3f5f"
                        },
                        "error_y": {
                          "color": "#2a3f5f"
                        }
                      }
                    ],
                    "choropleth": [
                      {
                        "colorbar": {
                          "outlinewidth": 0,
                          "ticks": ""
                        },
                        "type": "choropleth"
                      }
                    ],
                    "parcoords": [
                      {
                        "line": {
                          "colorbar": {
                            "outlinewidth": 0,
                            "ticks": ""
                          }
                        },
                        "type": "parcoords"
                      }
                    ],
                    "barpolar": [
                      {
                        "marker": {
                          "line": {
                            "color": "#E5ECF6",
                            "width": 0.5
                          }
                        },
                        "type": "barpolar"
                      }
                    ],
                    "histogram2dcontour": [
                      {
                        "colorbar": {
                          "outlinewidth": 0,
                          "ticks": ""
                        },
                        "type": "histogram2dcontour",
                        "colorscale": [
                          [
                            0,
                            "#0d0887"
                          ],
                          [
                            0.1111111111111111,
                            "#46039f"
                          ],
                          [
                            0.2222222222222222,
                            "#7201a8"
                          ],
                          [
                            0.3333333333333333,
                            "#9c179e"
                          ],
                          [
                            0.4444444444444444,
                            "#bd3786"
                          ],
                          [
                            0.5555555555555556,
                            "#d8576b"
                          ],
                          [
                            0.6666666666666666,
                            "#ed7953"
                          ],
                          [
                            0.7777777777777778,
                            "#fb9f3a"
                          ],
                          [
                            0.8888888888888888,
                            "#fdca26"
                          ],
                          [
                            1,
                            "#f0f921"
                          ]
                        ]
                      }
                    ],
                    "scatter": [
                      {
                        "marker": {
                          "colorbar": {
                            "outlinewidth": 0,
                            "ticks": ""
                          }
                        },
                        "type": "scatter"
                      }
                    ]
                  }
                },
                "yaxis": {
                  "domain": [
                    0.9027777777777777,
                    0.9999999999999999
                  ],
                  "anchor": "x"
                },
                "xaxis6": {
                  "domain": [
                    0,
                    1
                  ],
                  "anchor": "y6"
                },
                "xaxis5": {
                  "domain": [
                    0,
                    1
                  ],
                  "anchor": "y5"
                },
                "xaxis4": {
                  "domain": [
                    0,
                    1
                  ],
                  "anchor": "y4"
                },
                "xaxis3": {
                  "domain": [
                    0,
                    1
                  ],
                  "anchor": "y3"
                },
                "xaxis2": {
                  "domain": [
                    0,
                    1
                  ],
                  "anchor": "y2"
                },
                "height": 2100,
                "width": 900,
                "yaxis2": {
                  "domain": [
                    0.7222222222222222,
                    0.8194444444444444
                  ],
                  "anchor": "x2"
                },
                "yaxis3": {
                  "domain": [
                    0.5416666666666667,
                    0.638888888888889
                  ],
                  "anchor": "x3"
                },
                "yaxis4": {
                  "domain": [
                    0.3611111111111111,
                    0.4583333333333333
                  ],
                  "anchor": "x4"
                },
                "yaxis5": {
                  "domain": [
                    0.18055555555555555,
                    0.2777777777777778
                  ],
                  "anchor": "x5"
                },
                "xaxis": {
                  "domain": [
                    0,
                    1
                  ],
                  "anchor": "y"
                },
                "annotations": [
                  {
                    "yanchor": "bottom",
                    "xref": "paper",
                    "xanchor": "center",
                    "yref": "paper",
                    "text": "LAYING",
                    "y": 0.9999999999999999,
                    "x": 0.5,
                    "font": {
                      "size": 16
                    },
                    "showarrow": false
                  },
                  {
                    "yanchor": "bottom",
                    "xref": "paper",
                    "xanchor": "center",
                    "yref": "paper",
                    "text": "SITTING",
                    "y": 0.8194444444444444,
                    "x": 0.5,
                    "font": {
                      "size": 16
                    },
                    "showarrow": false
                  },
                  {
                    "yanchor": "bottom",
                    "xref": "paper",
                    "xanchor": "center",
                    "yref": "paper",
                    "text": "STANDING",
                    "y": 0.638888888888889,
                    "x": 0.5,
                    "font": {
                      "size": 16
                    },
                    "showarrow": false
                  },
                  {
                    "yanchor": "bottom",
                    "xref": "paper",
                    "xanchor": "center",
                    "yref": "paper",
                    "text": "WALKING",
                    "y": 0.4583333333333333,
                    "x": 0.5,
                    "font": {
                      "size": 16
                    },
                    "showarrow": false
                  },
                  {
                    "yanchor": "bottom",
                    "xref": "paper",
                    "xanchor": "center",
                    "yref": "paper",
                    "text": "WALKING_DOWNSTAIRS",
                    "y": 0.2777777777777778,
                    "x": 0.5,
                    "font": {
                      "size": 16
                    },
                    "showarrow": false
                  },
                  {
                    "yanchor": "bottom",
                    "xref": "paper",
                    "xanchor": "center",
                    "yref": "paper",
                    "text": "WALKING_UPSTAIRS",
                    "y": 0.09722222222222222,
                    "x": 0.5,
                    "font": {
                      "size": 16
                    },
                    "showarrow": false
                  }
                ]
              }
            }
          },
          "metadata": {
            "tags": []
          }
        }
      ]
    },
    {
      "cell_type": "code",
      "metadata": {
        "id": "pwOS3dGHXHeP"
      },
      "source": [
        ""
      ],
      "execution_count": 35,
      "outputs": []
    }
  ]
}